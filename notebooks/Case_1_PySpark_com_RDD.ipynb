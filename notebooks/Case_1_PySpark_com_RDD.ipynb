{
  "nbformat": 4,
  "nbformat_minor": 0,
  "metadata": {
    "colab": {
      "provenance": [],
      "include_colab_link": true
    },
    "kernelspec": {
      "name": "python3",
      "display_name": "Python 3"
    },
    "language_info": {
      "name": "python"
    }
  },
  "cells": [
    {
      "cell_type": "markdown",
      "metadata": {
        "id": "view-in-github",
        "colab_type": "text"
      },
      "source": [
        "<a href=\"https://colab.research.google.com/github/nortonvanz/PySpark-Basics/blob/main/notebooks/Case_1_PySpark_com_RDD.ipynb\" target=\"_parent\"><img src=\"https://colab.research.google.com/assets/colab-badge.svg\" alt=\"Open In Colab\"/></a>"
      ]
    },
    {
      "cell_type": "code",
      "source": [
        "!apt-get install openjdk-8-jdk-headless -qq > /dev/null\n",
        "!wget -q https://archive.apache.org/dist/spark/spark-3.1.2/spark-3.1.2-bin-hadoop2.7.tgz\n",
        "!tar xf spark-3.1.2-bin-hadoop2.7.tgz\n",
        "!pip install -q findspark"
      ],
      "metadata": {
        "id": "vEJtLxe6MJBZ"
      },
      "execution_count": null,
      "outputs": []
    },
    {
      "cell_type": "markdown",
      "source": [
        "**Spark + Python = PySpark**\n",
        "\n",
        "Esse notebook introduz os conceitos básicos do Spark através de sua interface com a linguagem Python. Como aplicação inicial faremos o clássico examplo de contador de palavras . Com esse exemplo é possível entender a lógica de programação funcional para as diversas tarefas de exploração de dados distribuídos.\n",
        "Para isso utilizaremos o livro texto Trabalhos completos de William Shakespeare obtidos do Projeto Gutenberg. Veremos que esse mesmo algoritmo pode ser empregado em textos de qualquer tamanho.\n",
        "\n",
        "**Esse notebook contém:**\n",
        "\n",
        "Parte 1: Criando uma base RDD e RDDs de tuplas\n",
        "\n",
        "Parte 2: Manipulando RDDs de tuplas\n",
        "\n",
        "Parte 3: Encontrando palavras únicas e calculando médias\n",
        "\n",
        "Parte 4: Aplicar contagem de palavras em um arquivo\n",
        "\n",
        "Para os exercícios é aconselhável consultar a documentação da API do PySpark\n",
        "\n",
        "** Part 1: Criando e Manipulando RDDs **\n",
        "\n",
        "Nessa parte do notebook vamos criar uma base RDD a partir de uma lista com o comando parallelize.\n",
        "\n",
        "** (1a) Criando uma base RDD **\n",
        "\n",
        "Podemos criar uma base RDD de diversos tipos e fonte do Python com o comando sc.parallelize(fonte, particoes), sendo fonte uma variável contendo os dados (ex.: uma lista) e particoes o número de partições para trabalhar em paralelo."
      ],
      "metadata": {
        "id": "9whnlRPJMEAu"
      }
    },
    {
      "cell_type": "code",
      "source": [
        "import os\n",
        "os.environ[\"JAVA_HOME\"] = \"/usr/lib/jvm/java-8-openjdk-amd64\"\n",
        "os.environ[\"SPARK_HOME\"] = \"/content/spark-3.1.2-bin-hadoop2.7\""
      ],
      "metadata": {
        "id": "SgKaZ_2RNOIX"
      },
      "execution_count": null,
      "outputs": []
    },
    {
      "cell_type": "code",
      "source": [
        "import findspark\n",
        "findspark.init()"
      ],
      "metadata": {
        "id": "G3-zBUmwNWGL"
      },
      "execution_count": null,
      "outputs": []
    },
    {
      "cell_type": "code",
      "source": [
        "from pyspark import SparkFiles\n",
        "from pyspark import SparkContext"
      ],
      "metadata": {
        "id": "gSgH70Z1Cm8K"
      },
      "execution_count": null,
      "outputs": []
    },
    {
      "cell_type": "code",
      "source": [
        "#sempre vou criar um contexto:\n",
        "spark = SparkContext.getOrCreate()\n",
        "spark"
      ],
      "metadata": {
        "colab": {
          "base_uri": "https://localhost:8080/",
          "height": 196
        },
        "id": "srvxumCwCnxT",
        "outputId": "ce123b6d-3fd5-4244-b9f4-33a41765f94b"
      },
      "execution_count": null,
      "outputs": [
        {
          "output_type": "execute_result",
          "data": {
            "text/plain": [
              "<SparkContext master=local[*] appName=pyspark-shell>"
            ],
            "text/html": [
              "\n",
              "        <div>\n",
              "            <p><b>SparkContext</b></p>\n",
              "\n",
              "            <p><a href=\"http://cd6bd788b4f2:4040\">Spark UI</a></p>\n",
              "\n",
              "            <dl>\n",
              "              <dt>Version</dt>\n",
              "                <dd><code>v3.1.2</code></dd>\n",
              "              <dt>Master</dt>\n",
              "                <dd><code>local[*]</code></dd>\n",
              "              <dt>AppName</dt>\n",
              "                <dd><code>pyspark-shell</code></dd>\n",
              "            </dl>\n",
              "        </div>\n",
              "        "
            ]
          },
          "metadata": {},
          "execution_count": 9
        }
      ]
    },
    {
      "cell_type": "code",
      "execution_count": null,
      "metadata": {
        "id": "mK82T8DkMCgZ",
        "colab": {
          "base_uri": "https://localhost:8080/"
        },
        "outputId": "2abb5785-cf39-4499-87e1-6b729b27ef35"
      },
      "outputs": [
        {
          "output_type": "stream",
          "name": "stdout",
          "text": [
            "<class 'pyspark.rdd.RDD'>\n"
          ]
        }
      ],
      "source": [
        "ListaPalavras = ['gato', 'elefante', 'rato', 'rato', 'gato']\n",
        "#paralelizar em 6\n",
        "palavrasRDD = spark.parallelize(ListaPalavras, 6)\n",
        "#mostrar o tipo da estrutura de dados: RDD\n",
        "print(type(palavrasRDD))"
      ]
    },
    {
      "cell_type": "markdown",
      "source": [
        "** (1b) Plural **\n",
        "\n",
        "Vamos criar uma função que transforma uma palavra no plural adicionando uma letra 's' ao final da string. Em seguida vamos utilizar a função map() para aplicar a transformação em cada palavra do RDD.\n",
        "\n",
        "Em Python (e muitas outras linguagens) a concatenação de strings é custosa. Uma alternativa melhor é criar uma nova string utilizando str.format().\n",
        "\n",
        "Nota: a string entre os conjuntos de três aspas representa a documentação da função. Essa documentação é exibida com o comando help(). Vamos utilizar a padronização de documentação sugerida para o Python, manteremos essa documentação em inglês."
      ],
      "metadata": {
        "id": "OQr2o0wl38zI"
      }
    },
    {
      "cell_type": "code",
      "source": [
        "# EXERCICIO\n",
        "def Plural(palavra):\n",
        "    \"\"\"Adds an 's' to `palavra`.\n",
        "\n",
        "    Args:\n",
        "        palavra (str): A string.\n",
        "\n",
        "    Returns:\n",
        "        str: A string with 's' added to it.\n",
        "    \"\"\"\n",
        "    return f\"{palavra}s\"\n",
        "\n",
        "\n",
        "\n",
        "print (Plural('gato'))"
      ],
      "metadata": {
        "id": "TJYUoh8xNoDs",
        "colab": {
          "base_uri": "https://localhost:8080/"
        },
        "outputId": "69f61a37-93a0-42bd-e734-81382482e271"
      },
      "execution_count": null,
      "outputs": [
        {
          "output_type": "stream",
          "name": "stdout",
          "text": [
            "gatos\n"
          ]
        }
      ]
    },
    {
      "cell_type": "code",
      "source": [
        "help(Plural)"
      ],
      "metadata": {
        "colab": {
          "base_uri": "https://localhost:8080/"
        },
        "id": "luvTSy-K6vcx",
        "outputId": "9115a245-97d3-4638-f781-60d72ee8d7c7"
      },
      "execution_count": null,
      "outputs": [
        {
          "output_type": "stream",
          "name": "stdout",
          "text": [
            "Help on function Plural in module __main__:\n",
            "\n",
            "Plural(palavra)\n",
            "    Adds an 's' to `palavra`.\n",
            "    \n",
            "    Args:\n",
            "        palavra (str): A string.\n",
            "    \n",
            "    Returns:\n",
            "        str: A string with 's' added to it.\n",
            "\n"
          ]
        }
      ]
    },
    {
      "cell_type": "code",
      "source": [
        "#teste unitário: testa o que tá a direita do assert. Se for falso, exibe o que tá no segudno parâmetro: 'resultado incorreto!'\n",
        "assert Plural('rato')=='ratos', 'resultado incorreto!'\n",
        "print ('OK')"
      ],
      "metadata": {
        "colab": {
          "base_uri": "https://localhost:8080/"
        },
        "id": "5nwPsHcu6vsp",
        "outputId": "3ea30a5b-95b7-43bc-90dd-b5f7d036e878"
      },
      "execution_count": null,
      "outputs": [
        {
          "output_type": "stream",
          "name": "stdout",
          "text": [
            "OK\n"
          ]
        }
      ]
    },
    {
      "cell_type": "markdown",
      "source": [
        "** (1c) Aplicando a função ao RDD **\n",
        "\n",
        "Transforme cada palavra do nosso RDD em plural usando map()\n",
        "\n",
        "Em seguida, utilizaremos o comando collect() que retorna a RDD como uma lista do Python."
      ],
      "metadata": {
        "id": "iWh3VPj9mK43"
      }
    },
    {
      "cell_type": "code",
      "source": [
        "# EXERCICIO\n",
        "pluralRDD = palavrasRDD.map(lambda x : Plural(x))\n",
        "print (pluralRDD.collect())"
      ],
      "metadata": {
        "colab": {
          "base_uri": "https://localhost:8080/"
        },
        "id": "IcU43mKJMvbb",
        "outputId": "22db0ce1-7314-466f-ed76-c1d559f99f8f"
      },
      "execution_count": null,
      "outputs": [
        {
          "output_type": "stream",
          "name": "stdout",
          "text": [
            "['gatos', 'elefantes', 'ratos', 'ratos', 'gatos']\n"
          ]
        }
      ]
    },
    {
      "cell_type": "code",
      "source": [
        "assert pluralRDD.collect()==['gatos','elefantes','ratos','ratos','gatos'], 'valores incorretos!'\n",
        "print('OK')"
      ],
      "metadata": {
        "id": "J189sjEOM5AA",
        "colab": {
          "base_uri": "https://localhost:8080/"
        },
        "outputId": "6ed4f4bc-a0a4-4d67-ac59-6bf6875cbda0"
      },
      "execution_count": null,
      "outputs": [
        {
          "output_type": "stream",
          "name": "stdout",
          "text": [
            "OK\n"
          ]
        }
      ]
    },
    {
      "cell_type": "markdown",
      "source": [
        "** Nota: ** utilize o comando collect() apenas quando tiver certeza de que a lista caberá na memória. Para gravar os resultados de volta em arquivo texto ou base de dados utilizaremos outro comando.\n",
        "\n",
        "** (1d) Utilizando uma função lambda **\n",
        "\n",
        "Repita a criação de um RDD de plurais, porém utilizando uma função lambda.\n"
      ],
      "metadata": {
        "id": "rX5ap4jfMIYU"
      }
    },
    {
      "cell_type": "code",
      "source": [
        "# EXERCICIO\n",
        "pluralLambdaRDD = palavrasRDD.map(lambda x : f\"{x}s\")\n",
        "print (pluralLambdaRDD.collect())"
      ],
      "metadata": {
        "id": "oldUZWqXM-OB",
        "colab": {
          "base_uri": "https://localhost:8080/"
        },
        "outputId": "7fd3e5a2-8f34-41ea-e712-a9f600b9ad12"
      },
      "execution_count": null,
      "outputs": [
        {
          "output_type": "stream",
          "name": "stdout",
          "text": [
            "['gatos', 'elefantes', 'ratos', 'ratos', 'gatos']\n"
          ]
        }
      ]
    },
    {
      "cell_type": "code",
      "source": [
        "assert pluralLambdaRDD.collect()==['gatos','elefantes','ratos','ratos','gatos'], 'valores incorretos!'\n",
        "print ('OK')"
      ],
      "metadata": {
        "id": "UY4-a0lgNDLE",
        "colab": {
          "base_uri": "https://localhost:8080/"
        },
        "outputId": "a2c1bbd5-be26-4405-e3ce-0bb02774f3f7"
      },
      "execution_count": null,
      "outputs": [
        {
          "output_type": "stream",
          "name": "stdout",
          "text": [
            "OK\n"
          ]
        }
      ]
    },
    {
      "cell_type": "markdown",
      "source": [
        "** (1e) Tamanho de cada palavra **\n",
        "\n",
        "Agora use map() e uma função lambda para retornar o número de caracteres em cada palavra. Utilize collect() para armazenar o resultado em forma de listas na variável destino."
      ],
      "metadata": {
        "id": "mOgVkRACNKS5"
      }
    },
    {
      "cell_type": "code",
      "source": [
        "# EXERCICIO\n",
        "pluralTamanho = (pluralRDD.map(lambda x : len(x)).collect() )\n",
        "print (pluralTamanho)"
      ],
      "metadata": {
        "id": "RMY9VgzuNKzo",
        "colab": {
          "base_uri": "https://localhost:8080/"
        },
        "outputId": "b437713e-b59c-4521-ef79-0ff82a21227d"
      },
      "execution_count": null,
      "outputs": [
        {
          "output_type": "stream",
          "name": "stdout",
          "text": [
            "[5, 9, 5, 5, 5]\n"
          ]
        }
      ]
    },
    {
      "cell_type": "code",
      "source": [
        "assert pluralTamanho==[5,9,5,5,5], 'valores incorretos'\n",
        "print (\"OK\")"
      ],
      "metadata": {
        "colab": {
          "base_uri": "https://localhost:8080/"
        },
        "id": "BoFaGq0S7lfn",
        "outputId": "d0c50209-4bc2-4a08-f3cc-37bb859a32cf"
      },
      "execution_count": null,
      "outputs": [
        {
          "output_type": "stream",
          "name": "stdout",
          "text": [
            "OK\n"
          ]
        }
      ]
    },
    {
      "cell_type": "markdown",
      "source": [
        "\n",
        "** (1f) RDDs de pares e tuplas **\n",
        "\n",
        "Para contar a frequência de cada palavra de maneira distribuída, primeiro devemos atribuir um valor para cada palavra do RDD. Isso irá gerar um base de dados (chave, valor). Desse modo podemos agrupar a base através da chave, calculando a soma dos valores atribuídos. No nosso caso, vamos atribuir o valor 1 para cada palavra.\n",
        "\n",
        "Um RDD contendo a estrutura de tupla chave-valor (k,v) é chamada de RDD de tuplas ou pair RDD.\n",
        "\n",
        "Vamos criar nosso RDD de pares usando a transformação map() com uma função lambda()."
      ],
      "metadata": {
        "id": "FPPQDixJ7uQU"
      }
    },
    {
      "cell_type": "code",
      "source": [
        "\n",
        "# EXERCICIO\n",
        "palavraPar = palavrasRDD.map(lambda x : (x, 1))\n",
        "print (palavraPar.collect())"
      ],
      "metadata": {
        "id": "9m7eQms07s8s",
        "colab": {
          "base_uri": "https://localhost:8080/"
        },
        "outputId": "d9926ed7-88bb-4b19-c18f-c3015867fb5c"
      },
      "execution_count": null,
      "outputs": [
        {
          "output_type": "stream",
          "name": "stdout",
          "text": [
            "[('gato', 1), ('elefante', 1), ('rato', 1), ('rato', 1), ('gato', 1)]\n"
          ]
        }
      ]
    },
    {
      "cell_type": "code",
      "source": [
        "assert palavraPar.collect() == [('gato',1),('elefante',1),('rato',1),('rato',1),('gato',1)], 'valores incorretos!'\n",
        "print (\"OK\")\n"
      ],
      "metadata": {
        "colab": {
          "base_uri": "https://localhost:8080/"
        },
        "id": "iBHZ-0ce7zpx",
        "outputId": "6d25e8a9-22ef-4194-82bc-e28ac52566a1"
      },
      "execution_count": null,
      "outputs": [
        {
          "output_type": "stream",
          "name": "stdout",
          "text": [
            "OK\n"
          ]
        }
      ]
    },
    {
      "cell_type": "markdown",
      "source": [
        "# **Parte 2: Manipulando RDD de tuplas **\n",
        "\n",
        "Vamos manipular nossa RDD para contar as palavras do texto.\n",
        "\n",
        "** (2a) Função groupByKey() **\n",
        "\n",
        "A função groupByKey() agrupa todos os valores de um RDD através da chave (primeiro elemento da tupla) agregando os valores em uma lista.\n",
        "Essa abordagem tem um ponto fraco pois:\n",
        "\n",
        "A operação requer que os dados distribuídos sejam movidos em massa para que permaneçam na partição correta.\n",
        "\n",
        "As listas podem se tornar muito grandes. Imagine contar todas as palavras do Wikipedia: termos comuns como \"a\", \"e\" formarão uma lista enorme de valores que pode não caber na memória do processo escravo.\n"
      ],
      "metadata": {
        "id": "6uTSWH4r78cI"
      }
    },
    {
      "cell_type": "code",
      "source": [
        "# EXERCICIO\n",
        "palavrasGrupo = palavraPar.groupByKey().mapValues(list)\n",
        "print(palavrasGrupo.collect())\n"
      ],
      "metadata": {
        "id": "PLzM6mcU712T",
        "colab": {
          "base_uri": "https://localhost:8080/"
        },
        "outputId": "d7055058-3b96-4787-fa74-18833c419189"
      },
      "execution_count": null,
      "outputs": [
        {
          "output_type": "stream",
          "name": "stdout",
          "text": [
            "[('elefante', [1]), ('rato', [1, 1]), ('gato', [1, 1])]\n"
          ]
        }
      ]
    },
    {
      "cell_type": "code",
      "source": [
        "assert sorted(palavrasGrupo.mapValues(lambda x: list(x)).collect()) == [('elefante', [1]), ('gato',[1, 1]), ('rato',[1, 1])], 'Valores incorretos!'\n",
        "print (\"OK\")"
      ],
      "metadata": {
        "id": "AS5RuS0H8GOb",
        "colab": {
          "base_uri": "https://localhost:8080/"
        },
        "outputId": "6f81cb24-42d9-4d54-f6e9-b7c560967495"
      },
      "execution_count": null,
      "outputs": [
        {
          "output_type": "stream",
          "name": "stdout",
          "text": [
            "OK\n"
          ]
        }
      ]
    },
    {
      "cell_type": "markdown",
      "source": [
        "* (2b) Calculando as contagens **\n",
        "\n",
        "Após o groupByKey() nossa RDD contém elementos compostos da palavra, como chave, e um iterador contendo todos os valores correspondentes aquela chave.\n",
        "\n",
        "Utilizando a transformação mapValues() e a função sum(), contrua um novo RDD que consiste de tuplas (chave, soma)."
      ],
      "metadata": {
        "id": "qcgwKUiR8IRc"
      }
    },
    {
      "cell_type": "code",
      "source": [
        "# EXERCICIO\n",
        "#contagemGroup = palavrasGrupo.map(lambda x : (x[0], sum(x[1])))\n",
        "def f(x): return sum(x)\n",
        "contagemGroup = palavrasGrupo.mapValues(f)\n",
        "\n",
        "\n",
        "print (contagemGroup.collect())"
      ],
      "metadata": {
        "id": "3cPgSlKp8MHV",
        "colab": {
          "base_uri": "https://localhost:8080/"
        },
        "outputId": "aacd255b-f3b8-406e-d27d-0107257c8135"
      },
      "execution_count": null,
      "outputs": [
        {
          "output_type": "stream",
          "name": "stdout",
          "text": [
            "[('elefante', 1), ('rato', 2), ('gato', 2)]\n"
          ]
        }
      ]
    },
    {
      "cell_type": "code",
      "source": [
        " assert list(sorted(contagemGroup.collect()))==[('elefante',1), ('gato',2), ('rato',2)], 'valores incorretos!'\n",
        "print (\"OK\")"
      ],
      "metadata": {
        "id": "aqXumASZ8SZY",
        "colab": {
          "base_uri": "https://localhost:8080/"
        },
        "outputId": "ab7ac516-5089-4142-aaf9-aa64a5660833"
      },
      "execution_count": null,
      "outputs": [
        {
          "output_type": "stream",
          "name": "stdout",
          "text": [
            "OK\n"
          ]
        }
      ]
    },
    {
      "cell_type": "markdown",
      "source": [
        "** (2c) reduceByKey **\n",
        "\n",
        "Um comando mais interessante para a contagem é o reduceByKey() que cria uma nova RDD de tuplas.\n",
        "\n",
        "Essa transformação aplica a transformação reduce() vista na aula anterior para os valores de cada chave. Dessa forma, a função de transformação pode ser aplicada em cada partição local para depois ser enviada para redistribuição de partições, reduzindo o total de dados sendo movidos e não mantendo listas grandes na memória."
      ],
      "metadata": {
        "id": "6ZobLGVP8Ufs"
      }
    },
    {
      "cell_type": "code",
      "source": [
        "from operator import add\n",
        "# EXERCICIO\n",
        "contagem = palavraPar.reduceByKey(add)\n",
        "print (contagem.collect())"
      ],
      "metadata": {
        "id": "TpdbPo048YFT",
        "colab": {
          "base_uri": "https://localhost:8080/"
        },
        "outputId": "5ad66898-bd04-423e-aa73-2940469e8fe5"
      },
      "execution_count": null,
      "outputs": [
        {
          "output_type": "stream",
          "name": "stdout",
          "text": [
            "[('elefante', 1), ('rato', 2), ('gato', 2)]\n"
          ]
        }
      ]
    },
    {
      "cell_type": "code",
      "source": [
        "assert sorted(contagem.collect())==[('elefante',1), ('gato',2), ('rato',2)], 'valores incorretos!'\n",
        "print (\"OK\")"
      ],
      "metadata": {
        "colab": {
          "base_uri": "https://localhost:8080/"
        },
        "id": "02OdaSEl8at0",
        "outputId": "a1ba5918-12b6-432d-de00-ec76aa60a0be"
      },
      "execution_count": null,
      "outputs": [
        {
          "output_type": "stream",
          "name": "stdout",
          "text": [
            "OK\n"
          ]
        }
      ]
    },
    {
      "cell_type": "markdown",
      "source": [
        "** (2d) Agrupando os comandos **\n",
        "\n",
        "A forma mais usual de realizar essa tarefa, partindo do nosso RDD palavrasRDD, é encadear os comandos map e reduceByKey em uma linha de comando."
      ],
      "metadata": {
        "id": "6Qd2hq6c8eyQ"
      }
    },
    {
      "cell_type": "code",
      "source": [
        "palavrasRDD.collect()"
      ],
      "metadata": {
        "colab": {
          "base_uri": "https://localhost:8080/"
        },
        "id": "O91j7NDGpGwD",
        "outputId": "07251477-75bc-4af9-db46-09b42928305e"
      },
      "execution_count": null,
      "outputs": [
        {
          "output_type": "execute_result",
          "data": {
            "text/plain": [
              "['gato', 'elefante', 'rato', 'rato', 'gato']"
            ]
          },
          "metadata": {},
          "execution_count": 97
        }
      ]
    },
    {
      "cell_type": "code",
      "source": [
        "# EXERCICIO\n",
        "contagemFinal = (palavrasRDD\n",
        "                 .map(lambda x : (x, 1))\n",
        "                 .reduceByKey(lambda x, y : x+y)\n",
        "                 )\n",
        "print (contagemFinal)"
      ],
      "metadata": {
        "id": "ZKyrzCbk8cJP",
        "colab": {
          "base_uri": "https://localhost:8080/"
        },
        "outputId": "433067e2-5226-49e7-b086-bdb501954515"
      },
      "execution_count": null,
      "outputs": [
        {
          "output_type": "stream",
          "name": "stdout",
          "text": [
            "PythonRDD[77] at RDD at PythonRDD.scala:53\n"
          ]
        }
      ]
    },
    {
      "cell_type": "code",
      "source": [
        "assert sorted(contagemFinal)==[('elefante', 1), ('gato', 2), ('rato', 2)], 'valores incorretos!'\n",
        "print (\"OK\")"
      ],
      "metadata": {
        "id": "yHQZHH_Y8f8M",
        "colab": {
          "base_uri": "https://localhost:8080/"
        },
        "outputId": "b261e22e-9bff-47ed-8a4d-a321db6ae44a"
      },
      "execution_count": null,
      "outputs": [
        {
          "output_type": "stream",
          "name": "stdout",
          "text": [
            "OK\n"
          ]
        }
      ]
    },
    {
      "cell_type": "markdown",
      "source": [
        " Parte 3: Encontrando as palavras únicas e calculando a média de contagem\n",
        "\n",
        "** (3a) Palavras Únicas **\n",
        "\n",
        "Calcule a quantidade de palavras únicas do RDD. Utilize comandos de RDD da API do PySpark e alguma das últimas RDDs geradas nos exercícios anteriores."
      ],
      "metadata": {
        "id": "jFW_Z28E8luv"
      }
    },
    {
      "cell_type": "code",
      "source": [
        "# EXERCICIO\n",
        "palavrasUnicas = contagemGroup.count()\n",
        "print (palavrasUnicas)"
      ],
      "metadata": {
        "id": "cx4mjiWd8pkj",
        "colab": {
          "base_uri": "https://localhost:8080/"
        },
        "outputId": "c41054bd-6257-4ad4-88fe-2e7a1bd97828"
      },
      "execution_count": null,
      "outputs": [
        {
          "output_type": "stream",
          "name": "stdout",
          "text": [
            "3\n"
          ]
        }
      ]
    },
    {
      "cell_type": "code",
      "source": [
        "assert palavrasUnicas==3, 'valor incorreto!'\n",
        "print (\"OK\")"
      ],
      "metadata": {
        "colab": {
          "base_uri": "https://localhost:8080/"
        },
        "id": "sizaEhZA8r6i",
        "outputId": "6c6615b1-ac6e-475e-e5dd-12176ae214d2"
      },
      "execution_count": null,
      "outputs": [
        {
          "output_type": "stream",
          "name": "stdout",
          "text": [
            "OK\n"
          ]
        }
      ]
    },
    {
      "cell_type": "markdown",
      "source": [
        "** (3b) Calculando a Média de contagem de palavras **\n",
        "\n",
        "Encontre a média de frequência das palavras utilizando o RDD contagem.\n",
        "\n",
        "Note que a função do comando reduce() é aplicada em cada tupla do RDD. Para realizar a soma das contagens, primeiro é necessário mapear o RDD para um RDD contendo apenas os valores das frequências (sem as chaves)."
      ],
      "metadata": {
        "id": "LSXtQwJv8x70"
      }
    },
    {
      "cell_type": "code",
      "source": [
        "contagemFinal.collect()"
      ],
      "metadata": {
        "colab": {
          "base_uri": "https://localhost:8080/"
        },
        "id": "imBVC8Z0sTpI",
        "outputId": "dc7e5df8-f163-4a5c-9047-3816d6e44553"
      },
      "execution_count": null,
      "outputs": [
        {
          "output_type": "execute_result",
          "data": {
            "text/plain": [
              "[('elefante', 1), ('rato', 2), ('gato', 2)]"
            ]
          },
          "metadata": {},
          "execution_count": 118
        }
      ]
    },
    {
      "cell_type": "code",
      "source": [
        "# EXERCICIO\n",
        "# add é equivalente a lambda x,y: x+y\n",
        "from operator import add\n",
        "total = (contagemFinal\n",
        "         .map(lambda x : x[1])\n",
        "         .reduce(add)\n",
        "         )\n",
        "media = total / float(palavrasUnicas)\n",
        "print (total)\n",
        "print (round(media, 2))"
      ],
      "metadata": {
        "id": "RH-G5fN98uF2",
        "colab": {
          "base_uri": "https://localhost:8080/"
        },
        "outputId": "f0d970c3-30ea-4559-9bf3-0ad81a8f047d"
      },
      "execution_count": null,
      "outputs": [
        {
          "output_type": "stream",
          "name": "stdout",
          "text": [
            "5\n",
            "1.67\n"
          ]
        }
      ]
    },
    {
      "cell_type": "code",
      "source": [
        "\n",
        "assert round(media, 2)==1.67, 'valores incorretos!'\n",
        "print (\"OK\")"
      ],
      "metadata": {
        "id": "Ea9dxdCM82_U",
        "colab": {
          "base_uri": "https://localhost:8080/"
        },
        "outputId": "4f222e8e-3454-4047-a37b-6f006b750bb9"
      },
      "execution_count": null,
      "outputs": [
        {
          "output_type": "stream",
          "name": "stdout",
          "text": [
            "OK\n"
          ]
        }
      ]
    },
    {
      "cell_type": "markdown",
      "source": [
        "** Parte 4: Aplicar nosso algoritmo em um arquivo **\n",
        "\n",
        "** (4a) Função contaPalavras **\n",
        "\n",
        "Para podermos aplicar nosso algoritmo genéricamente em diversos RDDs, vamos primeiro criar uma função para aplicá-lo em qualquer fonte de dados. Essa função recebe de entrada um RDD contendo uma lista de chaves (palavras) e retorna um RDD de tuplas com as chaves e a contagem delas nessa RDD"
      ],
      "metadata": {
        "id": "9CSRaGLN88DP"
      }
    },
    {
      "cell_type": "code",
      "source": [
        "# EXERCICIO\n",
        "def contaPalavras(chavesRDD):\n",
        "    \"\"\"Creates a pair RDD with word counts from an RDD of words.\n",
        "\n",
        "    Args:\n",
        "        chavesRDD (RDD of str): An RDD consisting of words.\n",
        "\n",
        "    Returns:\n",
        "        RDD of (str, int): An RDD consisting of (word, count) tuples.\n",
        "    \"\"\"\n",
        "    return (chavesRDD\n",
        "            .map(lambda x : (x, 1))\n",
        "            .reduceByKey(add)\n",
        "           )\n",
        "\n",
        "print (contaPalavras(palavrasRDD).collect())"
      ],
      "metadata": {
        "id": "FfMl-VXS8-LK",
        "colab": {
          "base_uri": "https://localhost:8080/"
        },
        "outputId": "163857c8-730b-4b6a-f698-eb528a9ecf97"
      },
      "execution_count": null,
      "outputs": [
        {
          "output_type": "stream",
          "name": "stdout",
          "text": [
            "[('elefante', 1), ('rato', 2), ('gato', 2)]\n"
          ]
        }
      ]
    },
    {
      "cell_type": "code",
      "source": [
        "\n",
        "assert sorted(contaPalavras(palavrasRDD).collect())==[('elefante',1), ('gato',2), ('rato',2)], 'valores incorretos!'\n",
        "print (\"OK\")"
      ],
      "metadata": {
        "id": "EOiprUeo9GC-",
        "colab": {
          "base_uri": "https://localhost:8080/"
        },
        "outputId": "4772aae5-cf3e-4d19-d99b-183c7dcf0c8c"
      },
      "execution_count": null,
      "outputs": [
        {
          "output_type": "stream",
          "name": "stdout",
          "text": [
            "OK\n"
          ]
        }
      ]
    },
    {
      "cell_type": "markdown",
      "source": [
        "** (4b) Normalizando o texto **\n",
        "Quando trabalhamos com dados reais, geralmente precisamos padronizar os atributos de tal forma que diferenças sutis por conta de erro de medição ou diferença de normatização, sejam desconsideradas. Para o próximo passo vamos padronizar o texto para:\n",
        "\n",
        "* Padronizar a capitalização das palavras (tudo maiúsculo ou tudo minúsculo).\n",
        "\n",
        "* Remover pontuação.\n",
        "\n",
        "* Remover espaços no início e no final da palavra.\n",
        "\n",
        "Crie uma função removerPontuacao que converte todo o texto para minúscula, remove qualquer pontuação e espaços em branco no início ou final da palavra. Para isso, utilize a biblioteca re para remover todo texto que não seja letra, número ou espaço, encadeando com as funções de string para remover espaços em branco e converter para minúscula (veja Strings)."
      ],
      "metadata": {
        "id": "i-9Af1O1te9t"
      }
    },
    {
      "cell_type": "code",
      "source": [
        "# EXERCICIO\n",
        "import re\n",
        "def removerPontuacao(texto):\n",
        "    \"\"\"Removes punctuation, changes to lower case, and strips leading and trailing spaces.\n",
        "\n",
        "    Note:\n",
        "        Only spaces, letters, and numbers should be retained.  Other characters should should be\n",
        "        eliminated (e.g. it's becomes its).  Leading and trailing spaces should be removed after\n",
        "        punctuation is removed.\n",
        "\n",
        "    Args:\n",
        "        texto (str): A string.\n",
        "\n",
        "    Returns:\n",
        "        str: The cleaned up string.\n",
        "    \"\"\""
      ],
      "metadata": {
        "id": "1TxPfVO29rkk"
      },
      "execution_count": null,
      "outputs": []
    },
    {
      "cell_type": "code",
      "source": [],
      "metadata": {
        "id": "RLXFkfh4tltn"
      },
      "execution_count": null,
      "outputs": []
    },
    {
      "cell_type": "code",
      "source": [],
      "metadata": {
        "id": "u54XFp1m3o6x"
      },
      "execution_count": null,
      "outputs": []
    }
  ]
}