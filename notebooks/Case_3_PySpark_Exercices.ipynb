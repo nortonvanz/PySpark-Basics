{
  "nbformat": 4,
  "nbformat_minor": 0,
  "metadata": {
    "colab": {
      "provenance": [],
      "include_colab_link": true
    },
    "kernelspec": {
      "name": "python3",
      "display_name": "Python 3"
    },
    "language_info": {
      "name": "python"
    }
  },
  "cells": [
    {
      "cell_type": "markdown",
      "metadata": {
        "id": "view-in-github",
        "colab_type": "text"
      },
      "source": [
        "<a href=\"https://colab.research.google.com/github/nortonvanz/PySpark-Basics/blob/main/notebooks/Case_3_PySpark_Exercices.ipynb\" target=\"_parent\"><img src=\"https://colab.research.google.com/assets/colab-badge.svg\" alt=\"Open In Colab\"/></a>"
      ]
    },
    {
      "cell_type": "code",
      "execution_count": 1,
      "metadata": {
        "id": "4a5FNX2d8UF1"
      },
      "outputs": [],
      "source": [
        "!apt-get install openjdk-8-jdk-headless -qq > /dev/null\n",
        "!wget -q https://archive.apache.org/dist/spark/spark-3.1.2/spark-3.1.2-bin-hadoop2.7.tgz\n",
        "!tar xf spark-3.1.2-bin-hadoop2.7.tgz\n",
        "!pip install -q findspark"
      ]
    },
    {
      "cell_type": "code",
      "source": [
        "import os\n",
        "os.environ[\"JAVA_HOME\"] = \"/usr/lib/jvm/java-8-openjdk-amd64\"\n",
        "os.environ[\"SPARK_HOME\"] = \"/content/spark-3.1.2-bin-hadoop2.7\""
      ],
      "metadata": {
        "id": "dWgXEdMV8Vov"
      },
      "execution_count": 2,
      "outputs": []
    },
    {
      "cell_type": "code",
      "source": [
        "import findspark\n",
        "findspark.init()"
      ],
      "metadata": {
        "id": "GQE8c2Xz8XMQ"
      },
      "execution_count": 3,
      "outputs": []
    },
    {
      "cell_type": "code",
      "source": [
        "from pyspark.sql import SparkSession\n",
        "from pyspark.sql.functions import *\n",
        "\n",
        "spark = SparkSession.builder \\\n",
        "    .master('local[*]') \\\n",
        "    .appName('Iniciando com Spark') \\\n",
        "    .config('spark.ui.port', '4050') \\\n",
        "    .getOrCreate()\n"
      ],
      "metadata": {
        "id": "YQ-RUywm8ZPv"
      },
      "execution_count": 4,
      "outputs": []
    },
    {
      "cell_type": "code",
      "source": [
        "#imports\n",
        "import random"
      ],
      "metadata": {
        "id": "fQvs88QQ7l0D"
      },
      "execution_count": 5,
      "outputs": []
    },
    {
      "cell_type": "markdown",
      "source": [
        "# Load Datasets"
      ],
      "metadata": {
        "id": "DOrCrom-7pcQ"
      }
    },
    {
      "cell_type": "code",
      "source": [
        "#Carrega datasets do github:\n",
        "!wget --quiet --show-progress https://raw.githubusercontent.com/iara/desafio_cogna/main/dataset/tabela_profile.csv\n",
        "!wget --quiet --show-progress https://raw.githubusercontent.com/iara/desafio_cogna/main/dataset/tabela_carro.csv\n",
        "!wget --quiet --show-progress https://raw.githubusercontent.com/iara/desafio_cogna/main/dataset/tabela_emprego.csv"
      ],
      "metadata": {
        "colab": {
          "base_uri": "https://localhost:8080/"
        },
        "id": "hySmMt0o8bB9",
        "outputId": "e29e4395-23b7-490e-da3c-f9122376f141"
      },
      "execution_count": 6,
      "outputs": [
        {
          "output_type": "stream",
          "name": "stdout",
          "text": [
            "tabela_profile.csv  100%[===================>]   1.30M  --.-KB/s    in 0.08s   \n",
            "tabela_carro.csv    100%[===================>] 159.33K  --.-KB/s    in 0.04s   \n",
            "tabela_emprego.csv  100%[===================>] 196.54K  --.-KB/s    in 0.04s   \n"
          ]
        }
      ]
    },
    {
      "cell_type": "code",
      "source": [
        "#arquivos salvos no Colab\n",
        "!ls"
      ],
      "metadata": {
        "colab": {
          "base_uri": "https://localhost:8080/"
        },
        "id": "u43Rz3oZzxDd",
        "outputId": "4bcc22a9-fab6-4370-c950-95fe5ced1acd"
      },
      "execution_count": 7,
      "outputs": [
        {
          "output_type": "stream",
          "name": "stdout",
          "text": [
            "sample_data\t\t   spark-3.1.2-bin-hadoop2.7.tgz  tabela_emprego.csv\n",
            "spark-3.1.2-bin-hadoop2.7  tabela_carro.csv\t\t  tabela_profile.csv\n"
          ]
        }
      ]
    },
    {
      "cell_type": "code",
      "source": [
        "df_pessoa = spark.read.csv(\"tabela_profile.csv\", sep=\",\", inferSchema=True, header=True)\n",
        "df_carro = spark.read.csv(\"tabela_carro.csv\", sep=\",\", inferSchema=True, header=True)\n",
        "df_emprego = spark.read.csv(\"tabela_emprego.csv\", inferSchema=True, header=True)"
      ],
      "metadata": {
        "id": "Ahf5ClqSX3bO"
      },
      "execution_count": 8,
      "outputs": []
    },
    {
      "cell_type": "code",
      "source": [
        "df_emprego.printSchema()"
      ],
      "metadata": {
        "colab": {
          "base_uri": "https://localhost:8080/"
        },
        "id": "7YSBLlXy0LLF",
        "outputId": "e249d015-d79e-427f-955f-311d93a10616"
      },
      "execution_count": 9,
      "outputs": [
        {
          "output_type": "stream",
          "name": "stdout",
          "text": [
            "root\n",
            " |-- id_profile: integer (nullable = true)\n",
            " |-- cargo: string (nullable = true)\n",
            " |-- empresa: string (nullable = true)\n",
            " |-- id_emprego: integer (nullable = true)\n",
            "\n"
          ]
        }
      ]
    },
    {
      "cell_type": "code",
      "source": [
        "df_pessoa.show(3)"
      ],
      "metadata": {
        "colab": {
          "base_uri": "https://localhost:8080/"
        },
        "id": "72hbFW3tybgx",
        "outputId": "6cf2202a-450a-493b-f329-11f413fa78b1"
      },
      "execution_count": 39,
      "outputs": [
        {
          "output_type": "stream",
          "name": "stdout",
          "text": [
            "+----------+-------------+--------------------+----+--------------------+--------------------+-----------+\n",
            "|id_profile|     username|                name|sexo|            endereço|               email|aniversario|\n",
            "+----------+-------------+--------------------+----+--------------------+--------------------+-----------+\n",
            "|    579363|       ynunes|    Augusto Ferreira|   H|Trecho Leandro Sa...|ana-julia59@ig.co...| 1934-05-04|\n",
            "|    739543|kamillyvieira|        Helena Viana|   M|Trevo Nogueira  4...|vianamaria-julia@...| 2000-07-17|\n",
            "|     75467| araujofelipe|Srta. Amanda Teix...|   M|Condomínio de Nov...|   qcastro@gmail.com| 1936-07-25|\n",
            "+----------+-------------+--------------------+----+--------------------+--------------------+-----------+\n",
            "only showing top 3 rows\n",
            "\n"
          ]
        }
      ]
    },
    {
      "cell_type": "code",
      "source": [
        "df_carro.show(3)"
      ],
      "metadata": {
        "colab": {
          "base_uri": "https://localhost:8080/"
        },
        "id": "4_aPS_5737-5",
        "outputId": "57433680-702a-451c-ee2f-f89aee343d01"
      },
      "execution_count": 11,
      "outputs": [
        {
          "output_type": "stream",
          "name": "stdout",
          "text": [
            "+----------+-----------+--------------+--------+\n",
            "|id_profile|placa_carro|data_aquisicao|id_carro|\n",
            "+----------+-----------+--------------+--------+\n",
            "|    591942|   ZHT-2654|    2001-03-06|   73634|\n",
            "|    381762|   LEL-7635|    1999-01-29|   39149|\n",
            "|    653260|   KUL-6169|    1999-06-13|   48149|\n",
            "+----------+-----------+--------------+--------+\n",
            "only showing top 3 rows\n",
            "\n"
          ]
        }
      ]
    },
    {
      "cell_type": "code",
      "source": [
        "df_emprego.show(3)"
      ],
      "metadata": {
        "colab": {
          "base_uri": "https://localhost:8080/"
        },
        "id": "7HPAcOZy4BiG",
        "outputId": "3c2b668b-6e94-4c55-b6dc-c622b876545b"
      },
      "execution_count": 12,
      "outputs": [
        {
          "output_type": "stream",
          "name": "stdout",
          "text": [
            "+----------+------------------+------------------+----------+\n",
            "|id_profile|             cargo|           empresa|id_emprego|\n",
            "+----------+------------------+------------------+----------+\n",
            "|     33062|Engenheiro químico|      da Conceição|     38503|\n",
            "|     97704|          Contador|Sales Caldeira S/A|     79501|\n",
            "|     19073|          Marechal|            Fogaça|     33353|\n",
            "+----------+------------------+------------------+----------+\n",
            "only showing top 3 rows\n",
            "\n"
          ]
        }
      ]
    },
    {
      "cell_type": "markdown",
      "source": [
        "# Questões de Negócio"
      ],
      "metadata": {
        "id": "WVT2S5Z87xei"
      }
    },
    {
      "cell_type": "markdown",
      "source": [
        "## 1 Quantas porcento das pessoas  empregadas?"
      ],
      "metadata": {
        "id": "zexsg62ZaE_B"
      }
    },
    {
      "cell_type": "code",
      "source": [
        "#juntar df_pessoa com df_emprego pelo id_profile\n",
        "df_pessoa = df_pessoa.join(df_emprego, [\"id_profile\"], \"left\")"
      ],
      "metadata": {
        "id": "5NjtNF_w4Rkl"
      },
      "execution_count": 40,
      "outputs": []
    },
    {
      "cell_type": "code",
      "source": [
        "df_pessoa.show(5)"
      ],
      "metadata": {
        "id": "DZlRlIArYIpI",
        "colab": {
          "base_uri": "https://localhost:8080/"
        },
        "outputId": "8e0f46bb-e1de-415e-a12e-9817ac8db6ce"
      },
      "execution_count": 41,
      "outputs": [
        {
          "output_type": "stream",
          "name": "stdout",
          "text": [
            "+----------+-------------+--------------------+----+--------------------+--------------------+-----------+-----+-------+----------+\n",
            "|id_profile|     username|                name|sexo|            endereço|               email|aniversario|cargo|empresa|id_emprego|\n",
            "+----------+-------------+--------------------+----+--------------------+--------------------+-----------+-----+-------+----------+\n",
            "|    579363|       ynunes|    Augusto Ferreira|   H|Trecho Leandro Sa...|ana-julia59@ig.co...| 1934-05-04| null|   null|      null|\n",
            "|    739543|kamillyvieira|        Helena Viana|   M|Trevo Nogueira  4...|vianamaria-julia@...| 2000-07-17| null|   null|      null|\n",
            "|     75467| araujofelipe|Srta. Amanda Teix...|   M|Condomínio de Nov...|   qcastro@gmail.com| 1936-07-25| null|   null|      null|\n",
            "|    233935|  helenaalves|Dr. João Pedro Fe...|   H|Loteamento Barbos...|mariamelo@hotmail...| 1939-02-04| null|   null|      null|\n",
            "|     42638|  alexandre30|     Juliana Peixoto|   M|Rua de Castro  41...|    enzo24@gmail.com| 1912-04-07| null|   null|      null|\n",
            "+----------+-------------+--------------------+----+--------------------+--------------------+-----------+-----+-------+----------+\n",
            "only showing top 5 rows\n",
            "\n"
          ]
        }
      ]
    },
    {
      "cell_type": "code",
      "source": [
        "df_pessoa.createOrReplaceTempView(\"PESSOA\")"
      ],
      "metadata": {
        "id": "_kWUq4_P4mDC"
      },
      "execution_count": 42,
      "outputs": []
    },
    {
      "cell_type": "code",
      "source": [
        "#SPARK SQL\n",
        "spark.sql('''\n",
        "          SELECT\n",
        "            CASE WHEN CARGO IS NULL THEN 'NÃO' ELSE 'SIM' END AS EMPREGADO,\n",
        "            COUNT(ID_PROFILE) AS PESSOAS\n",
        "          FROM PESSOA\n",
        "          GROUP BY EMPREGADO\n",
        "\n",
        "        ''').show(5)"
      ],
      "metadata": {
        "colab": {
          "base_uri": "https://localhost:8080/"
        },
        "id": "6golkiVx4gE5",
        "outputId": "a5f4da34-8479-42f7-a488-b45e1fa958f3"
      },
      "execution_count": 43,
      "outputs": [
        {
          "output_type": "stream",
          "name": "stdout",
          "text": [
            "+---------+-------+\n",
            "|EMPREGADO|PESSOAS|\n",
            "+---------+-------+\n",
            "|      NÃO|   6485|\n",
            "|      SIM|   3521|\n",
            "+---------+-------+\n",
            "\n"
          ]
        }
      ]
    },
    {
      "cell_type": "code",
      "source": [
        "# % de empregados:\n",
        "3521 / 10006 * 100"
      ],
      "metadata": {
        "colab": {
          "base_uri": "https://localhost:8080/"
        },
        "id": "KahYuc824gCo",
        "outputId": "038f382d-05a5-43ff-9555-56f0f6349f1d"
      },
      "execution_count": 44,
      "outputs": [
        {
          "output_type": "execute_result",
          "data": {
            "text/plain": [
              "35.188886667999206"
            ]
          },
          "metadata": {},
          "execution_count": 44
        }
      ]
    },
    {
      "cell_type": "code",
      "source": [
        "# SQL FUNCTION\n",
        "\n",
        "#criar campo tem_emprego, com 0 ou 1:\n",
        "df_pessoa2 = df_pessoa.withColumn(\"tem_emprego\", when(col(\"id_emprego\").isNotNull(), 1).when(col(\"id_emprego\").isNull(), 0))"
      ],
      "metadata": {
        "id": "wxOofuzcZCgl"
      },
      "execution_count": 45,
      "outputs": []
    },
    {
      "cell_type": "code",
      "source": [
        "df_pessoa2.show(3)"
      ],
      "metadata": {
        "colab": {
          "base_uri": "https://localhost:8080/"
        },
        "id": "rAURDnvG7EO_",
        "outputId": "d6073be1-a356-4342-85f8-d7883f2a18be"
      },
      "execution_count": 46,
      "outputs": [
        {
          "output_type": "stream",
          "name": "stdout",
          "text": [
            "+----------+-------------+--------------------+----+--------------------+--------------------+-----------+-----+-------+----------+-----------+\n",
            "|id_profile|     username|                name|sexo|            endereço|               email|aniversario|cargo|empresa|id_emprego|tem_emprego|\n",
            "+----------+-------------+--------------------+----+--------------------+--------------------+-----------+-----+-------+----------+-----------+\n",
            "|    579363|       ynunes|    Augusto Ferreira|   H|Trecho Leandro Sa...|ana-julia59@ig.co...| 1934-05-04| null|   null|      null|          0|\n",
            "|    739543|kamillyvieira|        Helena Viana|   M|Trevo Nogueira  4...|vianamaria-julia@...| 2000-07-17| null|   null|      null|          0|\n",
            "|     75467| araujofelipe|Srta. Amanda Teix...|   M|Condomínio de Nov...|   qcastro@gmail.com| 1936-07-25| null|   null|      null|          0|\n",
            "+----------+-------------+--------------------+----+--------------------+--------------------+-----------+-----+-------+----------+-----------+\n",
            "only showing top 3 rows\n",
            "\n"
          ]
        }
      ]
    },
    {
      "cell_type": "code",
      "source": [
        "tem_emprego = df_pessoa2.where(col(\"tem_emprego\") == 1).count()\n",
        "total_pessoas = df_pessoa2.count()\n",
        "\n",
        "porcentagem=tem_emprego/total_pessoas*100\n",
        "\n",
        "print(f\"tem_emprego={tem_emprego}\")\n",
        "print(f\"total_pessoas={total_pessoas}\")\n",
        "print(f\"quem tem emprego={porcentagem}%\")"
      ],
      "metadata": {
        "id": "CnUXhcxpb1gZ",
        "colab": {
          "base_uri": "https://localhost:8080/"
        },
        "outputId": "e8d3883a-2e6b-4817-917f-321ba3855d67"
      },
      "execution_count": 47,
      "outputs": [
        {
          "output_type": "stream",
          "name": "stdout",
          "text": [
            "tem_emprego=3521\n",
            "total_pessoas=10006\n",
            "quem tem emprego=35.188886667999206%\n"
          ]
        }
      ]
    },
    {
      "cell_type": "markdown",
      "source": [
        "## 2 Criar os salarios anuais dos empregados de forma randomica, sendo que o minimo é 1000"
      ],
      "metadata": {
        "id": "UBMNIZsZgV_K"
      }
    },
    {
      "cell_type": "code",
      "source": [
        "@udf\n",
        "def gera_salarios():\n",
        "  return random.randint(1000, 1000000)\n",
        "\n",
        "df_emprego = df_emprego.withColumn(\"salario\", gera_salarios())"
      ],
      "metadata": {
        "id": "fr7Vs_yGen9l"
      },
      "execution_count": 48,
      "outputs": []
    },
    {
      "cell_type": "code",
      "source": [
        "df_emprego.show(5)"
      ],
      "metadata": {
        "colab": {
          "base_uri": "https://localhost:8080/"
        },
        "id": "fpSfLfIU8ldc",
        "outputId": "d5f4a8f6-5087-489a-8c8c-d3f69da9742b"
      },
      "execution_count": 49,
      "outputs": [
        {
          "output_type": "stream",
          "name": "stdout",
          "text": [
            "+----------+--------------------+------------------+----------+-------+\n",
            "|id_profile|               cargo|           empresa|id_emprego|salario|\n",
            "+----------+--------------------+------------------+----------+-------+\n",
            "|     33062|  Engenheiro químico|      da Conceição|     38503| 985216|\n",
            "|     97704|            Contador|Sales Caldeira S/A|     79501| 335420|\n",
            "|     19073|            Marechal|            Fogaça|     33353| 571914|\n",
            "|     18918|               Cumim|            da Luz|     24143| 154122|\n",
            "|     61048|Conferente de exp...|        Cavalcanti|     86763| 853906|\n",
            "+----------+--------------------+------------------+----------+-------+\n",
            "only showing top 5 rows\n",
            "\n"
          ]
        }
      ]
    },
    {
      "cell_type": "markdown",
      "source": [
        "## 3 Qual a média salarial de cada cargo?"
      ],
      "metadata": {
        "id": "ZpaJP815g9rs"
      }
    },
    {
      "cell_type": "code",
      "source": [
        "df_emprego.show(10)"
      ],
      "metadata": {
        "colab": {
          "base_uri": "https://localhost:8080/"
        },
        "id": "6zqrVk0n_uYt",
        "outputId": "ccf549ef-5e61-4d2e-ea41-f3e4fe62584f"
      },
      "execution_count": 51,
      "outputs": [
        {
          "output_type": "stream",
          "name": "stdout",
          "text": [
            "+----------+--------------------+--------------------+----------+-------+\n",
            "|id_profile|               cargo|             empresa|id_emprego|salario|\n",
            "+----------+--------------------+--------------------+----------+-------+\n",
            "|     33062|  Engenheiro químico|        da Conceição|     38503| 404822|\n",
            "|     97704|            Contador|  Sales Caldeira S/A|     79501| 146475|\n",
            "|     19073|            Marechal|              Fogaça|     33353| 617472|\n",
            "|     18918|               Cumim|              da Luz|     24143| 525879|\n",
            "|     61048|Conferente de exp...|          Cavalcanti|     86763| 593952|\n",
            "|     75089|Técnico em docume...| Moraes Moreira S.A.|     35470| 998943|\n",
            "|     11338| Polidor de produção|               Pinto|     48914| 893881|\n",
            "|     53918|        Carnavalesco|        da Rosa - ME|     71077| 869971|\n",
            "|     11512|          Cartunista|Nunes Moreira e F...|     28114| 889154|\n",
            "|     29897|Agente penitenciário|              Aragão|     12559| 954914|\n",
            "+----------+--------------------+--------------------+----------+-------+\n",
            "only showing top 10 rows\n",
            "\n"
          ]
        }
      ]
    },
    {
      "cell_type": "code",
      "source": [
        "#SQL FUNCTIONS\n",
        "\n",
        "#para um cargo:\n",
        "df_emprego.filter(col(\"cargo\") == \"Engenheiro químico\").show()"
      ],
      "metadata": {
        "id": "vhr7Jd7If-zZ",
        "colab": {
          "base_uri": "https://localhost:8080/"
        },
        "outputId": "fc34a3c7-a707-459b-f424-ed93d0f792f7"
      },
      "execution_count": 52,
      "outputs": [
        {
          "output_type": "stream",
          "name": "stdout",
          "text": [
            "+----------+------------------+------------------+----------+-------+\n",
            "|id_profile|             cargo|           empresa|id_emprego|salario|\n",
            "+----------+------------------+------------------+----------+-------+\n",
            "|     33062|Engenheiro químico|      da Conceição|     38503| 568395|\n",
            "|     57836|Engenheiro químico|Barbosa Gomes - ME|     90544|  77637|\n",
            "|     55758|Engenheiro químico|              Dias|     90896| 865772|\n",
            "|     59095|Engenheiro químico|             Alves|     47752| 806755|\n",
            "|    806335|Engenheiro químico|          Silveira|     30103| 118314|\n",
            "|    698440|Engenheiro químico|             Lopes|     10085| 391150|\n",
            "|    542447|Engenheiro químico|       Costela S/A|      8995| 956148|\n",
            "|    403934|Engenheiro químico|           Rezende|     83488| 245907|\n",
            "|    230830|Engenheiro químico|            Vieira|     64458| 492553|\n",
            "|    827496|Engenheiro químico|             Gomes|     44632| 950592|\n",
            "|    216314|Engenheiro químico|           Barbosa|     14463| 150880|\n",
            "|    205086|Engenheiro químico|       Nunes Ltda.|      1879| 826287|\n",
            "+----------+------------------+------------------+----------+-------+\n",
            "\n"
          ]
        }
      ]
    },
    {
      "cell_type": "code",
      "source": [
        "# Média salarial por cargo:\n",
        "df_emprego.groupBy(\"cargo\").agg(avg(\"salario\").alias(\"media_salarial\")).show(10)"
      ],
      "metadata": {
        "colab": {
          "base_uri": "https://localhost:8080/"
        },
        "id": "vnGktnP59GzL",
        "outputId": "69009656-7c2a-43f9-a058-b4e8a98d0977"
      },
      "execution_count": 53,
      "outputs": [
        {
          "output_type": "stream",
          "name": "stdout",
          "text": [
            "+--------------------+-----------------+\n",
            "|               cargo|   media_salarial|\n",
            "+--------------------+-----------------+\n",
            "|Engenheiro de erg...|         549307.1|\n",
            "|Auxiliar de repro...|483810.6666666667|\n",
            "|        Neurologista|597448.2857142857|\n",
            "|             Tenente|       708189.875|\n",
            "|          Gastrônomo|701371.1428571428|\n",
            "|           Bailarina|         328996.0|\n",
            "|Profissional de r...|416030.7272727273|\n",
            "|         Pastilheiro|403245.9090909091|\n",
            "|             Lavador|         511711.8|\n",
            "|Classificador con...|         303673.8|\n",
            "+--------------------+-----------------+\n",
            "only showing top 10 rows\n",
            "\n"
          ]
        }
      ]
    },
    {
      "cell_type": "code",
      "source": [
        "#SPARK SQL\n",
        "df_emprego.createOrReplaceTempView(\"EMPREGO\")"
      ],
      "metadata": {
        "id": "Q4DzyVFl9d_P"
      },
      "execution_count": 54,
      "outputs": []
    },
    {
      "cell_type": "code",
      "source": [
        "#SPARK SQL\n",
        "spark.sql('''\n",
        "          SELECT\n",
        "            CARGO,\n",
        "            AVG(SALARIO) AS MEDIA_SALARIAL\n",
        "          FROM EMPREGO\n",
        "          WHERE CARGO = 'Tenente'\n",
        "          GROUP BY CARGO\n",
        "\n",
        "        ''').show(100)"
      ],
      "metadata": {
        "colab": {
          "base_uri": "https://localhost:8080/"
        },
        "id": "8va1UZfB9Gw-",
        "outputId": "e16d17b5-79a3-4038-bab7-1cf610383462"
      },
      "execution_count": 56,
      "outputs": [
        {
          "output_type": "stream",
          "name": "stdout",
          "text": [
            "+-------+--------------+\n",
            "|  CARGO|MEDIA_SALARIAL|\n",
            "+-------+--------------+\n",
            "|Tenente|    421936.625|\n",
            "+-------+--------------+\n",
            "\n"
          ]
        }
      ]
    },
    {
      "cell_type": "code",
      "source": [
        "#PS: alterando o valor devido ao random, mas a lógica acima é aplicável em um dataset real."
      ],
      "metadata": {
        "id": "OKji1mVEHysI"
      },
      "execution_count": null,
      "outputs": []
    },
    {
      "cell_type": "markdown",
      "source": [
        "## 4 Gerar um numero sequencial por cargos e eliminar todos as linhas maiores que 1."
      ],
      "metadata": {
        "id": "cVWAn3ssqBUV"
      }
    },
    {
      "cell_type": "code",
      "source": [
        "df_emprego.show(3)"
      ],
      "metadata": {
        "colab": {
          "base_uri": "https://localhost:8080/"
        },
        "id": "3dYhg0TxH9Im",
        "outputId": "91dd0ea7-e6a7-4017-ebf0-969c0c480e9e"
      },
      "execution_count": 59,
      "outputs": [
        {
          "output_type": "stream",
          "name": "stdout",
          "text": [
            "+----------+--------------------+-----------------+----------+-------+-----------------+\n",
            "|id_profile|               cargo|          empresa|id_emprego|salario|   media_salarial|\n",
            "+----------+--------------------+-----------------+----------+-------+-----------------+\n",
            "|     98577|Auxiliar de repro...|Duarte Jesus - ME|     95203| 861189|698941.6666666666|\n",
            "|     40630|Auxiliar de repro...|            Nunes|     31885| 818541|698941.6666666666|\n",
            "|      3331|Auxiliar de repro...| Gomes Rocha - EI|     30316| 417095|698941.6666666666|\n",
            "+----------+--------------------+-----------------+----------+-------+-----------------+\n",
            "only showing top 3 rows\n",
            "\n"
          ]
        }
      ]
    },
    {
      "cell_type": "code",
      "source": [
        "windows  = Window.partitionBy(\"cargo\").orderBy(col(\"salario\").asc())\n",
        "df_emprego = df_emprego.withColumn(\"row_number\", row_number().over(windows))\n",
        "\n",
        "df_emprego = df_emprego.filter(col(\"row_number\") == 1)"
      ],
      "metadata": {
        "id": "_eE1JqhUj1Q9",
        "colab": {
          "base_uri": "https://localhost:8080/",
          "height": 217
        },
        "outputId": "66ac6a99-a03e-4204-e7a0-2195d7a9d927"
      },
      "execution_count": null,
      "outputs": [
        {
          "output_type": "error",
          "ename": "NameError",
          "evalue": "ignored",
          "traceback": [
            "\u001b[0;31m---------------------------------------------------------------------------\u001b[0m",
            "\u001b[0;31mNameError\u001b[0m                                 Traceback (most recent call last)",
            "\u001b[0;32m<ipython-input-24-67cb2538e31f>\u001b[0m in \u001b[0;36m<module>\u001b[0;34m\u001b[0m\n\u001b[0;32m----> 1\u001b[0;31m \u001b[0mwindows\u001b[0m  \u001b[0;34m=\u001b[0m \u001b[0mWindow\u001b[0m\u001b[0;34m.\u001b[0m\u001b[0mpartitionBy\u001b[0m\u001b[0;34m(\u001b[0m\u001b[0;34m\"cargo\"\u001b[0m\u001b[0;34m)\u001b[0m\u001b[0;34m.\u001b[0m\u001b[0morderBy\u001b[0m\u001b[0;34m(\u001b[0m\u001b[0mcol\u001b[0m\u001b[0;34m(\u001b[0m\u001b[0;34m\"salario\"\u001b[0m\u001b[0;34m)\u001b[0m\u001b[0;34m.\u001b[0m\u001b[0masc\u001b[0m\u001b[0;34m(\u001b[0m\u001b[0;34m)\u001b[0m\u001b[0;34m)\u001b[0m\u001b[0;34m\u001b[0m\u001b[0;34m\u001b[0m\u001b[0m\n\u001b[0m\u001b[1;32m      2\u001b[0m \u001b[0mdf_emprego\u001b[0m \u001b[0;34m=\u001b[0m \u001b[0mdf_emprego\u001b[0m\u001b[0;34m.\u001b[0m\u001b[0mwithColumn\u001b[0m\u001b[0;34m(\u001b[0m\u001b[0;34m\"row_number\"\u001b[0m\u001b[0;34m,\u001b[0m \u001b[0mrow_number\u001b[0m\u001b[0;34m(\u001b[0m\u001b[0;34m)\u001b[0m\u001b[0;34m.\u001b[0m\u001b[0mover\u001b[0m\u001b[0;34m(\u001b[0m\u001b[0mwindows\u001b[0m\u001b[0;34m)\u001b[0m\u001b[0;34m)\u001b[0m\u001b[0;34m\u001b[0m\u001b[0;34m\u001b[0m\u001b[0m\n\u001b[1;32m      3\u001b[0m \u001b[0;34m\u001b[0m\u001b[0m\n\u001b[1;32m      4\u001b[0m \u001b[0mdf_emprego\u001b[0m \u001b[0;34m=\u001b[0m \u001b[0mdf_emprego\u001b[0m\u001b[0;34m.\u001b[0m\u001b[0mfilter\u001b[0m\u001b[0;34m(\u001b[0m\u001b[0mcol\u001b[0m\u001b[0;34m(\u001b[0m\u001b[0;34m\"row_number\"\u001b[0m\u001b[0;34m)\u001b[0m \u001b[0;34m==\u001b[0m \u001b[0;36m1\u001b[0m\u001b[0;34m)\u001b[0m\u001b[0;34m\u001b[0m\u001b[0;34m\u001b[0m\u001b[0m\n",
            "\u001b[0;31mNameError\u001b[0m: name 'Window' is not defined"
          ]
        }
      ]
    },
    {
      "cell_type": "code",
      "source": [
        "df_emprego.show(15)"
      ],
      "metadata": {
        "id": "9oYy7pMeqOd4",
        "colab": {
          "base_uri": "https://localhost:8080/"
        },
        "outputId": "8f22981e-3b6c-43ca-c54d-446fb975fb05"
      },
      "execution_count": null,
      "outputs": [
        {
          "output_type": "stream",
          "name": "stdout",
          "text": [
            "+----------+--------------------+--------------------+----------+\n",
            "|id_profile|               cargo|             empresa|id_emprego|\n",
            "+----------+--------------------+--------------------+----------+\n",
            "|     33062|  Engenheiro químico|        da Conceição|     38503|\n",
            "|     97704|            Contador|  Sales Caldeira S/A|     79501|\n",
            "|     19073|            Marechal|              Fogaça|     33353|\n",
            "|     18918|               Cumim|              da Luz|     24143|\n",
            "|     61048|Conferente de exp...|          Cavalcanti|     86763|\n",
            "|     75089|Técnico em docume...| Moraes Moreira S.A.|     35470|\n",
            "|     11338| Polidor de produção|               Pinto|     48914|\n",
            "|     53918|        Carnavalesco|        da Rosa - ME|     71077|\n",
            "|     11512|          Cartunista|Nunes Moreira e F...|     28114|\n",
            "|     29897|Agente penitenciário|              Aragão|     12559|\n",
            "|     13709|Intérprete de Bíb...|     Campos e Filhos|     72721|\n",
            "|     31423|Engenheiro de hor...|               Costa|     80339|\n",
            "|      6297|             Notário|Monteiro Carvalho...|     23652|\n",
            "|     57383|             Maestro|              Moraes|     50576|\n",
            "|     50965|               Major|       Fernandes S/A|     51001|\n",
            "+----------+--------------------+--------------------+----------+\n",
            "only showing top 15 rows\n",
            "\n"
          ]
        }
      ]
    },
    {
      "cell_type": "markdown",
      "source": [
        "## 5 Quem é a pessoa mais jovem a ter um carro?"
      ],
      "metadata": {
        "id": "1VaSc__ZsCjd"
      }
    },
    {
      "cell_type": "code",
      "source": [
        "df_carro2 = df_pessoa.join(df_carro, [\"id_profile\"], \"inner\")"
      ],
      "metadata": {
        "id": "LB3R38s2rN7X"
      },
      "execution_count": null,
      "outputs": []
    },
    {
      "cell_type": "code",
      "source": [
        "df_carro2.withColumn(\"aniversario\", to_date(col(\"aniversario\"),\"yyyy-MM-dd\"))\n",
        "\n",
        "df_carro2.orderBy(col(\"aniversario\").desc()).show(1)"
      ],
      "metadata": {
        "id": "0RhFq1tysKB5",
        "colab": {
          "base_uri": "https://localhost:8080/",
          "height": 200
        },
        "outputId": "f957b6f4-93af-4c95-b94d-ec672cb8e266"
      },
      "execution_count": null,
      "outputs": [
        {
          "output_type": "error",
          "ename": "NameError",
          "evalue": "ignored",
          "traceback": [
            "\u001b[0;31m---------------------------------------------------------------------------\u001b[0m",
            "\u001b[0;31mNameError\u001b[0m                                 Traceback (most recent call last)",
            "\u001b[0;32m<ipython-input-27-649a82f7925a>\u001b[0m in \u001b[0;36m<module>\u001b[0;34m\u001b[0m\n\u001b[0;32m----> 1\u001b[0;31m \u001b[0mdf_carro2\u001b[0m\u001b[0;34m.\u001b[0m\u001b[0mwithColumn\u001b[0m\u001b[0;34m(\u001b[0m\u001b[0;34m\"aniversario\"\u001b[0m\u001b[0;34m,\u001b[0m \u001b[0mto_date\u001b[0m\u001b[0;34m(\u001b[0m\u001b[0mcol\u001b[0m\u001b[0;34m(\u001b[0m\u001b[0;34m\"aniversario\"\u001b[0m\u001b[0;34m)\u001b[0m\u001b[0;34m,\u001b[0m\u001b[0;34m\"yyyy-MM-dd\"\u001b[0m\u001b[0;34m)\u001b[0m\u001b[0;34m)\u001b[0m\u001b[0;34m\u001b[0m\u001b[0;34m\u001b[0m\u001b[0m\n\u001b[0m\u001b[1;32m      2\u001b[0m \u001b[0;34m\u001b[0m\u001b[0m\n\u001b[1;32m      3\u001b[0m \u001b[0mdf_carro2\u001b[0m\u001b[0;34m.\u001b[0m\u001b[0morderBy\u001b[0m\u001b[0;34m(\u001b[0m\u001b[0mcol\u001b[0m\u001b[0;34m(\u001b[0m\u001b[0;34m\"aniversario\"\u001b[0m\u001b[0;34m)\u001b[0m\u001b[0;34m.\u001b[0m\u001b[0mdesc\u001b[0m\u001b[0;34m(\u001b[0m\u001b[0;34m)\u001b[0m\u001b[0;34m)\u001b[0m\u001b[0;34m.\u001b[0m\u001b[0mshow\u001b[0m\u001b[0;34m(\u001b[0m\u001b[0;36m1\u001b[0m\u001b[0;34m)\u001b[0m\u001b[0;34m\u001b[0m\u001b[0;34m\u001b[0m\u001b[0m\n",
            "\u001b[0;31mNameError\u001b[0m: name 'to_date' is not defined"
          ]
        }
      ]
    },
    {
      "cell_type": "code",
      "source": [
        "#df_carro2.select(max(col(\"aniversario\"))).show(1)\n",
        "\n",
        "df_carro2.groupBy(\"sexo\").agg(max(col(\"aniversario\"))).show()\n",
        "\n",
        "\n"
      ],
      "metadata": {
        "id": "n8UQrhEpsmCc",
        "colab": {
          "base_uri": "https://localhost:8080/",
          "height": 235
        },
        "outputId": "5087e902-a823-4d30-a3bc-de4d6eff8894"
      },
      "execution_count": null,
      "outputs": [
        {
          "output_type": "error",
          "ename": "NameError",
          "evalue": "ignored",
          "traceback": [
            "\u001b[0;31m---------------------------------------------------------------------------\u001b[0m",
            "\u001b[0;31mNameError\u001b[0m                                 Traceback (most recent call last)",
            "\u001b[0;32m<ipython-input-28-48be7d423606>\u001b[0m in \u001b[0;36m<module>\u001b[0;34m\u001b[0m\n\u001b[1;32m      1\u001b[0m \u001b[0;31m#df_carro2.select(max(col(\"aniversario\"))).show(1)\u001b[0m\u001b[0;34m\u001b[0m\u001b[0;34m\u001b[0m\u001b[0;34m\u001b[0m\u001b[0m\n\u001b[1;32m      2\u001b[0m \u001b[0;34m\u001b[0m\u001b[0m\n\u001b[0;32m----> 3\u001b[0;31m \u001b[0mdf_carro2\u001b[0m\u001b[0;34m.\u001b[0m\u001b[0mgroupBy\u001b[0m\u001b[0;34m(\u001b[0m\u001b[0;34m\"sexo\"\u001b[0m\u001b[0;34m)\u001b[0m\u001b[0;34m.\u001b[0m\u001b[0magg\u001b[0m\u001b[0;34m(\u001b[0m\u001b[0mmax\u001b[0m\u001b[0;34m(\u001b[0m\u001b[0mcol\u001b[0m\u001b[0;34m(\u001b[0m\u001b[0;34m\"aniversario\"\u001b[0m\u001b[0;34m)\u001b[0m\u001b[0;34m)\u001b[0m\u001b[0;34m)\u001b[0m\u001b[0;34m.\u001b[0m\u001b[0mshow\u001b[0m\u001b[0;34m(\u001b[0m\u001b[0;34m)\u001b[0m\u001b[0;34m\u001b[0m\u001b[0;34m\u001b[0m\u001b[0m\n\u001b[0m\u001b[1;32m      4\u001b[0m \u001b[0;34m\u001b[0m\u001b[0m\n\u001b[1;32m      5\u001b[0m \u001b[0;34m\u001b[0m\u001b[0m\n",
            "\u001b[0;31mNameError\u001b[0m: name 'col' is not defined"
          ]
        }
      ]
    },
    {
      "cell_type": "markdown",
      "source": [
        "## 6 Normalizar o id_profile para 8 digitos nos dataframes"
      ],
      "metadata": {
        "id": "Hx2acoP7vYKd"
      }
    },
    {
      "cell_type": "code",
      "source": [
        "df_emprego = df_emprego.withColumn(\"id_profile\", lpad(col(\"id_profile\"),8, '0'))\n",
        "df_carro = df_carro.withColumn(\"id_profile\", lpad(col(\"id_profile\"),8, '0'))\n",
        "df_pessoa = df_pessoa.withColumn(\"id_profile\", lpad(col(\"id_profile\"),8, '0'))"
      ],
      "metadata": {
        "id": "uYlIx5NItZLo"
      },
      "execution_count": null,
      "outputs": []
    },
    {
      "cell_type": "markdown",
      "source": [
        "## 7 Remover o acento dos nomes no dataframe de pessoa."
      ],
      "metadata": {
        "id": "NHdgp5yCxduZ"
      }
    },
    {
      "cell_type": "code",
      "source": [
        "from unidecode import unidecode\n",
        "print(unidecode('Arrepieí'))"
      ],
      "metadata": {
        "id": "oqWBtNjzw3m6",
        "colab": {
          "base_uri": "https://localhost:8080/"
        },
        "outputId": "a9a8d5df-1318-4dd3-f42c-adc5704d28e7"
      },
      "execution_count": null,
      "outputs": [
        {
          "output_type": "stream",
          "name": "stdout",
          "text": [
            "Arrepiei\n"
          ]
        }
      ]
    },
    {
      "cell_type": "code",
      "source": [
        "\n",
        "df_pessoa.rdd.map(lambda x: x.encode(\"ascii\",\"ignore\"))"
      ],
      "metadata": {
        "id": "7kZk4HNVx8iy",
        "colab": {
          "base_uri": "https://localhost:8080/"
        },
        "outputId": "6a06723a-aae6-4b9a-a25d-993a0b25fc6f"
      },
      "execution_count": null,
      "outputs": [
        {
          "output_type": "execute_result",
          "data": {
            "text/plain": [
              "PythonRDD[74] at RDD at PythonRDD.scala:53"
            ]
          },
          "metadata": {},
          "execution_count": 30
        }
      ]
    },
    {
      "cell_type": "code",
      "source": [
        "@udf\n",
        "def unicode_name(name):\n",
        "  return unidecode(name)\n",
        "\n",
        "df_pessoa.withColumn(\"name\", unicode_name(col(\"name\"))).show()\n",
        "\n",
        "\n",
        "\n",
        "# unicodeUDF = udf(lambda z: unidecode(z))\n",
        "# df_pessoa.select(unicodeUDF(col(\"name\"))).show()"
      ],
      "metadata": {
        "id": "0afVtI9tyBRn",
        "colab": {
          "base_uri": "https://localhost:8080/",
          "height": 235
        },
        "outputId": "e463d2aa-ff54-4a0f-cf2d-9bbe3d2cac46"
      },
      "execution_count": null,
      "outputs": [
        {
          "output_type": "error",
          "ename": "NameError",
          "evalue": "ignored",
          "traceback": [
            "\u001b[0;31m---------------------------------------------------------------------------\u001b[0m",
            "\u001b[0;31mNameError\u001b[0m                                 Traceback (most recent call last)",
            "\u001b[0;32m<ipython-input-31-bd7214aaa2c7>\u001b[0m in \u001b[0;36m<module>\u001b[0;34m\u001b[0m\n\u001b[0;32m----> 1\u001b[0;31m \u001b[0;34m@\u001b[0m\u001b[0mudf\u001b[0m\u001b[0;34m\u001b[0m\u001b[0;34m\u001b[0m\u001b[0m\n\u001b[0m\u001b[1;32m      2\u001b[0m \u001b[0;32mdef\u001b[0m \u001b[0municode_name\u001b[0m\u001b[0;34m(\u001b[0m\u001b[0mname\u001b[0m\u001b[0;34m)\u001b[0m\u001b[0;34m:\u001b[0m\u001b[0;34m\u001b[0m\u001b[0;34m\u001b[0m\u001b[0m\n\u001b[1;32m      3\u001b[0m   \u001b[0;32mreturn\u001b[0m \u001b[0munidecode\u001b[0m\u001b[0;34m(\u001b[0m\u001b[0mname\u001b[0m\u001b[0;34m)\u001b[0m\u001b[0;34m\u001b[0m\u001b[0;34m\u001b[0m\u001b[0m\n\u001b[1;32m      4\u001b[0m \u001b[0;34m\u001b[0m\u001b[0m\n\u001b[1;32m      5\u001b[0m \u001b[0mdf_pessoa\u001b[0m\u001b[0;34m.\u001b[0m\u001b[0mwithColumn\u001b[0m\u001b[0;34m(\u001b[0m\u001b[0;34m\"name\"\u001b[0m\u001b[0;34m,\u001b[0m \u001b[0municode_name\u001b[0m\u001b[0;34m(\u001b[0m\u001b[0mcol\u001b[0m\u001b[0;34m(\u001b[0m\u001b[0;34m\"name\"\u001b[0m\u001b[0;34m)\u001b[0m\u001b[0;34m)\u001b[0m\u001b[0;34m)\u001b[0m\u001b[0;34m.\u001b[0m\u001b[0mshow\u001b[0m\u001b[0;34m(\u001b[0m\u001b[0;34m)\u001b[0m\u001b[0;34m\u001b[0m\u001b[0;34m\u001b[0m\u001b[0m\n",
            "\u001b[0;31mNameError\u001b[0m: name 'udf' is not defined"
          ]
        }
      ]
    },
    {
      "cell_type": "markdown",
      "source": [
        "## 8 Quantas pessoas nasceram em cada década?"
      ],
      "metadata": {
        "id": "XoPZ5f2522pq"
      }
    },
    {
      "cell_type": "code",
      "source": [
        "df2 = df_pessoa.groupBy(year(col(\"aniversario\")).alias(\"ano_nascimento\")).agg(count(\"id_profile\").alias(\"count_nascimento\"))"
      ],
      "metadata": {
        "id": "_qdq4eOsy5Bx",
        "colab": {
          "base_uri": "https://localhost:8080/",
          "height": 165
        },
        "outputId": "d5ea3c0e-f713-4890-caba-cd03e309af62"
      },
      "execution_count": null,
      "outputs": [
        {
          "output_type": "error",
          "ename": "NameError",
          "evalue": "ignored",
          "traceback": [
            "\u001b[0;31m---------------------------------------------------------------------------\u001b[0m",
            "\u001b[0;31mNameError\u001b[0m                                 Traceback (most recent call last)",
            "\u001b[0;32m<ipython-input-32-2c3906a608f2>\u001b[0m in \u001b[0;36m<module>\u001b[0;34m\u001b[0m\n\u001b[0;32m----> 1\u001b[0;31m \u001b[0mdf2\u001b[0m \u001b[0;34m=\u001b[0m \u001b[0mdf_pessoa\u001b[0m\u001b[0;34m.\u001b[0m\u001b[0mgroupBy\u001b[0m\u001b[0;34m(\u001b[0m\u001b[0myear\u001b[0m\u001b[0;34m(\u001b[0m\u001b[0mcol\u001b[0m\u001b[0;34m(\u001b[0m\u001b[0;34m\"aniversario\"\u001b[0m\u001b[0;34m)\u001b[0m\u001b[0;34m)\u001b[0m\u001b[0;34m.\u001b[0m\u001b[0malias\u001b[0m\u001b[0;34m(\u001b[0m\u001b[0;34m\"ano_nascimento\"\u001b[0m\u001b[0;34m)\u001b[0m\u001b[0;34m)\u001b[0m\u001b[0;34m.\u001b[0m\u001b[0magg\u001b[0m\u001b[0;34m(\u001b[0m\u001b[0mcount\u001b[0m\u001b[0;34m(\u001b[0m\u001b[0;34m\"id_profile\"\u001b[0m\u001b[0;34m)\u001b[0m\u001b[0;34m.\u001b[0m\u001b[0malias\u001b[0m\u001b[0;34m(\u001b[0m\u001b[0;34m\"count_nascimento\"\u001b[0m\u001b[0;34m)\u001b[0m\u001b[0;34m)\u001b[0m\u001b[0;34m\u001b[0m\u001b[0;34m\u001b[0m\u001b[0m\n\u001b[0m",
            "\u001b[0;31mNameError\u001b[0m: name 'year' is not defined"
          ]
        }
      ]
    },
    {
      "cell_type": "code",
      "source": [
        "df2 = df2.orderBy(col(\"ano_nascimento\").asc())"
      ],
      "metadata": {
        "id": "s2l97OPy386f",
        "colab": {
          "base_uri": "https://localhost:8080/",
          "height": 165
        },
        "outputId": "53141575-1be0-40a9-f416-6ed8bd46406f"
      },
      "execution_count": null,
      "outputs": [
        {
          "output_type": "error",
          "ename": "NameError",
          "evalue": "ignored",
          "traceback": [
            "\u001b[0;31m---------------------------------------------------------------------------\u001b[0m",
            "\u001b[0;31mNameError\u001b[0m                                 Traceback (most recent call last)",
            "\u001b[0;32m<ipython-input-33-d218d3926c58>\u001b[0m in \u001b[0;36m<module>\u001b[0;34m\u001b[0m\n\u001b[0;32m----> 1\u001b[0;31m \u001b[0mdf2\u001b[0m \u001b[0;34m=\u001b[0m \u001b[0mdf2\u001b[0m\u001b[0;34m.\u001b[0m\u001b[0morderBy\u001b[0m\u001b[0;34m(\u001b[0m\u001b[0mcol\u001b[0m\u001b[0;34m(\u001b[0m\u001b[0;34m\"ano_nascimento\"\u001b[0m\u001b[0;34m)\u001b[0m\u001b[0;34m.\u001b[0m\u001b[0masc\u001b[0m\u001b[0;34m(\u001b[0m\u001b[0;34m)\u001b[0m\u001b[0;34m)\u001b[0m\u001b[0;34m\u001b[0m\u001b[0;34m\u001b[0m\u001b[0m\n\u001b[0m",
            "\u001b[0;31mNameError\u001b[0m: name 'df2' is not defined"
          ]
        }
      ]
    },
    {
      "cell_type": "code",
      "source": [],
      "metadata": {
        "id": "DzNlJEFZ4VVQ"
      },
      "execution_count": null,
      "outputs": []
    },
    {
      "cell_type": "code",
      "source": [
        "ano_inicial = 1900\n",
        "dict_decada = {}\n",
        "for i in range(0, 12):\n",
        "  ano_final = ano_inicial + 9\n",
        "  decada_list = [ano_inicial, ano_final]\n",
        "  key_decada = f\"{ano_inicial}-{ano_final}\"\n",
        "  ano_inicial = ano_final + 1\n",
        "  dict_decada[key_decada] = decada_list"
      ],
      "metadata": {
        "id": "7wnwC4VT5Cu6"
      },
      "execution_count": null,
      "outputs": []
    },
    {
      "cell_type": "code",
      "source": [
        "dict_decada"
      ],
      "metadata": {
        "id": "Gpmao8_D_Afb",
        "colab": {
          "base_uri": "https://localhost:8080/"
        },
        "outputId": "39adc2ef-54e9-4e1a-bca1-43ce2c3ebe06"
      },
      "execution_count": null,
      "outputs": [
        {
          "output_type": "execute_result",
          "data": {
            "text/plain": [
              "{'1900-1909': [1900, 1909],\n",
              " '1910-1919': [1910, 1919],\n",
              " '1920-1929': [1920, 1929],\n",
              " '1930-1939': [1930, 1939],\n",
              " '1940-1949': [1940, 1949],\n",
              " '1950-1959': [1950, 1959],\n",
              " '1960-1969': [1960, 1969],\n",
              " '1970-1979': [1970, 1979],\n",
              " '1980-1989': [1980, 1989],\n",
              " '1990-1999': [1990, 1999],\n",
              " '2000-2009': [2000, 2009],\n",
              " '2010-2019': [2010, 2019]}"
            ]
          },
          "metadata": {},
          "execution_count": 35
        }
      ]
    },
    {
      "cell_type": "code",
      "source": [
        "@udf\n",
        "def find_decade(ano_target):\n",
        "  for key in dict_decada.keys():\n",
        "    anos = dict_decada[key]\n",
        "    ano_inicial = anos[0]\n",
        "    ano_final = anos[1]\n",
        "    if(ano_target >= ano_inicial and ano_target <= ano_final):\n",
        "      return key\n",
        "  return 0\n"
      ],
      "metadata": {
        "id": "olXriXTt55YW",
        "colab": {
          "base_uri": "https://localhost:8080/",
          "height": 235
        },
        "outputId": "c163e9e5-9646-4de3-a34e-93419ba54023"
      },
      "execution_count": null,
      "outputs": [
        {
          "output_type": "error",
          "ename": "NameError",
          "evalue": "ignored",
          "traceback": [
            "\u001b[0;31m---------------------------------------------------------------------------\u001b[0m",
            "\u001b[0;31mNameError\u001b[0m                                 Traceback (most recent call last)",
            "\u001b[0;32m<ipython-input-36-bd95cadc61af>\u001b[0m in \u001b[0;36m<module>\u001b[0;34m\u001b[0m\n\u001b[0;32m----> 1\u001b[0;31m \u001b[0;34m@\u001b[0m\u001b[0mudf\u001b[0m\u001b[0;34m\u001b[0m\u001b[0;34m\u001b[0m\u001b[0m\n\u001b[0m\u001b[1;32m      2\u001b[0m \u001b[0;32mdef\u001b[0m \u001b[0mfind_decade\u001b[0m\u001b[0;34m(\u001b[0m\u001b[0mano_target\u001b[0m\u001b[0;34m)\u001b[0m\u001b[0;34m:\u001b[0m\u001b[0;34m\u001b[0m\u001b[0;34m\u001b[0m\u001b[0m\n\u001b[1;32m      3\u001b[0m   \u001b[0;32mfor\u001b[0m \u001b[0mkey\u001b[0m \u001b[0;32min\u001b[0m \u001b[0mdict_decada\u001b[0m\u001b[0;34m.\u001b[0m\u001b[0mkeys\u001b[0m\u001b[0;34m(\u001b[0m\u001b[0;34m)\u001b[0m\u001b[0;34m:\u001b[0m\u001b[0;34m\u001b[0m\u001b[0;34m\u001b[0m\u001b[0m\n\u001b[1;32m      4\u001b[0m     \u001b[0manos\u001b[0m \u001b[0;34m=\u001b[0m \u001b[0mdict_decada\u001b[0m\u001b[0;34m[\u001b[0m\u001b[0mkey\u001b[0m\u001b[0;34m]\u001b[0m\u001b[0;34m\u001b[0m\u001b[0;34m\u001b[0m\u001b[0m\n\u001b[1;32m      5\u001b[0m     \u001b[0mano_inicial\u001b[0m \u001b[0;34m=\u001b[0m \u001b[0manos\u001b[0m\u001b[0;34m[\u001b[0m\u001b[0;36m0\u001b[0m\u001b[0;34m]\u001b[0m\u001b[0;34m\u001b[0m\u001b[0;34m\u001b[0m\u001b[0m\n",
            "\u001b[0;31mNameError\u001b[0m: name 'udf' is not defined"
          ]
        }
      ]
    },
    {
      "cell_type": "code",
      "source": [
        "#1905%100\n",
        "\n",
        "#ps.date_range(start='1/1/2018', periods=5, freq='M')\n",
        "import pyspark.pandas as ps"
      ],
      "metadata": {
        "colab": {
          "base_uri": "https://localhost:8080/",
          "height": 339
        },
        "id": "xFe-IVxr5_ui",
        "outputId": "e0607185-9db1-4b95-d8a4-45a0c7af3c18"
      },
      "execution_count": null,
      "outputs": [
        {
          "output_type": "error",
          "ename": "ModuleNotFoundError",
          "evalue": "ignored",
          "traceback": [
            "\u001b[0;31m---------------------------------------------------------------------------\u001b[0m",
            "\u001b[0;31mModuleNotFoundError\u001b[0m                       Traceback (most recent call last)",
            "\u001b[0;32m<ipython-input-37-3506ede5c98c>\u001b[0m in \u001b[0;36m<module>\u001b[0;34m\u001b[0m\n\u001b[1;32m      2\u001b[0m \u001b[0;34m\u001b[0m\u001b[0m\n\u001b[1;32m      3\u001b[0m \u001b[0;31m#ps.date_range(start='1/1/2018', periods=5, freq='M')\u001b[0m\u001b[0;34m\u001b[0m\u001b[0;34m\u001b[0m\u001b[0;34m\u001b[0m\u001b[0m\n\u001b[0;32m----> 4\u001b[0;31m \u001b[0;32mimport\u001b[0m \u001b[0mpyspark\u001b[0m\u001b[0;34m.\u001b[0m\u001b[0mpandas\u001b[0m \u001b[0;32mas\u001b[0m \u001b[0mps\u001b[0m\u001b[0;34m\u001b[0m\u001b[0;34m\u001b[0m\u001b[0m\n\u001b[0m",
            "\u001b[0;31mModuleNotFoundError\u001b[0m: No module named 'pyspark.pandas'",
            "",
            "\u001b[0;31m---------------------------------------------------------------------------\u001b[0;32m\nNOTE: If your import is failing due to a missing package, you can\nmanually install dependencies using either !pip or !apt.\n\nTo view examples of installing some common dependencies, click the\n\"Open Examples\" button below.\n\u001b[0;31m---------------------------------------------------------------------------\u001b[0m\n"
          ],
          "errorDetails": {
            "actions": [
              {
                "action": "open_url",
                "actionText": "Open Examples",
                "url": "/notebooks/snippets/importing_libraries.ipynb"
              }
            ]
          }
        }
      ]
    },
    {
      "cell_type": "code",
      "source": [
        "df3=df2.withColumn(\"decada\", find_decade(col(\"ano_nascimento\")))"
      ],
      "metadata": {
        "id": "OkP2cv3I9y2W"
      },
      "execution_count": null,
      "outputs": []
    },
    {
      "cell_type": "code",
      "source": [
        "df3.show()"
      ],
      "metadata": {
        "id": "vJP8Gwyq-HAX"
      },
      "execution_count": null,
      "outputs": []
    },
    {
      "cell_type": "code",
      "source": [
        "df2=df2.withColumn(\"ano_nascimento\", when(col(\"ano_nascimento\").isNull(), 0).otherwise(col(\"ano_nascimento\")))"
      ],
      "metadata": {
        "id": "3BVA3hyL-PbT"
      },
      "execution_count": null,
      "outputs": []
    },
    {
      "cell_type": "code",
      "source": [
        "df2.show()"
      ],
      "metadata": {
        "id": "1wwYGh36-uJe"
      },
      "execution_count": null,
      "outputs": []
    },
    {
      "cell_type": "code",
      "source": [
        "df4=df2.withColumn(\"decada\", when((col(\"ano_nascimento\") >=1900) & (col(\"ano_nascimento\") <1910), 00)\n",
        "                         .when((col(\"ano_nascimento\") >=1910) & (col(\"ano_nascimento\") <1920), 10)\n",
        "                         .when((col(\"ano_nascimento\") >=1920) & (col(\"ano_nascimento\") <1930), 20)\n",
        "                         .when((col(\"ano_nascimento\") >=1930) & (col(\"ano_nascimento\") <1940), 30)\n",
        "                         .when((col(\"ano_nascimento\") >=1940) & (col(\"ano_nascimento\") <1950), 40)\n",
        "                         .when((col(\"ano_nascimento\") >=1950) & (col(\"ano_nascimento\") <1960), 50)\n",
        "                         .when((col(\"ano_nascimento\") >=1960) & (col(\"ano_nascimento\") <1970), 60)\n",
        "                         .when((col(\"ano_nascimento\") >=1970) & (col(\"ano_nascimento\") <1980), 70)\n",
        "                         .when((col(\"ano_nascimento\") >=1980) & (col(\"ano_nascimento\") <1990), 80)\n",
        "                         .when((col(\"ano_nascimento\") >=1990) & (col(\"ano_nascimento\") <2000), 90)\n",
        "                         .when((col(\"ano_nascimento\") >=2000) & (col(\"ano_nascimento\") <2010), 200)\n",
        "                         .when((col(\"ano_nascimento\") >=2010) & (col(\"ano_nascimento\") <2020), 210)\n",
        "                         .otherwise(3333)\n",
        "              )"
      ],
      "metadata": {
        "id": "FKdONEbu-xSl"
      },
      "execution_count": null,
      "outputs": []
    },
    {
      "cell_type": "code",
      "source": [
        "df5=df4.groupBy(col(\"decada\")).agg(sum(col(\"count_nascimento\").alias(\"count_nascimento_decada\")))"
      ],
      "metadata": {
        "id": "RMovcnZABO1M"
      },
      "execution_count": null,
      "outputs": []
    },
    {
      "cell_type": "code",
      "source": [
        "df4.filter(col(\"ano_nascimento\")> 0).show()"
      ],
      "metadata": {
        "id": "AUr9EtYhC3ZE"
      },
      "execution_count": null,
      "outputs": []
    },
    {
      "cell_type": "markdown",
      "source": [
        "## 9 Qual a década que que há mais pessoas empregadas?\n"
      ],
      "metadata": {
        "id": "mKwkdN9nEI8u"
      }
    },
    {
      "cell_type": "code",
      "source": [
        "df_pessoa2 = df_pessoa.filter((col(\"tem_emprego\") == 1) & (col(\"aniversario\").isNotNull()))"
      ],
      "metadata": {
        "id": "QjJgJSGJDGZH"
      },
      "execution_count": null,
      "outputs": []
    },
    {
      "cell_type": "code",
      "source": [
        "df_pessoa2 = df_pessoa2.groupBy(year(col(\"aniversario\")).alias(\"ano_nascimento\")).agg(count(\"id_profile\").alias(\"count_nascimento\"))\n",
        "df_pessoa2 = df_pessoa2.filter(col(\"ano_nascimento\").isNotNull())\n",
        "df_pessoa2 = df_pessoa2.orderBy(col(\"ano_nascimento\").asc())\n",
        "\n",
        "\n",
        "df_pessoa2 = df_pessoa2.withColumn(\"decada\", when((col(\"ano_nascimento\") >=1900) & (col(\"ano_nascimento\") <1910), 00)\n",
        "                         .when((col(\"ano_nascimento\") >=1910) & (col(\"ano_nascimento\") <1920), 10)\n",
        "                         .when((col(\"ano_nascimento\") >=1920) & (col(\"ano_nascimento\") <1930), 20)\n",
        "                         .when((col(\"ano_nascimento\") >=1930) & (col(\"ano_nascimento\") <1940), 30)\n",
        "                         .when((col(\"ano_nascimento\") >=1940) & (col(\"ano_nascimento\") <1950), 40)\n",
        "                         .when((col(\"ano_nascimento\") >=1950) & (col(\"ano_nascimento\") <1960), 50)\n",
        "                         .when((col(\"ano_nascimento\") >=1960) & (col(\"ano_nascimento\") <1970), 60)\n",
        "                         .when((col(\"ano_nascimento\") >=1970) & (col(\"ano_nascimento\") <1980), 70)\n",
        "                         .when((col(\"ano_nascimento\") >=1980) & (col(\"ano_nascimento\") <1990), 80)\n",
        "                         .when((col(\"ano_nascimento\") >=1990) & (col(\"ano_nascimento\") <2000), 90)\n",
        "                         .when((col(\"ano_nascimento\") >=2000) & (col(\"ano_nascimento\") <2010), 200)\n",
        "                         .when((col(\"ano_nascimento\") >=2010) & (col(\"ano_nascimento\") <2020), 210)\n",
        "                         .otherwise(3333)\n",
        "              )"
      ],
      "metadata": {
        "id": "8PbgPptXEn_M"
      },
      "execution_count": null,
      "outputs": []
    },
    {
      "cell_type": "code",
      "source": [
        "df_pessoa2=df_pessoa2.groupBy(col(\"decada\")).agg(sum(col(\"count_nascimento\")).alias(\"count_nascimento_decada\"))"
      ],
      "metadata": {
        "id": "YWGEL8LDFKsU"
      },
      "execution_count": null,
      "outputs": []
    },
    {
      "cell_type": "code",
      "source": [
        "df_pessoa2.orderBy(col(\"count_nascimento_decada\").desc()).show(1)"
      ],
      "metadata": {
        "id": "XGxotUyzFmlu"
      },
      "execution_count": null,
      "outputs": []
    },
    {
      "cell_type": "code",
      "source": [],
      "metadata": {
        "id": "FP9sw6UaGqSD"
      },
      "execution_count": null,
      "outputs": []
    }
  ]
}