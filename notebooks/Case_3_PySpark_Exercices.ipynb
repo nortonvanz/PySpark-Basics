{
  "nbformat": 4,
  "nbformat_minor": 0,
  "metadata": {
    "colab": {
      "provenance": [],
      "include_colab_link": true
    },
    "kernelspec": {
      "name": "python3",
      "display_name": "Python 3"
    },
    "language_info": {
      "name": "python"
    }
  },
  "cells": [
    {
      "cell_type": "markdown",
      "metadata": {
        "id": "view-in-github",
        "colab_type": "text"
      },
      "source": [
        "<a href=\"https://colab.research.google.com/github/nortonvanz/PySpark-Basics/blob/main/notebooks/Case_3_PySpark_Exercices.ipynb\" target=\"_parent\"><img src=\"https://colab.research.google.com/assets/colab-badge.svg\" alt=\"Open In Colab\"/></a>"
      ]
    },
    {
      "cell_type": "code",
      "execution_count": 169,
      "metadata": {
        "id": "4a5FNX2d8UF1",
        "colab": {
          "base_uri": "https://localhost:8080/"
        },
        "outputId": "183b20e1-9e1a-40b0-d7bb-54df4206de49"
      },
      "outputs": [
        {
          "output_type": "stream",
          "name": "stdout",
          "text": [
            "Collecting unidecode\n",
            "  Downloading Unidecode-1.3.7-py3-none-any.whl (235 kB)\n",
            "\u001b[?25l     \u001b[90m━━━━━━━━━━━━━━━━━━━━━━━━━━━━━━━━━━━━━━━━\u001b[0m \u001b[32m0.0/235.5 kB\u001b[0m \u001b[31m?\u001b[0m eta \u001b[36m-:--:--\u001b[0m\r\u001b[2K     \u001b[91m━━━━━━━━━━━━━━━\u001b[0m\u001b[91m╸\u001b[0m\u001b[90m━━━━━━━━━━━━━━━━━━━━━━━━\u001b[0m \u001b[32m92.2/235.5 kB\u001b[0m \u001b[31m2.7 MB/s\u001b[0m eta \u001b[36m0:00:01\u001b[0m\r\u001b[2K     \u001b[90m━━━━━━━━━━━━━━━━━━━━━━━━━━━━━━━━━━━━━━━━\u001b[0m \u001b[32m235.5/235.5 kB\u001b[0m \u001b[31m4.4 MB/s\u001b[0m eta \u001b[36m0:00:00\u001b[0m\n",
            "\u001b[?25hInstalling collected packages: unidecode\n",
            "Successfully installed unidecode-1.3.7\n"
          ]
        }
      ],
      "source": [
        "#!apt-get install openjdk-8-jdk-headless -qq > /dev/null\n",
        "#!wget -q https://archive.apache.org/dist/spark/spark-3.1.2/spark-3.1.2-bin-hadoop2.7.tgz\n",
        "#!tar xf spark-3.1.2-bin-hadoop2.7.tgz\n",
        "#!pip install -q findspark\n",
        "!pip install unidecode"
      ]
    },
    {
      "cell_type": "code",
      "source": [
        "import os\n",
        "os.environ[\"JAVA_HOME\"] = \"/usr/lib/jvm/java-8-openjdk-amd64\"\n",
        "os.environ[\"SPARK_HOME\"] = \"/content/spark-3.1.2-bin-hadoop2.7\""
      ],
      "metadata": {
        "id": "dWgXEdMV8Vov"
      },
      "execution_count": 2,
      "outputs": []
    },
    {
      "cell_type": "code",
      "source": [
        "import findspark\n",
        "findspark.init()"
      ],
      "metadata": {
        "id": "GQE8c2Xz8XMQ"
      },
      "execution_count": 3,
      "outputs": []
    },
    {
      "cell_type": "code",
      "source": [
        "from pyspark.sql import SparkSession\n",
        "from pyspark.sql.functions import *\n",
        "\n",
        "spark = SparkSession.builder \\\n",
        "    .master('local[*]') \\\n",
        "    .appName('Iniciando com Spark') \\\n",
        "    .config('spark.ui.port', '4050') \\\n",
        "    .getOrCreate()\n"
      ],
      "metadata": {
        "id": "YQ-RUywm8ZPv"
      },
      "execution_count": 4,
      "outputs": []
    },
    {
      "cell_type": "code",
      "source": [
        "#imports\n",
        "import random\n",
        "from pyspark.sql.window import Window\n",
        "from unidecode import unidecode"
      ],
      "metadata": {
        "id": "fQvs88QQ7l0D"
      },
      "execution_count": 170,
      "outputs": []
    },
    {
      "cell_type": "markdown",
      "source": [
        "# Load Datasets"
      ],
      "metadata": {
        "id": "DOrCrom-7pcQ"
      }
    },
    {
      "cell_type": "code",
      "source": [
        "#Carrega datasets do github:\n",
        "!wget --quiet --show-progress https://raw.githubusercontent.com/iara/desafio_cogna/main/dataset/tabela_profile.csv\n",
        "!wget --quiet --show-progress https://raw.githubusercontent.com/iara/desafio_cogna/main/dataset/tabela_carro.csv\n",
        "!wget --quiet --show-progress https://raw.githubusercontent.com/iara/desafio_cogna/main/dataset/tabela_emprego.csv"
      ],
      "metadata": {
        "colab": {
          "base_uri": "https://localhost:8080/"
        },
        "id": "hySmMt0o8bB9",
        "outputId": "fdbe7c6e-4978-40db-8c2b-df6eaa5a7cb2"
      },
      "execution_count": 81,
      "outputs": [
        {
          "output_type": "stream",
          "name": "stdout",
          "text": [
            "tabela_profile.csv. 100%[===================>]   1.30M  --.-KB/s    in 0.07s   \n",
            "tabela_carro.csv.1  100%[===================>] 159.33K  --.-KB/s    in 0.04s   \n",
            "tabela_emprego.csv. 100%[===================>] 196.54K  --.-KB/s    in 0.04s   \n"
          ]
        }
      ]
    },
    {
      "cell_type": "code",
      "source": [
        "#arquivos salvos no Colab\n",
        "!ls"
      ],
      "metadata": {
        "colab": {
          "base_uri": "https://localhost:8080/"
        },
        "id": "u43Rz3oZzxDd",
        "outputId": "651fcfc2-7b29-4c31-8b43-b2a2d86149fe"
      },
      "execution_count": 82,
      "outputs": [
        {
          "output_type": "stream",
          "name": "stdout",
          "text": [
            "sample_data\t\t       tabela_carro.csv    tabela_emprego.csv.1\n",
            "spark-3.1.2-bin-hadoop2.7      tabela_carro.csv.1  tabela_profile.csv\n",
            "spark-3.1.2-bin-hadoop2.7.tgz  tabela_emprego.csv  tabela_profile.csv.1\n"
          ]
        }
      ]
    },
    {
      "cell_type": "code",
      "source": [
        "df_pessoa = spark.read.csv(\"tabela_profile.csv\", sep=\",\", inferSchema=True, header=True)\n",
        "df_carro = spark.read.csv(\"tabela_carro.csv\", sep=\",\", inferSchema=True, header=True)\n",
        "df_emprego = spark.read.csv(\"tabela_emprego.csv\", inferSchema=True, header=True)"
      ],
      "metadata": {
        "id": "Ahf5ClqSX3bO"
      },
      "execution_count": 83,
      "outputs": []
    },
    {
      "cell_type": "code",
      "source": [
        "df_emprego.printSchema()"
      ],
      "metadata": {
        "colab": {
          "base_uri": "https://localhost:8080/"
        },
        "id": "7YSBLlXy0LLF",
        "outputId": "59c4098e-1ed8-4b03-ebb0-a318d4ccb60d"
      },
      "execution_count": 84,
      "outputs": [
        {
          "output_type": "stream",
          "name": "stdout",
          "text": [
            "root\n",
            " |-- id_profile: integer (nullable = true)\n",
            " |-- cargo: string (nullable = true)\n",
            " |-- empresa: string (nullable = true)\n",
            " |-- id_emprego: integer (nullable = true)\n",
            "\n"
          ]
        }
      ]
    },
    {
      "cell_type": "code",
      "source": [
        "df_pessoa.show(3)"
      ],
      "metadata": {
        "colab": {
          "base_uri": "https://localhost:8080/"
        },
        "id": "72hbFW3tybgx",
        "outputId": "a27f6f85-705e-4f91-9771-3e07a4090221"
      },
      "execution_count": 85,
      "outputs": [
        {
          "output_type": "stream",
          "name": "stdout",
          "text": [
            "+----------+-------------+--------------------+----+--------------------+--------------------+-----------+\n",
            "|id_profile|     username|                name|sexo|            endereço|               email|aniversario|\n",
            "+----------+-------------+--------------------+----+--------------------+--------------------+-----------+\n",
            "|    579363|       ynunes|    Augusto Ferreira|   H|Trecho Leandro Sa...|ana-julia59@ig.co...| 1934-05-04|\n",
            "|    739543|kamillyvieira|        Helena Viana|   M|Trevo Nogueira  4...|vianamaria-julia@...| 2000-07-17|\n",
            "|     75467| araujofelipe|Srta. Amanda Teix...|   M|Condomínio de Nov...|   qcastro@gmail.com| 1936-07-25|\n",
            "+----------+-------------+--------------------+----+--------------------+--------------------+-----------+\n",
            "only showing top 3 rows\n",
            "\n"
          ]
        }
      ]
    },
    {
      "cell_type": "code",
      "source": [
        "df_carro.show(3)"
      ],
      "metadata": {
        "colab": {
          "base_uri": "https://localhost:8080/"
        },
        "id": "4_aPS_5737-5",
        "outputId": "decf0122-8e24-41af-80c7-4266e283622e"
      },
      "execution_count": 86,
      "outputs": [
        {
          "output_type": "stream",
          "name": "stdout",
          "text": [
            "+----------+-----------+--------------+--------+\n",
            "|id_profile|placa_carro|data_aquisicao|id_carro|\n",
            "+----------+-----------+--------------+--------+\n",
            "|    591942|   ZHT-2654|    2001-03-06|   73634|\n",
            "|    381762|   LEL-7635|    1999-01-29|   39149|\n",
            "|    653260|   KUL-6169|    1999-06-13|   48149|\n",
            "+----------+-----------+--------------+--------+\n",
            "only showing top 3 rows\n",
            "\n"
          ]
        }
      ]
    },
    {
      "cell_type": "code",
      "source": [
        "df_emprego.show(3)"
      ],
      "metadata": {
        "colab": {
          "base_uri": "https://localhost:8080/"
        },
        "id": "7HPAcOZy4BiG",
        "outputId": "195ac638-6cac-48e2-e0e7-aeb26c774396"
      },
      "execution_count": 87,
      "outputs": [
        {
          "output_type": "stream",
          "name": "stdout",
          "text": [
            "+----------+------------------+------------------+----------+\n",
            "|id_profile|             cargo|           empresa|id_emprego|\n",
            "+----------+------------------+------------------+----------+\n",
            "|     33062|Engenheiro químico|      da Conceição|     38503|\n",
            "|     97704|          Contador|Sales Caldeira S/A|     79501|\n",
            "|     19073|          Marechal|            Fogaça|     33353|\n",
            "+----------+------------------+------------------+----------+\n",
            "only showing top 3 rows\n",
            "\n"
          ]
        }
      ]
    },
    {
      "cell_type": "markdown",
      "source": [
        "# Questões de Negócio"
      ],
      "metadata": {
        "id": "WVT2S5Z87xei"
      }
    },
    {
      "cell_type": "markdown",
      "source": [
        "## 1 Quantas porcento das pessoas  empregadas?"
      ],
      "metadata": {
        "id": "zexsg62ZaE_B"
      }
    },
    {
      "cell_type": "code",
      "source": [
        "#juntar df_pessoa com df_emprego pelo id_profile\n",
        "df_pessoa = df_pessoa.join(df_emprego, [\"id_profile\"], \"left\")"
      ],
      "metadata": {
        "id": "5NjtNF_w4Rkl"
      },
      "execution_count": 88,
      "outputs": []
    },
    {
      "cell_type": "code",
      "source": [
        "df_pessoa.show(5)"
      ],
      "metadata": {
        "id": "DZlRlIArYIpI",
        "colab": {
          "base_uri": "https://localhost:8080/"
        },
        "outputId": "3581c51d-9654-48d8-ffc7-4ef654ed4861"
      },
      "execution_count": 89,
      "outputs": [
        {
          "output_type": "stream",
          "name": "stdout",
          "text": [
            "+----------+-------------+--------------------+----+--------------------+--------------------+-----------+-----+-------+----------+\n",
            "|id_profile|     username|                name|sexo|            endereço|               email|aniversario|cargo|empresa|id_emprego|\n",
            "+----------+-------------+--------------------+----+--------------------+--------------------+-----------+-----+-------+----------+\n",
            "|    579363|       ynunes|    Augusto Ferreira|   H|Trecho Leandro Sa...|ana-julia59@ig.co...| 1934-05-04| null|   null|      null|\n",
            "|    739543|kamillyvieira|        Helena Viana|   M|Trevo Nogueira  4...|vianamaria-julia@...| 2000-07-17| null|   null|      null|\n",
            "|     75467| araujofelipe|Srta. Amanda Teix...|   M|Condomínio de Nov...|   qcastro@gmail.com| 1936-07-25| null|   null|      null|\n",
            "|    233935|  helenaalves|Dr. João Pedro Fe...|   H|Loteamento Barbos...|mariamelo@hotmail...| 1939-02-04| null|   null|      null|\n",
            "|     42638|  alexandre30|     Juliana Peixoto|   M|Rua de Castro  41...|    enzo24@gmail.com| 1912-04-07| null|   null|      null|\n",
            "+----------+-------------+--------------------+----+--------------------+--------------------+-----------+-----+-------+----------+\n",
            "only showing top 5 rows\n",
            "\n"
          ]
        }
      ]
    },
    {
      "cell_type": "code",
      "source": [
        "df_pessoa.createOrReplaceTempView(\"PESSOA\")"
      ],
      "metadata": {
        "id": "_kWUq4_P4mDC"
      },
      "execution_count": 90,
      "outputs": []
    },
    {
      "cell_type": "code",
      "source": [
        "#SPARK SQL\n",
        "spark.sql('''\n",
        "          SELECT\n",
        "            CASE WHEN CARGO IS NULL THEN 'NÃO' ELSE 'SIM' END AS EMPREGADO,\n",
        "            COUNT(ID_PROFILE) AS PESSOAS\n",
        "          FROM PESSOA\n",
        "          GROUP BY EMPREGADO\n",
        "\n",
        "        ''').show(5)"
      ],
      "metadata": {
        "colab": {
          "base_uri": "https://localhost:8080/"
        },
        "id": "6golkiVx4gE5",
        "outputId": "10f5048e-f2cb-45a3-d6aa-fe224a142d74"
      },
      "execution_count": 91,
      "outputs": [
        {
          "output_type": "stream",
          "name": "stdout",
          "text": [
            "+---------+-------+\n",
            "|EMPREGADO|PESSOAS|\n",
            "+---------+-------+\n",
            "|      NÃO|   6485|\n",
            "|      SIM|   3521|\n",
            "+---------+-------+\n",
            "\n"
          ]
        }
      ]
    },
    {
      "cell_type": "code",
      "source": [
        "# % de empregados:\n",
        "3521 / 10006 * 100"
      ],
      "metadata": {
        "colab": {
          "base_uri": "https://localhost:8080/"
        },
        "id": "KahYuc824gCo",
        "outputId": "2af6d42f-bd2d-4c50-f0bd-d31bbd2ecaae"
      },
      "execution_count": 92,
      "outputs": [
        {
          "output_type": "execute_result",
          "data": {
            "text/plain": [
              "35.188886667999206"
            ]
          },
          "metadata": {},
          "execution_count": 92
        }
      ]
    },
    {
      "cell_type": "code",
      "source": [
        "# SQL FUNCTION\n",
        "\n",
        "#criar campo tem_emprego, com 0 ou 1:\n",
        "df_pessoa2 = df_pessoa.withColumn(\"tem_emprego\", when(col(\"id_emprego\").isNotNull(), 1).when(col(\"id_emprego\").isNull(), 0))"
      ],
      "metadata": {
        "id": "wxOofuzcZCgl"
      },
      "execution_count": 93,
      "outputs": []
    },
    {
      "cell_type": "code",
      "source": [
        "df_pessoa2.show(3)"
      ],
      "metadata": {
        "colab": {
          "base_uri": "https://localhost:8080/"
        },
        "id": "rAURDnvG7EO_",
        "outputId": "8c667a12-aae0-4b2f-880c-4795411e31c4"
      },
      "execution_count": 94,
      "outputs": [
        {
          "output_type": "stream",
          "name": "stdout",
          "text": [
            "+----------+-------------+--------------------+----+--------------------+--------------------+-----------+-----+-------+----------+-----------+\n",
            "|id_profile|     username|                name|sexo|            endereço|               email|aniversario|cargo|empresa|id_emprego|tem_emprego|\n",
            "+----------+-------------+--------------------+----+--------------------+--------------------+-----------+-----+-------+----------+-----------+\n",
            "|    579363|       ynunes|    Augusto Ferreira|   H|Trecho Leandro Sa...|ana-julia59@ig.co...| 1934-05-04| null|   null|      null|          0|\n",
            "|    739543|kamillyvieira|        Helena Viana|   M|Trevo Nogueira  4...|vianamaria-julia@...| 2000-07-17| null|   null|      null|          0|\n",
            "|     75467| araujofelipe|Srta. Amanda Teix...|   M|Condomínio de Nov...|   qcastro@gmail.com| 1936-07-25| null|   null|      null|          0|\n",
            "+----------+-------------+--------------------+----+--------------------+--------------------+-----------+-----+-------+----------+-----------+\n",
            "only showing top 3 rows\n",
            "\n"
          ]
        }
      ]
    },
    {
      "cell_type": "code",
      "source": [
        "tem_emprego = df_pessoa2.where(col(\"tem_emprego\") == 1).count()\n",
        "total_pessoas = df_pessoa2.count()\n",
        "\n",
        "porcentagem=tem_emprego/total_pessoas*100\n",
        "\n",
        "print(f\"tem_emprego={tem_emprego}\")\n",
        "print(f\"total_pessoas={total_pessoas}\")\n",
        "print(f\"quem tem emprego={porcentagem}%\")"
      ],
      "metadata": {
        "id": "CnUXhcxpb1gZ",
        "colab": {
          "base_uri": "https://localhost:8080/"
        },
        "outputId": "63d0e56a-f988-40a9-87f6-2b23c640f98c"
      },
      "execution_count": 95,
      "outputs": [
        {
          "output_type": "stream",
          "name": "stdout",
          "text": [
            "tem_emprego=3521\n",
            "total_pessoas=10006\n",
            "quem tem emprego=35.188886667999206%\n"
          ]
        }
      ]
    },
    {
      "cell_type": "markdown",
      "source": [
        "## 2 Criar os salarios anuais dos empregados de forma randomica, sendo que o minimo é 1000"
      ],
      "metadata": {
        "id": "UBMNIZsZgV_K"
      }
    },
    {
      "cell_type": "code",
      "source": [
        "@udf\n",
        "def gera_salarios():\n",
        "  return random.randint(1000, 1000000)\n",
        "\n",
        "df_emprego = df_emprego.withColumn(\"salario\", gera_salarios())"
      ],
      "metadata": {
        "id": "fr7Vs_yGen9l"
      },
      "execution_count": 96,
      "outputs": []
    },
    {
      "cell_type": "code",
      "source": [
        "df_emprego.show(5)"
      ],
      "metadata": {
        "colab": {
          "base_uri": "https://localhost:8080/"
        },
        "id": "fpSfLfIU8ldc",
        "outputId": "a6e42864-2f6b-4025-87de-6c84b7238b8e"
      },
      "execution_count": 97,
      "outputs": [
        {
          "output_type": "stream",
          "name": "stdout",
          "text": [
            "+----------+--------------------+------------------+----------+-------+\n",
            "|id_profile|               cargo|           empresa|id_emprego|salario|\n",
            "+----------+--------------------+------------------+----------+-------+\n",
            "|     33062|  Engenheiro químico|      da Conceição|     38503|  19067|\n",
            "|     97704|            Contador|Sales Caldeira S/A|     79501| 394583|\n",
            "|     19073|            Marechal|            Fogaça|     33353| 908783|\n",
            "|     18918|               Cumim|            da Luz|     24143| 461566|\n",
            "|     61048|Conferente de exp...|        Cavalcanti|     86763| 190412|\n",
            "+----------+--------------------+------------------+----------+-------+\n",
            "only showing top 5 rows\n",
            "\n"
          ]
        }
      ]
    },
    {
      "cell_type": "markdown",
      "source": [
        "## 3 Qual a média salarial de cada cargo?"
      ],
      "metadata": {
        "id": "ZpaJP815g9rs"
      }
    },
    {
      "cell_type": "code",
      "source": [
        "df_emprego.show(10)"
      ],
      "metadata": {
        "colab": {
          "base_uri": "https://localhost:8080/"
        },
        "id": "6zqrVk0n_uYt",
        "outputId": "a171b83d-21ac-4e45-e33f-fdd363a7929b"
      },
      "execution_count": 98,
      "outputs": [
        {
          "output_type": "stream",
          "name": "stdout",
          "text": [
            "+----------+--------------------+--------------------+----------+-------+\n",
            "|id_profile|               cargo|             empresa|id_emprego|salario|\n",
            "+----------+--------------------+--------------------+----------+-------+\n",
            "|     33062|  Engenheiro químico|        da Conceição|     38503| 529983|\n",
            "|     97704|            Contador|  Sales Caldeira S/A|     79501| 788754|\n",
            "|     19073|            Marechal|              Fogaça|     33353| 197971|\n",
            "|     18918|               Cumim|              da Luz|     24143|  53489|\n",
            "|     61048|Conferente de exp...|          Cavalcanti|     86763| 164434|\n",
            "|     75089|Técnico em docume...| Moraes Moreira S.A.|     35470| 898145|\n",
            "|     11338| Polidor de produção|               Pinto|     48914| 929446|\n",
            "|     53918|        Carnavalesco|        da Rosa - ME|     71077| 702198|\n",
            "|     11512|          Cartunista|Nunes Moreira e F...|     28114|  79889|\n",
            "|     29897|Agente penitenciário|              Aragão|     12559| 282171|\n",
            "+----------+--------------------+--------------------+----------+-------+\n",
            "only showing top 10 rows\n",
            "\n"
          ]
        }
      ]
    },
    {
      "cell_type": "code",
      "source": [
        "#SQL FUNCTIONS\n",
        "\n",
        "#para um cargo:\n",
        "df_emprego.filter(col(\"cargo\") == \"Engenheiro químico\").show()"
      ],
      "metadata": {
        "id": "vhr7Jd7If-zZ",
        "colab": {
          "base_uri": "https://localhost:8080/"
        },
        "outputId": "b56aa327-79d6-44f9-eba3-712f2bfceb01"
      },
      "execution_count": 99,
      "outputs": [
        {
          "output_type": "stream",
          "name": "stdout",
          "text": [
            "+----------+------------------+------------------+----------+-------+\n",
            "|id_profile|             cargo|           empresa|id_emprego|salario|\n",
            "+----------+------------------+------------------+----------+-------+\n",
            "|     33062|Engenheiro químico|      da Conceição|     38503| 824360|\n",
            "|     57836|Engenheiro químico|Barbosa Gomes - ME|     90544| 701524|\n",
            "|     55758|Engenheiro químico|              Dias|     90896| 976556|\n",
            "|     59095|Engenheiro químico|             Alves|     47752| 613914|\n",
            "|    806335|Engenheiro químico|          Silveira|     30103| 882003|\n",
            "|    698440|Engenheiro químico|             Lopes|     10085| 120233|\n",
            "|    542447|Engenheiro químico|       Costela S/A|      8995| 456550|\n",
            "|    403934|Engenheiro químico|           Rezende|     83488| 850775|\n",
            "|    230830|Engenheiro químico|            Vieira|     64458| 935184|\n",
            "|    827496|Engenheiro químico|             Gomes|     44632| 590958|\n",
            "|    216314|Engenheiro químico|           Barbosa|     14463| 988135|\n",
            "|    205086|Engenheiro químico|       Nunes Ltda.|      1879| 643810|\n",
            "+----------+------------------+------------------+----------+-------+\n",
            "\n"
          ]
        }
      ]
    },
    {
      "cell_type": "code",
      "source": [
        "# Média salarial por cargo:\n",
        "df_emprego.groupBy(\"cargo\").agg(avg(\"salario\").alias(\"media_salarial\")).show(10)"
      ],
      "metadata": {
        "colab": {
          "base_uri": "https://localhost:8080/"
        },
        "id": "vnGktnP59GzL",
        "outputId": "9734876d-9e0f-46c6-86de-14e954071a43"
      },
      "execution_count": 100,
      "outputs": [
        {
          "output_type": "stream",
          "name": "stdout",
          "text": [
            "+--------------------+------------------+\n",
            "|               cargo|    media_salarial|\n",
            "+--------------------+------------------+\n",
            "|Engenheiro de erg...|          468654.5|\n",
            "|Auxiliar de repro...| 476013.6666666667|\n",
            "|        Neurologista|524205.14285714284|\n",
            "|             Tenente|          486459.0|\n",
            "|          Gastrônomo|470434.14285714284|\n",
            "|           Bailarina| 558706.8571428572|\n",
            "|Profissional de r...| 388652.0909090909|\n",
            "|         Pastilheiro| 660507.8181818182|\n",
            "|             Lavador|          506298.8|\n",
            "|Classificador con...|          518670.0|\n",
            "+--------------------+------------------+\n",
            "only showing top 10 rows\n",
            "\n"
          ]
        }
      ]
    },
    {
      "cell_type": "code",
      "source": [
        "#SPARK SQL\n",
        "df_emprego.createOrReplaceTempView(\"EMPREGO\")"
      ],
      "metadata": {
        "id": "Q4DzyVFl9d_P"
      },
      "execution_count": 101,
      "outputs": []
    },
    {
      "cell_type": "code",
      "source": [
        "#SPARK SQL\n",
        "spark.sql('''\n",
        "          SELECT\n",
        "            CARGO,\n",
        "            AVG(SALARIO) AS MEDIA_SALARIAL\n",
        "          FROM EMPREGO\n",
        "          WHERE CARGO = 'Tenente'\n",
        "          GROUP BY CARGO\n",
        "\n",
        "        ''').show(100)"
      ],
      "metadata": {
        "colab": {
          "base_uri": "https://localhost:8080/"
        },
        "id": "8va1UZfB9Gw-",
        "outputId": "c199fd0f-ea89-4405-ffcf-605566d9a34c"
      },
      "execution_count": 102,
      "outputs": [
        {
          "output_type": "stream",
          "name": "stdout",
          "text": [
            "+-------+--------------+\n",
            "|  CARGO|MEDIA_SALARIAL|\n",
            "+-------+--------------+\n",
            "|Tenente|     502384.25|\n",
            "+-------+--------------+\n",
            "\n"
          ]
        }
      ]
    },
    {
      "cell_type": "code",
      "source": [
        "#PS: alterando o valor devido ao random, mas a lógica acima é aplicável em um dataset real."
      ],
      "metadata": {
        "id": "OKji1mVEHysI"
      },
      "execution_count": 103,
      "outputs": []
    },
    {
      "cell_type": "markdown",
      "source": [
        "## 4 Gerar um numero sequencial para cada cargo, e eliminar todos as linhas maiores que 1."
      ],
      "metadata": {
        "id": "cVWAn3ssqBUV"
      }
    },
    {
      "cell_type": "code",
      "source": [
        "df_emprego.show(3)"
      ],
      "metadata": {
        "colab": {
          "base_uri": "https://localhost:8080/"
        },
        "id": "3dYhg0TxH9Im",
        "outputId": "1ee35b80-9ede-4bd4-9e74-f39817c0b344"
      },
      "execution_count": 104,
      "outputs": [
        {
          "output_type": "stream",
          "name": "stdout",
          "text": [
            "+----------+------------------+------------------+----------+-------+\n",
            "|id_profile|             cargo|           empresa|id_emprego|salario|\n",
            "+----------+------------------+------------------+----------+-------+\n",
            "|     33062|Engenheiro químico|      da Conceição|     38503| 577637|\n",
            "|     97704|          Contador|Sales Caldeira S/A|     79501| 479217|\n",
            "|     19073|          Marechal|            Fogaça|     33353| 177941|\n",
            "+----------+------------------+------------------+----------+-------+\n",
            "only showing top 3 rows\n",
            "\n"
          ]
        }
      ]
    },
    {
      "cell_type": "code",
      "source": [
        "windows = Window.partitionBy(\"cargo\").orderBy(col(\"salario\").asc())"
      ],
      "metadata": {
        "id": "fK-OJrm4L5vV"
      },
      "execution_count": 105,
      "outputs": []
    },
    {
      "cell_type": "code",
      "source": [
        "#cria rownum para cada cargo\n",
        "df_emprego = df_emprego.withColumn(\"row_number\", row_number().over(windows))"
      ],
      "metadata": {
        "id": "S4LTP1QlMQCO"
      },
      "execution_count": 106,
      "outputs": []
    },
    {
      "cell_type": "code",
      "source": [
        "df_emprego.show(5)"
      ],
      "metadata": {
        "colab": {
          "base_uri": "https://localhost:8080/"
        },
        "id": "cjNL0Og4MgFb",
        "outputId": "d11cd0b7-0594-4cc1-bc51-66aadd45c2c6"
      },
      "execution_count": 107,
      "outputs": [
        {
          "output_type": "stream",
          "name": "stdout",
          "text": [
            "+----------+--------------------+-------------------+----------+-------+----------+\n",
            "|id_profile|               cargo|            empresa|id_emprego|salario|row_number|\n",
            "+----------+--------------------+-------------------+----------+-------+----------+\n",
            "|     98577|Auxiliar de repro...|  Duarte Jesus - ME|     95203| 332350|         1|\n",
            "|     40630|Auxiliar de repro...|              Nunes|     31885| 727394|         2|\n",
            "|      3331|Auxiliar de repro...|   Gomes Rocha - EI|     30316| 779512|         3|\n",
            "|     15797|Engenheiro de erg...|Azevedo da Luz S.A.|     14731| 120214|         1|\n",
            "|     70290|Engenheiro de erg...|             Moraes|     33119| 137431|         2|\n",
            "+----------+--------------------+-------------------+----------+-------+----------+\n",
            "only showing top 5 rows\n",
            "\n"
          ]
        }
      ]
    },
    {
      "cell_type": "code",
      "source": [
        "#rownum se usa muito pra eliminar duplicados na prática"
      ],
      "metadata": {
        "id": "FPm10IHQMxLj"
      },
      "execution_count": 108,
      "outputs": []
    },
    {
      "cell_type": "code",
      "source": [
        "#manter só rownum = 1\n",
        "df_emprego = df_emprego.filter(col(\"row_number\") == 1)"
      ],
      "metadata": {
        "id": "_eE1JqhUj1Q9"
      },
      "execution_count": 109,
      "outputs": []
    },
    {
      "cell_type": "code",
      "source": [
        "df_emprego.show(5)"
      ],
      "metadata": {
        "id": "9oYy7pMeqOd4",
        "colab": {
          "base_uri": "https://localhost:8080/"
        },
        "outputId": "da2b6c43-a4ef-42b8-d5e1-4902c43ac5a5"
      },
      "execution_count": 125,
      "outputs": [
        {
          "output_type": "stream",
          "name": "stdout",
          "text": [
            "+----------+--------------------+--------------------+----------+-------+----------+\n",
            "|id_profile|               cargo|             empresa|id_emprego|salario|row_number|\n",
            "+----------+--------------------+--------------------+----------+-------+----------+\n",
            "|     40630|Auxiliar de repro...|               Nunes|     31885| 840793|         1|\n",
            "|     26571|Engenheiro de erg...|           Melo - ME|     52767| 115102|         1|\n",
            "|     58023|          Gastrônomo|Moreira Aragão e ...|     70592| 235869|         1|\n",
            "|     76400|        Neurologista|          da Paz S/A|     65881| 127962|         1|\n",
            "|     98111|             Tenente|         Duarte - ME|     59388| 103633|         1|\n",
            "+----------+--------------------+--------------------+----------+-------+----------+\n",
            "only showing top 5 rows\n",
            "\n"
          ]
        }
      ]
    },
    {
      "cell_type": "code",
      "source": [
        "#SPARK SQL\n",
        "\n",
        "# Executa a query SQL para adicionar a coluna de número sequencial\n",
        "spark.sql('''\n",
        "         SELECT *,\n",
        "            ROW_NUMBER() OVER (PARTITION BY cargo ORDER BY id_profile) as numero_sequencial\n",
        "        FROM EMPREGO\n",
        "\n",
        "        ''').show(10)"
      ],
      "metadata": {
        "colab": {
          "base_uri": "https://localhost:8080/"
        },
        "id": "TzLmqqPiONnP",
        "outputId": "f9b11e86-0276-433e-a9e2-471b22f6f7fb"
      },
      "execution_count": 128,
      "outputs": [
        {
          "output_type": "stream",
          "name": "stdout",
          "text": [
            "+----------+--------------------+--------------------+----------+-------+----------+-----------------+\n",
            "|id_profile|               cargo|             empresa|id_emprego|salario|row_number|numero_sequencial|\n",
            "+----------+--------------------+--------------------+----------+-------+----------+-----------------+\n",
            "|      3331|Auxiliar de repro...|    Gomes Rocha - EI|     30316|  55024|         1|                1|\n",
            "|     26571|Engenheiro de erg...|           Melo - ME|     52767| 105331|         1|                1|\n",
            "|    887493|          Gastrônomo|            Nogueira|     13844| 102513|         1|                1|\n",
            "|    906712|        Neurologista|               Cunha|     61932| 196308|         1|                1|\n",
            "|     79273|             Tenente|            Caldeira|     70732| 107532|         1|                1|\n",
            "|      4409|           Bailarina|        da Rosa - EI|     94208| 151847|         1|                1|\n",
            "|    187034|Classificador con...|Araújo da Cunha - ME|     96454| 200868|         1|                1|\n",
            "|    716800|             Lavador|                Dias|     74925| 160580|         1|                1|\n",
            "|     32130|         Pastilheiro|               Pinto|     44609| 248068|         1|                1|\n",
            "|    587841|Profissional de r...|             da Mata|     38809| 258902|         1|                1|\n",
            "+----------+--------------------+--------------------+----------+-------+----------+-----------------+\n",
            "only showing top 10 rows\n",
            "\n"
          ]
        }
      ]
    },
    {
      "cell_type": "code",
      "source": [
        "#df_emprego atualizada\n",
        "df_emprego.show(5)"
      ],
      "metadata": {
        "colab": {
          "base_uri": "https://localhost:8080/"
        },
        "id": "h6RnuNQvQStL",
        "outputId": "b38394f7-ee81-4746-8ca2-e66834231071"
      },
      "execution_count": 132,
      "outputs": [
        {
          "output_type": "stream",
          "name": "stdout",
          "text": [
            "+----------+--------------------+--------------------+----------+-------+----------+\n",
            "|id_profile|               cargo|             empresa|id_emprego|salario|row_number|\n",
            "+----------+--------------------+--------------------+----------+-------+----------+\n",
            "|     98577|Auxiliar de repro...|   Duarte Jesus - ME|     95203| 267108|         1|\n",
            "|     57384|Engenheiro de erg...|             Peixoto|       135| 107557|         1|\n",
            "|    696563|          Gastrônomo|Teixeira Caldeira...|     52039| 195516|         1|\n",
            "|    210127|        Neurologista|          Melo Ltda.|     34664| 176028|         1|\n",
            "|    197143|             Tenente|         Moraes S.A.|     32418| 142557|         1|\n",
            "+----------+--------------------+--------------------+----------+-------+----------+\n",
            "only showing top 5 rows\n",
            "\n"
          ]
        }
      ]
    },
    {
      "cell_type": "code",
      "source": [
        "#SPARK SQL\n",
        "#recriar view EMPREGO com os novos dados:\n",
        "df_emprego.createOrReplaceTempView(\"EMPREGO\")"
      ],
      "metadata": {
        "id": "qnTMthUcPG2H"
      },
      "execution_count": 133,
      "outputs": []
    },
    {
      "cell_type": "code",
      "source": [
        "spark.sql('''\n",
        "         SELECT *\n",
        "        FROM EMPREGO\n",
        "        ''').show(10)"
      ],
      "metadata": {
        "colab": {
          "base_uri": "https://localhost:8080/"
        },
        "id": "rHgM9VmlOdzu",
        "outputId": "004686ee-09aa-4224-93f2-3aad7977661d"
      },
      "execution_count": 134,
      "outputs": [
        {
          "output_type": "stream",
          "name": "stdout",
          "text": [
            "+----------+--------------------+--------------------+----------+-------+----------+\n",
            "|id_profile|               cargo|             empresa|id_emprego|salario|row_number|\n",
            "+----------+--------------------+--------------------+----------+-------+----------+\n",
            "|     40630|Auxiliar de repro...|               Nunes|     31885|  16248|         1|\n",
            "|    414875|Engenheiro de erg...|   da Paz Rocha - ME|     22937| 344557|         1|\n",
            "|     65152|          Gastrônomo|     Santos e Filhos|     14812| 155815|         1|\n",
            "|    169437|        Neurologista|   Silva Cardoso S/A|     81789| 148930|         1|\n",
            "|    395417|             Tenente|  Farias Cunha Ltda.|     94370| 295823|         1|\n",
            "|    672344|           Bailarina|Lima Nascimento - EI|     71563| 197964|         1|\n",
            "|    220833|Classificador con...|           Pires S/A|      8869| 206060|         1|\n",
            "|    215500|             Lavador|             Rezende|     90093| 309444|         1|\n",
            "|    899315|         Pastilheiro|              Araújo|     58340| 319568|         1|\n",
            "|    450756|Profissional de r...|            da Rocha|     20508| 141968|         1|\n",
            "+----------+--------------------+--------------------+----------+-------+----------+\n",
            "only showing top 10 rows\n",
            "\n"
          ]
        }
      ]
    },
    {
      "cell_type": "markdown",
      "source": [
        "## 5 Quem é a pessoa mais jovem a ter um carro?"
      ],
      "metadata": {
        "id": "1VaSc__ZsCjd"
      }
    },
    {
      "cell_type": "code",
      "source": [
        "df_pessoa.show(3)"
      ],
      "metadata": {
        "colab": {
          "base_uri": "https://localhost:8080/"
        },
        "id": "AUBjbZY7QjUv",
        "outputId": "b4005056-f6d5-4098-ede7-265d744a8f42"
      },
      "execution_count": 138,
      "outputs": [
        {
          "output_type": "stream",
          "name": "stdout",
          "text": [
            "+----------+-------------+--------------------+----+--------------------+--------------------+-----------+-----+-------+----------+\n",
            "|id_profile|     username|                name|sexo|            endereço|               email|aniversario|cargo|empresa|id_emprego|\n",
            "+----------+-------------+--------------------+----+--------------------+--------------------+-----------+-----+-------+----------+\n",
            "|    579363|       ynunes|    Augusto Ferreira|   H|Trecho Leandro Sa...|ana-julia59@ig.co...| 1934-05-04| null|   null|      null|\n",
            "|    739543|kamillyvieira|        Helena Viana|   M|Trevo Nogueira  4...|vianamaria-julia@...| 2000-07-17| null|   null|      null|\n",
            "|     75467| araujofelipe|Srta. Amanda Teix...|   M|Condomínio de Nov...|   qcastro@gmail.com| 1936-07-25| null|   null|      null|\n",
            "+----------+-------------+--------------------+----+--------------------+--------------------+-----------+-----+-------+----------+\n",
            "only showing top 3 rows\n",
            "\n"
          ]
        }
      ]
    },
    {
      "cell_type": "code",
      "source": [
        "df_carro.show(3)"
      ],
      "metadata": {
        "colab": {
          "base_uri": "https://localhost:8080/"
        },
        "id": "JUcAP7q2QhWq",
        "outputId": "b0b04e94-44a4-4172-8b14-3aaaaebc0549"
      },
      "execution_count": 137,
      "outputs": [
        {
          "output_type": "stream",
          "name": "stdout",
          "text": [
            "+----------+-----------+--------------+--------+\n",
            "|id_profile|placa_carro|data_aquisicao|id_carro|\n",
            "+----------+-----------+--------------+--------+\n",
            "|    591942|   ZHT-2654|    2001-03-06|   73634|\n",
            "|    381762|   LEL-7635|    1999-01-29|   39149|\n",
            "|    653260|   KUL-6169|    1999-06-13|   48149|\n",
            "+----------+-----------+--------------+--------+\n",
            "only showing top 3 rows\n",
            "\n"
          ]
        }
      ]
    },
    {
      "cell_type": "code",
      "source": [
        "# SPARK SQL:"
      ],
      "metadata": {
        "id": "wjMn6hUBSEQO"
      },
      "execution_count": null,
      "outputs": []
    },
    {
      "cell_type": "code",
      "source": [
        "#temos a view de pessoa já, criar a de carro:\n",
        "df_carro.createOrReplaceTempView(\"CARRO\")"
      ],
      "metadata": {
        "id": "pLn1fyxzQ4p9"
      },
      "execution_count": 142,
      "outputs": []
    },
    {
      "cell_type": "code",
      "source": [
        "spark.sql('''\n",
        "          SELECT\n",
        "            P.ID_PROFILE,\n",
        "            P.ANIVERSARIO\n",
        "          FROM CARRO C\n",
        "          INNER JOIN PESSOA P ON P.id_profile = C.id_profile\n",
        "          ORDER BY P.ANIVERSARIO DESC\n",
        "          LIMIT 1\n",
        "        ''').show(10)"
      ],
      "metadata": {
        "colab": {
          "base_uri": "https://localhost:8080/"
        },
        "id": "30dHUI5-Qoa3",
        "outputId": "69dbe2be-2eab-46b9-dcd7-b2db4bd6a7d1"
      },
      "execution_count": 154,
      "outputs": [
        {
          "output_type": "stream",
          "name": "stdout",
          "text": [
            "+----------+-----------+\n",
            "|ID_PROFILE|ANIVERSARIO|\n",
            "+----------+-----------+\n",
            "|    875425| 2002-12-09|\n",
            "+----------+-----------+\n",
            "\n"
          ]
        }
      ]
    },
    {
      "cell_type": "code",
      "source": [],
      "metadata": {
        "id": "wJXIurshQv0m"
      },
      "execution_count": null,
      "outputs": []
    },
    {
      "cell_type": "code",
      "source": [
        "# SQL FUNCIONS"
      ],
      "metadata": {
        "id": "FuF9POpwQvym"
      },
      "execution_count": null,
      "outputs": []
    },
    {
      "cell_type": "code",
      "source": [
        "df_carro2 = df_pessoa.join(df_carro, [\"id_profile\"], \"inner\")"
      ],
      "metadata": {
        "id": "LB3R38s2rN7X"
      },
      "execution_count": 155,
      "outputs": []
    },
    {
      "cell_type": "code",
      "source": [
        "df_carro2.withColumn(\"aniversario\", to_date(col(\"aniversario\"),\"yyyy-MM-dd\"))\n",
        "df_carro2.orderBy(col(\"aniversario\").desc()).show(1)"
      ],
      "metadata": {
        "id": "0RhFq1tysKB5",
        "colab": {
          "base_uri": "https://localhost:8080/"
        },
        "outputId": "a95ac3e8-2208-4542-cf56-4fc47d7ec23d"
      },
      "execution_count": 156,
      "outputs": [
        {
          "output_type": "stream",
          "name": "stdout",
          "text": [
            "+----------+-----------+-------------+----+--------------------+-------------------+-----------+-----+-------+----------+-----------+--------------+--------+\n",
            "|id_profile|   username|         name|sexo|            endereço|              email|aniversario|cargo|empresa|id_emprego|placa_carro|data_aquisicao|id_carro|\n",
            "+----------+-----------+-------------+----+--------------------+-------------------+-----------+-----+-------+----------+-----------+--------------+--------+\n",
            "|    875425|castrorenan|Rafaela Viana|   M|Avenida Freitas  ...|ocunha@yahoo.com.br| 2002-12-09| null|   null|      null|   DAY-1821|    2014-05-25|   75332|\n",
            "+----------+-----------+-------------+----+--------------------+-------------------+-----------+-----+-------+----------+-----------+--------------+--------+\n",
            "only showing top 1 row\n",
            "\n"
          ]
        }
      ]
    },
    {
      "cell_type": "code",
      "source": [
        "# por sexo:\n",
        "df_carro2.groupBy(\"sexo\").agg(max(col(\"aniversario\"))).show()"
      ],
      "metadata": {
        "id": "n8UQrhEpsmCc",
        "colab": {
          "base_uri": "https://localhost:8080/"
        },
        "outputId": "2931de51-88ce-4a13-a2ed-7dd9a9734dc8"
      },
      "execution_count": 157,
      "outputs": [
        {
          "output_type": "stream",
          "name": "stdout",
          "text": [
            "+----+----------------+\n",
            "|sexo|max(aniversario)|\n",
            "+----+----------------+\n",
            "|   M|      2002-12-09|\n",
            "|   H|      2002-12-07|\n",
            "+----+----------------+\n",
            "\n"
          ]
        }
      ]
    },
    {
      "cell_type": "markdown",
      "source": [
        "## 6 Normalizar o id_profile para 8 digitos nos dataframes"
      ],
      "metadata": {
        "id": "Hx2acoP7vYKd"
      }
    },
    {
      "cell_type": "code",
      "source": [
        "df_emprego.show(3)"
      ],
      "metadata": {
        "colab": {
          "base_uri": "https://localhost:8080/"
        },
        "id": "5mOWrc0uSl_6",
        "outputId": "ba0e28f0-6c4d-4721-e4ac-e755cef32353"
      },
      "execution_count": 158,
      "outputs": [
        {
          "output_type": "stream",
          "name": "stdout",
          "text": [
            "+----------+--------------------+----------------+----------+-------+----------+\n",
            "|id_profile|               cargo|         empresa|id_emprego|salario|row_number|\n",
            "+----------+--------------------+----------------+----------+-------+----------+\n",
            "|      3331|Auxiliar de repro...|Gomes Rocha - EI|     30316| 599931|         1|\n",
            "|    327315|Engenheiro de erg...|           Cunha|     61308| 232169|         1|\n",
            "|     65152|          Gastrônomo| Santos e Filhos|     14812| 348563|         1|\n",
            "+----------+--------------------+----------------+----------+-------+----------+\n",
            "only showing top 3 rows\n",
            "\n"
          ]
        }
      ]
    },
    {
      "cell_type": "code",
      "source": [
        "#usar função lbad para preencher com zero:\n",
        "df_emprego = df_emprego.withColumn(\"id_profile\", lpad(col(\"id_profile\"),8, '0'))\n",
        "df_carro = df_carro.withColumn(\"id_profile\", lpad(col(\"id_profile\"),8, '0'))\n",
        "df_pessoa = df_pessoa.withColumn(\"id_profile\", lpad(col(\"id_profile\"),8, '0'))"
      ],
      "metadata": {
        "id": "uYlIx5NItZLo"
      },
      "execution_count": 160,
      "outputs": []
    },
    {
      "cell_type": "code",
      "source": [
        "df_pessoa.show(5)"
      ],
      "metadata": {
        "colab": {
          "base_uri": "https://localhost:8080/"
        },
        "id": "tQDgNr56TJ-d",
        "outputId": "aa6f7b4c-d1a4-40d0-bc65-daf0bb1f92ab"
      },
      "execution_count": 163,
      "outputs": [
        {
          "output_type": "stream",
          "name": "stdout",
          "text": [
            "+----------+-------------+--------------------+----+--------------------+--------------------+-----------+-----+-------+----------+\n",
            "|id_profile|     username|                name|sexo|            endereço|               email|aniversario|cargo|empresa|id_emprego|\n",
            "+----------+-------------+--------------------+----+--------------------+--------------------+-----------+-----+-------+----------+\n",
            "|  00579363|       ynunes|    Augusto Ferreira|   H|Trecho Leandro Sa...|ana-julia59@ig.co...| 1934-05-04| null|   null|      null|\n",
            "|  00739543|kamillyvieira|        Helena Viana|   M|Trevo Nogueira  4...|vianamaria-julia@...| 2000-07-17| null|   null|      null|\n",
            "|  00075467| araujofelipe|Srta. Amanda Teix...|   M|Condomínio de Nov...|   qcastro@gmail.com| 1936-07-25| null|   null|      null|\n",
            "|  00233935|  helenaalves|Dr. João Pedro Fe...|   H|Loteamento Barbos...|mariamelo@hotmail...| 1939-02-04| null|   null|      null|\n",
            "|  00042638|  alexandre30|     Juliana Peixoto|   M|Rua de Castro  41...|    enzo24@gmail.com| 1912-04-07| null|   null|      null|\n",
            "+----------+-------------+--------------------+----+--------------------+--------------------+-----------+-----+-------+----------+\n",
            "only showing top 5 rows\n",
            "\n"
          ]
        }
      ]
    },
    {
      "cell_type": "markdown",
      "source": [
        "## 7 Remover o acento dos nomes no dataframe de pessoa."
      ],
      "metadata": {
        "id": "NHdgp5yCxduZ"
      }
    },
    {
      "cell_type": "code",
      "source": [
        "#importada lib: unidecode\n",
        "print(unidecode('chapéu, cão'))"
      ],
      "metadata": {
        "id": "oqWBtNjzw3m6",
        "colab": {
          "base_uri": "https://localhost:8080/"
        },
        "outputId": "2861d093-6824-4867-a7b4-64c5d32a4281"
      },
      "execution_count": 175,
      "outputs": [
        {
          "output_type": "stream",
          "name": "stdout",
          "text": [
            "chapeu, cao\n"
          ]
        }
      ]
    },
    {
      "cell_type": "code",
      "source": [
        "#name original\n",
        "df_pessoa.show(5)"
      ],
      "metadata": {
        "colab": {
          "base_uri": "https://localhost:8080/"
        },
        "id": "SKdLp90gUOaX",
        "outputId": "a4e3b265-bc2a-474e-bad8-94bd312c9dd8"
      },
      "execution_count": 180,
      "outputs": [
        {
          "output_type": "stream",
          "name": "stdout",
          "text": [
            "+----------+-------------+--------------------+----+--------------------+--------------------+-----------+-----+-------+----------+\n",
            "|id_profile|     username|                name|sexo|            endereço|               email|aniversario|cargo|empresa|id_emprego|\n",
            "+----------+-------------+--------------------+----+--------------------+--------------------+-----------+-----+-------+----------+\n",
            "|  00579363|       ynunes|    Augusto Ferreira|   H|Trecho Leandro Sa...|ana-julia59@ig.co...| 1934-05-04| null|   null|      null|\n",
            "|  00739543|kamillyvieira|        Helena Viana|   M|Trevo Nogueira  4...|vianamaria-julia@...| 2000-07-17| null|   null|      null|\n",
            "|  00075467| araujofelipe|Srta. Amanda Teix...|   M|Condomínio de Nov...|   qcastro@gmail.com| 1936-07-25| null|   null|      null|\n",
            "|  00233935|  helenaalves|Dr. João Pedro Fe...|   H|Loteamento Barbos...|mariamelo@hotmail...| 1939-02-04| null|   null|      null|\n",
            "|  00042638|  alexandre30|     Juliana Peixoto|   M|Rua de Castro  41...|    enzo24@gmail.com| 1912-04-07| null|   null|      null|\n",
            "+----------+-------------+--------------------+----+--------------------+--------------------+-----------+-----+-------+----------+\n",
            "only showing top 5 rows\n",
            "\n"
          ]
        }
      ]
    },
    {
      "cell_type": "code",
      "source": [
        "#funçõa recebe o nome, e retorna sem acento:\n",
        "@udf\n",
        "def unicode_name(name):\n",
        "  return unidecode(name)"
      ],
      "metadata": {
        "id": "Xy0mD35iVZvM"
      },
      "execution_count": 185,
      "outputs": []
    },
    {
      "cell_type": "code",
      "source": [
        "df_pessoa = df_pessoa.withColumn(\"name\", unicode_name(col(\"name\")))"
      ],
      "metadata": {
        "id": "0afVtI9tyBRn"
      },
      "execution_count": 191,
      "outputs": []
    },
    {
      "cell_type": "code",
      "source": [
        "#coluna nome tratada:\n",
        "df_pessoa.select(\"name\").show(5)"
      ],
      "metadata": {
        "colab": {
          "base_uri": "https://localhost:8080/"
        },
        "id": "5Y2J-bYpU_sB",
        "outputId": "e73d37ec-50e2-488f-bb10-6008136dbb98"
      },
      "execution_count": 192,
      "outputs": [
        {
          "output_type": "stream",
          "name": "stdout",
          "text": [
            "+--------------------+\n",
            "|                name|\n",
            "+--------------------+\n",
            "|    Augusto Ferreira|\n",
            "|        Helena Viana|\n",
            "|Srta. Amanda Teix...|\n",
            "|Dr. Joao Pedro Fe...|\n",
            "|     Juliana Peixoto|\n",
            "+--------------------+\n",
            "only showing top 5 rows\n",
            "\n"
          ]
        }
      ]
    },
    {
      "cell_type": "code",
      "source": [
        "#outra alternativa:\n",
        "\n",
        "# unicodeUDF = udf(lambda z: unidecode(z))\n",
        "# df_pessoa.select(unicodeUDF(col(\"name\"))).show()"
      ],
      "metadata": {
        "id": "9djMw-XTVvr7"
      },
      "execution_count": null,
      "outputs": []
    },
    {
      "cell_type": "markdown",
      "source": [
        "## 8 Quantas pessoas nasceram em cada década?"
      ],
      "metadata": {
        "id": "XoPZ5f2522pq"
      }
    },
    {
      "cell_type": "code",
      "source": [
        "#SPARK SQL"
      ],
      "metadata": {
        "id": "8H7srhg2h0Hq"
      },
      "execution_count": null,
      "outputs": []
    },
    {
      "cell_type": "code",
      "source": [
        "#temos a view de pessoa já, criar a de carro:\n",
        "df_pessoa.createOrReplaceTempView(\"PESSOA\")"
      ],
      "metadata": {
        "id": "zEzdMOrAV431"
      },
      "execution_count": 193,
      "outputs": []
    },
    {
      "cell_type": "code",
      "source": [
        "spark.sql('''\n",
        "          SELECT\n",
        "              EXTRACT (YEAR FROM ANIVERSARIO) AS ANO_NASCIMENTO,\n",
        "              CASE\n",
        "                WHEN (EXTRACT (YEAR FROM ANIVERSARIO) >= 1910) AND (EXTRACT (YEAR FROM ANIVERSARIO) <1920) THEN 10\n",
        "                WHEN (EXTRACT (YEAR FROM ANIVERSARIO) >= 1920) AND (EXTRACT (YEAR FROM ANIVERSARIO) <1930) THEN 20\n",
        "                WHEN (EXTRACT (YEAR FROM ANIVERSARIO) >= 1930) AND (EXTRACT (YEAR FROM ANIVERSARIO) <1940) THEN 30\n",
        "                WHEN (EXTRACT (YEAR FROM ANIVERSARIO) >= 1940) AND (EXTRACT (YEAR FROM ANIVERSARIO) <1950) THEN 40\n",
        "                WHEN (EXTRACT (YEAR FROM ANIVERSARIO) >= 1950) AND (EXTRACT (YEAR FROM ANIVERSARIO) <1960) THEN 50\n",
        "                WHEN (EXTRACT (YEAR FROM ANIVERSARIO) >= 1960) AND (EXTRACT (YEAR FROM ANIVERSARIO) <1970) THEN 60\n",
        "                WHEN (EXTRACT (YEAR FROM ANIVERSARIO) >= 1970) AND (EXTRACT (YEAR FROM ANIVERSARIO) <1980) THEN 70\n",
        "                WHEN (EXTRACT (YEAR FROM ANIVERSARIO) >= 1980) AND (EXTRACT (YEAR FROM ANIVERSARIO) <1990) THEN 80\n",
        "                WHEN (EXTRACT (YEAR FROM ANIVERSARIO) >= 1990) AND (EXTRACT (YEAR FROM ANIVERSARIO) <2000) THEN 90\n",
        "                WHEN (EXTRACT (YEAR FROM ANIVERSARIO) >= 2000) AND (EXTRACT (YEAR FROM ANIVERSARIO) <2010) THEN 2000\n",
        "                WHEN (EXTRACT (YEAR FROM ANIVERSARIO) >= 2010) AND (EXTRACT (YEAR FROM ANIVERSARIO) <2020) THEN 2010\n",
        "                WHEN (EXTRACT (YEAR FROM ANIVERSARIO) >= 2020) AND (EXTRACT (YEAR FROM ANIVERSARIO) <2030) THEN 2020\n",
        "                ELSE NULL\n",
        "              END AS DECADA\n",
        "\n",
        "          FROM PESSOA\n",
        "\n",
        "        ''').show(15)"
      ],
      "metadata": {
        "colab": {
          "base_uri": "https://localhost:8080/"
        },
        "outputId": "1fd4f4f0-ae5d-4569-be80-ac3885ab0a28",
        "id": "ca6lvHWfV438"
      },
      "execution_count": 250,
      "outputs": [
        {
          "output_type": "stream",
          "name": "stdout",
          "text": [
            "+--------------+------+\n",
            "|ANO_NASCIMENTO|DECADA|\n",
            "+--------------+------+\n",
            "|          1934|    30|\n",
            "|          2000|  2000|\n",
            "|          1936|    30|\n",
            "|          1939|    30|\n",
            "|          1912|    10|\n",
            "|          1947|    40|\n",
            "|          1952|    50|\n",
            "|          1999|    90|\n",
            "|          1992|    90|\n",
            "|          1952|    50|\n",
            "|          1988|    80|\n",
            "|          1915|    10|\n",
            "|          1946|    40|\n",
            "|          1912|    10|\n",
            "|          1989|    80|\n",
            "+--------------+------+\n",
            "only showing top 15 rows\n",
            "\n"
          ]
        }
      ]
    },
    {
      "cell_type": "code",
      "source": [],
      "metadata": {
        "id": "SfE0iNFZXMN1"
      },
      "execution_count": null,
      "outputs": []
    },
    {
      "cell_type": "code",
      "source": [
        "#SQL FUNCTIONS"
      ],
      "metadata": {
        "id": "IALHbjZKV0Kq"
      },
      "execution_count": null,
      "outputs": []
    },
    {
      "cell_type": "code",
      "source": [
        "df2 = df_pessoa.groupBy(year(col(\"aniversario\")).alias(\"ano_nascimento\")).agg(count(\"id_profile\").alias(\"count_nascimento\"))"
      ],
      "metadata": {
        "id": "3BVA3hyL-PbT"
      },
      "execution_count": 251,
      "outputs": []
    },
    {
      "cell_type": "code",
      "source": [
        "df2.show(3)"
      ],
      "metadata": {
        "id": "1wwYGh36-uJe",
        "colab": {
          "base_uri": "https://localhost:8080/"
        },
        "outputId": "71c116a2-040a-45ed-97d8-479723523d2a"
      },
      "execution_count": 252,
      "outputs": [
        {
          "output_type": "stream",
          "name": "stdout",
          "text": [
            "+--------------+----------------+\n",
            "|ano_nascimento|count_nascimento|\n",
            "+--------------+----------------+\n",
            "|          1959|              85|\n",
            "|          1990|             178|\n",
            "|          1975|              87|\n",
            "+--------------+----------------+\n",
            "only showing top 3 rows\n",
            "\n"
          ]
        }
      ]
    },
    {
      "cell_type": "code",
      "source": [
        "df4=df2.withColumn(\"decada\", when((col(\"ano_nascimento\") >=1900) & (col(\"ano_nascimento\") <1910), 00)\n",
        "                         .when((col(\"ano_nascimento\") >=1910) & (col(\"ano_nascimento\") <1920), 10)\n",
        "                         .when((col(\"ano_nascimento\") >=1920) & (col(\"ano_nascimento\") <1930), 20)\n",
        "                         .when((col(\"ano_nascimento\") >=1930) & (col(\"ano_nascimento\") <1940), 30)\n",
        "                         .when((col(\"ano_nascimento\") >=1940) & (col(\"ano_nascimento\") <1950), 40)\n",
        "                         .when((col(\"ano_nascimento\") >=1950) & (col(\"ano_nascimento\") <1960), 50)\n",
        "                         .when((col(\"ano_nascimento\") >=1960) & (col(\"ano_nascimento\") <1970), 60)\n",
        "                         .when((col(\"ano_nascimento\") >=1970) & (col(\"ano_nascimento\") <1980), 70)\n",
        "                         .when((col(\"ano_nascimento\") >=1980) & (col(\"ano_nascimento\") <1990), 80)\n",
        "                         .when((col(\"ano_nascimento\") >=1990) & (col(\"ano_nascimento\") <2000), 90)\n",
        "                         .when((col(\"ano_nascimento\") >=2000) & (col(\"ano_nascimento\") <2010), 2000)\n",
        "                         .when((col(\"ano_nascimento\") >=2010) & (col(\"ano_nascimento\") <2020), 2010)\n",
        "                         .otherwise(3333)\n",
        "              )"
      ],
      "metadata": {
        "id": "FKdONEbu-xSl"
      },
      "execution_count": 256,
      "outputs": []
    },
    {
      "cell_type": "code",
      "source": [
        "df5=df4.groupBy(col(\"decada\")).agg(sum(col(\"count_nascimento\").alias(\"count_nascimento_decada\")))"
      ],
      "metadata": {
        "id": "RMovcnZABO1M"
      },
      "execution_count": 257,
      "outputs": []
    },
    {
      "cell_type": "code",
      "source": [
        "df4.filter(col(\"ano_nascimento\")> 0).show()"
      ],
      "metadata": {
        "id": "AUr9EtYhC3ZE",
        "colab": {
          "base_uri": "https://localhost:8080/"
        },
        "outputId": "0d51fe5b-5d56-460d-a179-415a1c36eb52"
      },
      "execution_count": 255,
      "outputs": [
        {
          "output_type": "stream",
          "name": "stdout",
          "text": [
            "+--------------+----------------+------+\n",
            "|ano_nascimento|count_nascimento|decada|\n",
            "+--------------+----------------+------+\n",
            "|          1959|              85|    50|\n",
            "|          1990|             178|    90|\n",
            "|          1975|              87|    70|\n",
            "|          1977|              94|    70|\n",
            "|          1924|              94|    20|\n",
            "|          1974|              89|    70|\n",
            "|          1927|              98|    20|\n",
            "|          1955|              92|    50|\n",
            "|          1978|              80|    70|\n",
            "|          1925|              92|    20|\n",
            "|          1908|              94|     0|\n",
            "|          1961|              75|    60|\n",
            "|          1942|              93|    40|\n",
            "|          1939|              74|    30|\n",
            "|          1944|              81|    40|\n",
            "|          1922|              73|    20|\n",
            "|          1952|              95|    50|\n",
            "|          1934|              96|    30|\n",
            "|          1956|              91|    50|\n",
            "|          1988|              79|    80|\n",
            "+--------------+----------------+------+\n",
            "only showing top 20 rows\n",
            "\n"
          ]
        }
      ]
    },
    {
      "cell_type": "markdown",
      "source": [
        "## 9 Qual a década que que há mais pessoas empregadas?\n"
      ],
      "metadata": {
        "id": "mKwkdN9nEI8u"
      }
    },
    {
      "cell_type": "code",
      "source": [
        "#criar campo tem_emprego, com 0 ou 1:\n",
        "df_pessoa2 = df_pessoa.withColumn(\"tem_emprego\", when(col(\"id_emprego\").isNotNull(), 1).when(col(\"id_emprego\").isNull(), 0))"
      ],
      "metadata": {
        "id": "IDZ_vztSi0pA"
      },
      "execution_count": 267,
      "outputs": []
    },
    {
      "cell_type": "code",
      "source": [
        "df_pessoa2.show(3)"
      ],
      "metadata": {
        "colab": {
          "base_uri": "https://localhost:8080/"
        },
        "id": "Q5U-J2xgid8x",
        "outputId": "059f6c0e-340b-4392-b225-449b7c9bdd12"
      },
      "execution_count": 268,
      "outputs": [
        {
          "output_type": "stream",
          "name": "stdout",
          "text": [
            "+----------+-------------+--------------------+----+--------------------+--------------------+-----------+-----+-------+----------+-----------+\n",
            "|id_profile|     username|                name|sexo|            endereço|               email|aniversario|cargo|empresa|id_emprego|tem_emprego|\n",
            "+----------+-------------+--------------------+----+--------------------+--------------------+-----------+-----+-------+----------+-----------+\n",
            "|  00579363|       ynunes|    Augusto Ferreira|   H|Trecho Leandro Sa...|ana-julia59@ig.co...| 1934-05-04| null|   null|      null|          0|\n",
            "|  00739543|kamillyvieira|        Helena Viana|   M|Trevo Nogueira  4...|vianamaria-julia@...| 2000-07-17| null|   null|      null|          0|\n",
            "|  00075467| araujofelipe|Srta. Amanda Teix...|   M|Condomínio de Nov...|   qcastro@gmail.com| 1936-07-25| null|   null|      null|          0|\n",
            "+----------+-------------+--------------------+----+--------------------+--------------------+-----------+-----+-------+----------+-----------+\n",
            "only showing top 3 rows\n",
            "\n"
          ]
        }
      ]
    },
    {
      "cell_type": "code",
      "source": [
        "#df_pessoa2 =\n",
        "df_pessoa2.filter((col(\"tem_emprego\") == 1) & (col(\"aniversario\").isNotNull())).show(3)"
      ],
      "metadata": {
        "id": "QjJgJSGJDGZH",
        "colab": {
          "base_uri": "https://localhost:8080/"
        },
        "outputId": "0607950c-65fd-4628-bcf1-71e1551af853"
      },
      "execution_count": 270,
      "outputs": [
        {
          "output_type": "stream",
          "name": "stdout",
          "text": [
            "+----------+-------------------+----------------+----+--------------------+--------------------+-----------+-----------------+-----------------+----------+-----------+\n",
            "|id_profile|           username|            name|sexo|            endereço|               email|aniversario|            cargo|          empresa|id_emprego|tem_emprego|\n",
            "+----------+-------------------+----------------+----+--------------------+--------------------+-----------+-----------------+-----------------+----------+-----------+\n",
            "|  00023737|      das-nevesluna|Maria Julia Dias|   M|Núcleo Kamilly Pi...|enzo-gabriel79@ig...| 1945-10-28|          Armador|    da Cruz Ltda.|     41333|          1|\n",
            "|  00523014|da-mataluiz-gustavo|    Joao Cardoso|   H|Jardim Rezende Ca...|santoslais@uol.co...| 1913-12-02|    Ferramenteiro|da Paz Cunha - ME|     45752|          1|\n",
            "|  00203338|            gda-paz|    Noah da Mota|   H|Viaduto de Jesus ...|danilonogueira@gm...| 1961-03-08|Agente de viagens|         Nogueira|     84503|          1|\n",
            "+----------+-------------------+----------------+----+--------------------+--------------------+-----------+-----------------+-----------------+----------+-----------+\n",
            "only showing top 3 rows\n",
            "\n"
          ]
        }
      ]
    },
    {
      "cell_type": "code",
      "source": [
        "df_pessoa2 = df_pessoa2.groupBy(year(col(\"aniversario\")).alias(\"ano_nascimento\")).agg(count(\"id_profile\").alias(\"count_nascimento\"))\n",
        "df_pessoa2 = df_pessoa2.filter(col(\"ano_nascimento\").isNotNull())\n",
        "df_pessoa2 = df_pessoa2.orderBy(col(\"ano_nascimento\").asc())\n",
        "\n",
        "\n",
        "df_pessoa2 = df_pessoa2.withColumn(\"decada\", when((col(\"ano_nascimento\") >=1900) & (col(\"ano_nascimento\") <1910), 00)\n",
        "                         .when((col(\"ano_nascimento\") >=1910) & (col(\"ano_nascimento\") <1920), 10)\n",
        "                         .when((col(\"ano_nascimento\") >=1920) & (col(\"ano_nascimento\") <1930), 20)\n",
        "                         .when((col(\"ano_nascimento\") >=1930) & (col(\"ano_nascimento\") <1940), 30)\n",
        "                         .when((col(\"ano_nascimento\") >=1940) & (col(\"ano_nascimento\") <1950), 40)\n",
        "                         .when((col(\"ano_nascimento\") >=1950) & (col(\"ano_nascimento\") <1960), 50)\n",
        "                         .when((col(\"ano_nascimento\") >=1960) & (col(\"ano_nascimento\") <1970), 60)\n",
        "                         .when((col(\"ano_nascimento\") >=1970) & (col(\"ano_nascimento\") <1980), 70)\n",
        "                         .when((col(\"ano_nascimento\") >=1980) & (col(\"ano_nascimento\") <1990), 80)\n",
        "                         .when((col(\"ano_nascimento\") >=1990) & (col(\"ano_nascimento\") <2000), 90)\n",
        "                         .when((col(\"ano_nascimento\") >=2000) & (col(\"ano_nascimento\") <2010), 200)\n",
        "                         .when((col(\"ano_nascimento\") >=2010) & (col(\"ano_nascimento\") <2020), 210)\n",
        "                         .otherwise(3333)\n",
        "              )"
      ],
      "metadata": {
        "id": "8PbgPptXEn_M"
      },
      "execution_count": 271,
      "outputs": []
    },
    {
      "cell_type": "code",
      "source": [
        "df_pessoa2=df_pessoa2.groupBy(col(\"decada\")).agg(sum(col(\"count_nascimento\")).alias(\"count_nascimento_decada\"))"
      ],
      "metadata": {
        "id": "YWGEL8LDFKsU"
      },
      "execution_count": 272,
      "outputs": []
    },
    {
      "cell_type": "code",
      "source": [
        "#na década de 90:\n",
        "df_pessoa2.orderBy(col(\"count_nascimento_decada\").desc()).show(1)"
      ],
      "metadata": {
        "id": "XGxotUyzFmlu",
        "colab": {
          "base_uri": "https://localhost:8080/"
        },
        "outputId": "fb7c594d-7b80-4494-ac9f-94706daad524"
      },
      "execution_count": 275,
      "outputs": [
        {
          "output_type": "stream",
          "name": "stdout",
          "text": [
            "+------+-----------------------+\n",
            "|decada|count_nascimento_decada|\n",
            "+------+-----------------------+\n",
            "|    90|                   2417|\n",
            "+------+-----------------------+\n",
            "only showing top 1 row\n",
            "\n"
          ]
        }
      ]
    }
  ]
}