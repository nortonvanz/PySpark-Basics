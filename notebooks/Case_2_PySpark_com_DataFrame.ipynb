{
  "nbformat": 4,
  "nbformat_minor": 0,
  "metadata": {
    "colab": {
      "provenance": [],
      "collapsed_sections": [
        "0lHfPPnZaey7",
        "y84McjSBZlem",
        "AjABWBvXeGZr",
        "nvXL_pWIEw-m",
        "B_smJ6Rmn3cf",
        "6cTA13Tkrdd6",
        "-600PMN_uPba",
        "kEEvKRi1vSrP"
      ],
      "include_colab_link": true
    },
    "kernelspec": {
      "name": "python3",
      "display_name": "Python 3"
    },
    "language_info": {
      "name": "python"
    }
  },
  "cells": [
    {
      "cell_type": "markdown",
      "metadata": {
        "id": "view-in-github",
        "colab_type": "text"
      },
      "source": [
        "<a href=\"https://colab.research.google.com/github/nortonvanz/PySpark-Basics/blob/main/notebooks/Case_2_PySpark_com_DataFrame.ipynb\" target=\"_parent\"><img src=\"https://colab.research.google.com/assets/colab-badge.svg\" alt=\"Open In Colab\"/></a>"
      ]
    },
    {
      "cell_type": "code",
      "execution_count": null,
      "metadata": {
        "id": "4a5FNX2d8UF1"
      },
      "outputs": [],
      "source": [
        "#Conferir se há 2 pastas no Arquivos, na lateral esquerda. Se não tiver, descomenta as 3 linhas abaixo:\n",
        "\n",
        "#!apt-get install openjdk-8-jdk-headless -qq > /dev/null\n",
        "#!wget -q https://archive.apache.org/dist/spark/spark-3.1.2/spark-3.1.2-bin-hadoop2.7.tgz\n",
        "#!tar xf spark-3.1.2-bin-hadoop2.7.tgz\n",
        "\n",
        "!pip install -q findspark\n",
        "\n",
        "# Se tiver erros mais abaixo criando o context (spark), ajustar para que a versão do pyspark seja a mesma do spark:\n",
        "  # spark  -> v3.1.2\n",
        "  # !pip freeze   -> pyspark==3.5.0\n",
        "\n",
        "  #equiparar versões:\n",
        "  #!pip install pyspark==3.1.2"
      ]
    },
    {
      "cell_type": "code",
      "source": [
        "import os\n",
        "os.environ[\"JAVA_HOME\"] = \"/usr/lib/jvm/java-8-openjdk-amd64\"\n",
        "os.environ[\"SPARK_HOME\"] = \"/content/spark-3.1.2-bin-hadoop2.7\""
      ],
      "metadata": {
        "id": "H8CY1TNrCcDe"
      },
      "execution_count": null,
      "outputs": []
    },
    {
      "cell_type": "code",
      "source": [
        "import findspark\n",
        "findspark.init()"
      ],
      "metadata": {
        "id": "qpHeMYmUDQj7"
      },
      "execution_count": null,
      "outputs": []
    },
    {
      "cell_type": "code",
      "source": [
        "from pyspark.sql import SparkSession\n",
        "import pyspark.sql.functions as f\n",
        "\n",
        "\n",
        "spark = SparkSession.builder \\\n",
        "    .master('local[*]') \\\n",
        "    .appName('Iniciando com Spark') \\\n",
        "    .config('spark.ui.port', '4050') \\\n",
        "    .getOrCreate()"
      ],
      "metadata": {
        "id": "5ZJAvHg3DkE5"
      },
      "execution_count": null,
      "outputs": []
    },
    {
      "cell_type": "code",
      "source": [
        "from pyspark.sql.types import FloatType"
      ],
      "metadata": {
        "id": "57pzxn4YHanN"
      },
      "execution_count": null,
      "outputs": []
    },
    {
      "cell_type": "markdown",
      "source": [
        "# EXERCÍCIOS COM PYSPARK"
      ],
      "metadata": {
        "id": "11hdhCFYDrlx"
      }
    },
    {
      "cell_type": "markdown",
      "source": [
        "\n",
        "1. Ler o arquivo chipotle.tsv?\n",
        "2. Quantos produtos custam mais de $ 10,00?\n",
        "3. Qual o preço de cada item?\n",
        "4. Ordenar pelo nome do item\n",
        "5. Qual foi a quantidade do item mais caro encomendado?\n",
        "6. Quantas vezes um Veggie Salad Bowl foi pedido?\n",
        "7. Quantas vezes alguém pediu mais de um refrigerante em lata?\n",
        "8. Salvar em parquet"
      ],
      "metadata": {
        "id": "B8oLST_eODKU"
      }
    },
    {
      "cell_type": "markdown",
      "source": [
        "# 1 - Ler o arquivo chipotle.tsv?"
      ],
      "metadata": {
        "id": "0lHfPPnZaey7"
      }
    },
    {
      "cell_type": "code",
      "source": [
        "!wget --quiet --show-progress https://raw.githubusercontent.com/justmarkham/DAT8/master/data/chipotle.tsv"
      ],
      "metadata": {
        "colab": {
          "base_uri": "https://localhost:8080/"
        },
        "id": "hySmMt0o8bB9",
        "outputId": "21d09f29-edae-40c6-f7bd-9f164b19b91c"
      },
      "execution_count": null,
      "outputs": [
        {
          "output_type": "stream",
          "name": "stdout",
          "text": [
            "\rchipotle.tsv.2        0%[                    ]       0  --.-KB/s               \rchipotle.tsv.2      100%[===================>] 356.42K  --.-KB/s    in 0.005s  \n"
          ]
        }
      ]
    },
    {
      "cell_type": "code",
      "source": [
        "df =spark.read.csv(\"chipotle.tsv\", sep=r'\\t', header=True, inferSchema=True )"
      ],
      "metadata": {
        "id": "i-fNdGdGOFoj"
      },
      "execution_count": null,
      "outputs": []
    },
    {
      "cell_type": "code",
      "source": [
        "df.show()"
      ],
      "metadata": {
        "colab": {
          "base_uri": "https://localhost:8080/"
        },
        "id": "S4rQSQJSQKxN",
        "outputId": "f0cb1812-cb86-42f8-e9e7-26b166e670b2"
      },
      "execution_count": null,
      "outputs": [
        {
          "output_type": "stream",
          "name": "stdout",
          "text": [
            "+--------+--------+--------------------+--------------------+----------+\n",
            "|order_id|quantity|           item_name|  choice_description|item_price|\n",
            "+--------+--------+--------------------+--------------------+----------+\n",
            "|       1|       1|Chips and Fresh T...|                NULL|    $2.39 |\n",
            "|       1|       1|                Izze|        [Clementine]|    $3.39 |\n",
            "|       1|       1|    Nantucket Nectar|             [Apple]|    $3.39 |\n",
            "|       1|       1|Chips and Tomatil...|                NULL|    $2.39 |\n",
            "|       2|       2|        Chicken Bowl|[Tomatillo-Red Ch...|   $16.98 |\n",
            "|       3|       1|        Chicken Bowl|[Fresh Tomato Sal...|   $10.98 |\n",
            "|       3|       1|       Side of Chips|                NULL|    $1.69 |\n",
            "|       4|       1|       Steak Burrito|[Tomatillo Red Ch...|   $11.75 |\n",
            "|       4|       1|    Steak Soft Tacos|[Tomatillo Green ...|    $9.25 |\n",
            "|       5|       1|       Steak Burrito|[Fresh Tomato Sal...|    $9.25 |\n",
            "|       5|       1| Chips and Guacamole|                NULL|    $4.45 |\n",
            "|       6|       1|Chicken Crispy Tacos|[Roasted Chili Co...|    $8.75 |\n",
            "|       6|       1|  Chicken Soft Tacos|[Roasted Chili Co...|    $8.75 |\n",
            "|       7|       1|        Chicken Bowl|[Fresh Tomato Sal...|   $11.25 |\n",
            "|       7|       1| Chips and Guacamole|                NULL|    $4.45 |\n",
            "|       8|       1|Chips and Tomatil...|                NULL|    $2.39 |\n",
            "|       8|       1|     Chicken Burrito|[Tomatillo-Green ...|    $8.49 |\n",
            "|       9|       1|     Chicken Burrito|[Fresh Tomato Sal...|    $8.49 |\n",
            "|       9|       2|         Canned Soda|            [Sprite]|    $2.18 |\n",
            "|      10|       1|        Chicken Bowl|[Tomatillo Red Ch...|    $8.75 |\n",
            "+--------+--------+--------------------+--------------------+----------+\n",
            "only showing top 20 rows\n",
            "\n"
          ]
        }
      ]
    },
    {
      "cell_type": "code",
      "source": [
        "df"
      ],
      "metadata": {
        "colab": {
          "base_uri": "https://localhost:8080/"
        },
        "id": "bNEu9N7xQVs4",
        "outputId": "9374c050-723d-4bcd-9f0b-365949235da7"
      },
      "execution_count": null,
      "outputs": [
        {
          "output_type": "execute_result",
          "data": {
            "text/plain": [
              "DataFrame[order_id: int, quantity: int, item_name: string, choice_description: string, item_price: string]"
            ]
          },
          "metadata": {},
          "execution_count": 9
        }
      ]
    },
    {
      "cell_type": "code",
      "source": [
        "#ver os tipos de dados\n",
        "df.printSchema()"
      ],
      "metadata": {
        "colab": {
          "base_uri": "https://localhost:8080/"
        },
        "id": "I0GYmKGMWcwP",
        "outputId": "49fe1063-64b9-4e6c-e623-bdcbcbe43233"
      },
      "execution_count": null,
      "outputs": [
        {
          "output_type": "stream",
          "name": "stdout",
          "text": [
            "root\n",
            " |-- order_id: integer (nullable = true)\n",
            " |-- quantity: integer (nullable = true)\n",
            " |-- item_name: string (nullable = true)\n",
            " |-- choice_description: string (nullable = true)\n",
            " |-- item_price: string (nullable = true)\n",
            "\n"
          ]
        }
      ]
    },
    {
      "cell_type": "code",
      "source": [
        "df.show(5)"
      ],
      "metadata": {
        "colab": {
          "base_uri": "https://localhost:8080/"
        },
        "id": "VhTpUclXWte_",
        "outputId": "bcd57697-89ad-43f2-bea1-bb1b1f415107"
      },
      "execution_count": null,
      "outputs": [
        {
          "output_type": "stream",
          "name": "stdout",
          "text": [
            "+--------+--------+--------------------+--------------------+----------+\n",
            "|order_id|quantity|           item_name|  choice_description|item_price|\n",
            "+--------+--------+--------------------+--------------------+----------+\n",
            "|       1|       1|Chips and Fresh T...|                NULL|    $2.39 |\n",
            "|       1|       1|                Izze|        [Clementine]|    $3.39 |\n",
            "|       1|       1|    Nantucket Nectar|             [Apple]|    $3.39 |\n",
            "|       1|       1|Chips and Tomatil...|                NULL|    $2.39 |\n",
            "|       2|       2|        Chicken Bowl|[Tomatillo-Red Ch...|   $16.98 |\n",
            "+--------+--------+--------------------+--------------------+----------+\n",
            "only showing top 5 rows\n",
            "\n"
          ]
        }
      ]
    },
    {
      "cell_type": "markdown",
      "source": [
        "# 2 - Quantos produtos custam mais de $ 10,00?"
      ],
      "metadata": {
        "id": "y84McjSBZlem"
      }
    },
    {
      "cell_type": "code",
      "source": [
        "#Remover o sinal $ da coluna item_price, e conveter pra float:\n",
        "df2 = df.select('*', f.translate('item_price', \"$\", \"\").cast(FloatType()).alias(\"new_item_price\"))\n",
        "df2.show(3)"
      ],
      "metadata": {
        "id": "igUQOzh3Zl8K",
        "colab": {
          "base_uri": "https://localhost:8080/"
        },
        "outputId": "a0d0dbc1-2094-4e3b-f316-bdab25f079f1"
      },
      "execution_count": null,
      "outputs": [
        {
          "output_type": "stream",
          "name": "stdout",
          "text": [
            "+--------+--------+--------------------+------------------+----------+--------------+\n",
            "|order_id|quantity|           item_name|choice_description|item_price|new_item_price|\n",
            "+--------+--------+--------------------+------------------+----------+--------------+\n",
            "|       1|       1|Chips and Fresh T...|              NULL|    $2.39 |          2.39|\n",
            "|       1|       1|                Izze|      [Clementine]|    $3.39 |          3.39|\n",
            "|       1|       1|    Nantucket Nectar|           [Apple]|    $3.39 |          3.39|\n",
            "+--------+--------+--------------------+------------------+----------+--------------+\n",
            "only showing top 3 rows\n",
            "\n"
          ]
        }
      ]
    },
    {
      "cell_type": "code",
      "source": [
        "#dropar coluna antiga:\n",
        "df2 = df2.drop(f.col(\"item_price\"))\n",
        "df2.show(3)"
      ],
      "metadata": {
        "id": "rR6iBq1SebCu",
        "colab": {
          "base_uri": "https://localhost:8080/"
        },
        "outputId": "303c9a5a-8ed1-4164-c006-309b525c0331"
      },
      "execution_count": null,
      "outputs": [
        {
          "output_type": "stream",
          "name": "stdout",
          "text": [
            "+--------+--------+--------------------+------------------+--------------+\n",
            "|order_id|quantity|           item_name|choice_description|new_item_price|\n",
            "+--------+--------+--------------------+------------------+--------------+\n",
            "|       1|       1|Chips and Fresh T...|              NULL|          2.39|\n",
            "|       1|       1|                Izze|      [Clementine]|          3.39|\n",
            "|       1|       1|    Nantucket Nectar|           [Apple]|          3.39|\n",
            "+--------+--------+--------------------+------------------+--------------+\n",
            "only showing top 3 rows\n",
            "\n"
          ]
        }
      ]
    },
    {
      "cell_type": "code",
      "source": [
        "#sobrescrevendo df:\n",
        "df = df2\n",
        "df.show(2)"
      ],
      "metadata": {
        "colab": {
          "base_uri": "https://localhost:8080/"
        },
        "id": "NR3le7pvcBYP",
        "outputId": "624400d8-b939-40b9-8e81-668c260adc68"
      },
      "execution_count": null,
      "outputs": [
        {
          "output_type": "stream",
          "name": "stdout",
          "text": [
            "+--------+--------+--------------------+------------------+--------------+\n",
            "|order_id|quantity|           item_name|choice_description|new_item_price|\n",
            "+--------+--------+--------------------+------------------+--------------+\n",
            "|       1|       1|Chips and Fresh T...|              NULL|          2.39|\n",
            "|       1|       1|                Izze|      [Clementine]|          3.39|\n",
            "+--------+--------+--------------------+------------------+--------------+\n",
            "only showing top 2 rows\n",
            "\n"
          ]
        }
      ]
    },
    {
      "cell_type": "code",
      "source": [
        "#poderia usar uma função também:\n",
        "#UDF: User defined funcion, função que não existe no Spark, criada pelo user\n",
        "\n",
        "#@f.udf\n",
        "#def replace_money(money):\n",
        "#  return float(money.replace(\"$\", \"\"))\n",
        "\n",
        "#df.select('*', replace_money(\"item_price\").alias(\"new_item_price\")).show(5)"
      ],
      "metadata": {
        "id": "nqqGuShjbu9Y"
      },
      "execution_count": null,
      "outputs": []
    },
    {
      "cell_type": "code",
      "source": [
        "#filtrar produtos com mais de 10.0\n",
        "df.filter(f.col(\"new_item_price\") > 10.0).show(5)"
      ],
      "metadata": {
        "colab": {
          "base_uri": "https://localhost:8080/"
        },
        "id": "ucCxc2JcgEc0",
        "outputId": "6824eec6-abef-45c3-be28-c5af606239da"
      },
      "execution_count": null,
      "outputs": [
        {
          "output_type": "stream",
          "name": "stdout",
          "text": [
            "+--------+--------+---------------+--------------------+--------------+\n",
            "|order_id|quantity|      item_name|  choice_description|new_item_price|\n",
            "+--------+--------+---------------+--------------------+--------------+\n",
            "|       2|       2|   Chicken Bowl|[Tomatillo-Red Ch...|         16.98|\n",
            "|       3|       1|   Chicken Bowl|[Fresh Tomato Sal...|         10.98|\n",
            "|       4|       1|  Steak Burrito|[Tomatillo Red Ch...|         11.75|\n",
            "|       7|       1|   Chicken Bowl|[Fresh Tomato Sal...|         11.25|\n",
            "|      12|       1|Chicken Burrito|[[Tomatillo-Green...|         10.98|\n",
            "+--------+--------+---------------+--------------------+--------------+\n",
            "only showing top 5 rows\n",
            "\n"
          ]
        }
      ]
    },
    {
      "cell_type": "code",
      "source": [
        "#acima, trabalhamos com o chamado \"SQL FUNCTION\", usando a lib: pyspark.sql.functions (como usamos o Pandas..)\n",
        "\n",
        "#outra forma de trabalhar é com o chamado \"SPARK SQL\", usando SQL nativo diretamente, confrome abaixo:"
      ],
      "metadata": {
        "id": "OivveklPdzdx"
      },
      "execution_count": null,
      "outputs": []
    },
    {
      "cell_type": "code",
      "source": [
        "#criar uma view \"chipotle\" a partir de df:\n",
        "df.createOrReplaceTempView(\"chipotle\")"
      ],
      "metadata": {
        "id": "0LbXrZTIEqSx"
      },
      "execution_count": null,
      "outputs": []
    },
    {
      "cell_type": "code",
      "source": [
        "#agora, podemos usar SQL para consultar:\n",
        "spark.sql(\"select * from chipotle where new_item_price > 10.0\").show(10)"
      ],
      "metadata": {
        "colab": {
          "base_uri": "https://localhost:8080/"
        },
        "id": "9sqeN3v7hLaS",
        "outputId": "993b4313-faab-4bb9-e97b-ccf049220b18"
      },
      "execution_count": null,
      "outputs": [
        {
          "output_type": "stream",
          "name": "stdout",
          "text": [
            "+--------+--------+---------------+--------------------+--------------+\n",
            "|order_id|quantity|      item_name|  choice_description|new_item_price|\n",
            "+--------+--------+---------------+--------------------+--------------+\n",
            "|       2|       2|   Chicken Bowl|[Tomatillo-Red Ch...|         16.98|\n",
            "|       3|       1|   Chicken Bowl|[Fresh Tomato Sal...|         10.98|\n",
            "|       4|       1|  Steak Burrito|[Tomatillo Red Ch...|         11.75|\n",
            "|       7|       1|   Chicken Bowl|[Fresh Tomato Sal...|         11.25|\n",
            "|      12|       1|Chicken Burrito|[[Tomatillo-Green...|         10.98|\n",
            "|      19|       1|  Barbacoa Bowl|[Roasted Chili Co...|         11.75|\n",
            "|      20|       1|   Chicken Bowl|[Roasted Chili Co...|         11.25|\n",
            "|      20|       1|  Steak Burrito|[Fresh Tomato Sal...|         11.75|\n",
            "|      21|       1|Chicken Burrito|[Tomatillo-Red Ch...|         10.98|\n",
            "|      24|       1|Chicken Burrito|[Roasted Chili Co...|         10.98|\n",
            "+--------+--------+---------------+--------------------+--------------+\n",
            "only showing top 10 rows\n",
            "\n"
          ]
        }
      ]
    },
    {
      "cell_type": "markdown",
      "source": [
        "# 3 - Qual o preço de cada item?"
      ],
      "metadata": {
        "id": "AjABWBvXeGZr"
      }
    },
    {
      "cell_type": "code",
      "source": [
        "#número de itens\n",
        "df.count()"
      ],
      "metadata": {
        "colab": {
          "base_uri": "https://localhost:8080/"
        },
        "id": "7E5QefL-hcgD",
        "outputId": "e94e61f5-8e9b-4636-c508-f1e7934168c1"
      },
      "execution_count": null,
      "outputs": [
        {
          "output_type": "execute_result",
          "data": {
            "text/plain": [
              "4622"
            ]
          },
          "metadata": {},
          "execution_count": 21
        }
      ]
    },
    {
      "cell_type": "code",
      "source": [
        "#preço de cada item sem duplicidade\n",
        "df.dropDuplicates([\"item_name\", \"choice_description\", \"new_item_price\"]).count()"
      ],
      "metadata": {
        "colab": {
          "base_uri": "https://localhost:8080/"
        },
        "id": "pa04HoVLlxXv",
        "outputId": "3cbe937e-bf34-475d-d661-6db091feb8aa"
      },
      "execution_count": null,
      "outputs": [
        {
          "output_type": "execute_result",
          "data": {
            "text/plain": [
              "1960"
            ]
          },
          "metadata": {},
          "execution_count": 30
        }
      ]
    },
    {
      "cell_type": "code",
      "source": [
        "#preços de cada item + descrição sem duplicidade\n",
        "df_prices = df.dropDuplicates([\"item_name\", \"choice_description\", \"new_item_price\"])\n",
        "df_prices.show(5)"
      ],
      "metadata": {
        "colab": {
          "base_uri": "https://localhost:8080/"
        },
        "id": "JpB4TRc9KIsF",
        "outputId": "7b07abf3-eb09-4787-afdb-c90a76ef5139"
      },
      "execution_count": null,
      "outputs": [
        {
          "output_type": "stream",
          "name": "stdout",
          "text": [
            "+--------+--------+------------------+--------------------+--------------+\n",
            "|order_id|quantity|         item_name|  choice_description|new_item_price|\n",
            "+--------+--------+------------------+--------------------+--------------+\n",
            "|     518|       1|   Chicken Burrito|[[Roasted Chili C...|         10.98|\n",
            "|    1313|       1|  Barbacoa Burrito|[Fresh Tomato Sal...|         11.48|\n",
            "|    1462|       2|Chicken Soft Tacos|[[Tomatillo-Green...|         21.96|\n",
            "|    1666|       1|      Chicken Bowl|[Tomatillo Red Ch...|          8.75|\n",
            "|    1775|       1|       Veggie Bowl|[Fresh Tomato Sal...|         11.25|\n",
            "+--------+--------+------------------+--------------------+--------------+\n",
            "only showing top 5 rows\n",
            "\n"
          ]
        }
      ]
    },
    {
      "cell_type": "markdown",
      "source": [
        "# 4 Ordenar pelo nome do item"
      ],
      "metadata": {
        "id": "nvXL_pWIEw-m"
      }
    },
    {
      "cell_type": "code",
      "source": [
        "#SPARK SQL\n",
        "spark.sql('''\n",
        "\n",
        "          SELECT DISTINCT ITEM_NAME\n",
        "          FROM CHIPOTLE\n",
        "          ORDER BY ITEM_NAME\n",
        "\n",
        "          ''' ).show(5)"
      ],
      "metadata": {
        "colab": {
          "base_uri": "https://localhost:8080/"
        },
        "id": "BRL9LtFVKYhT",
        "outputId": "6571a2a4-5e5a-4491-a4ea-fdc35d0a588d"
      },
      "execution_count": null,
      "outputs": [
        {
          "output_type": "stream",
          "name": "stdout",
          "text": [
            "+--------------------+\n",
            "|           ITEM_NAME|\n",
            "+--------------------+\n",
            "|   6 Pack Soft Drink|\n",
            "|       Barbacoa Bowl|\n",
            "|    Barbacoa Burrito|\n",
            "|Barbacoa Crispy T...|\n",
            "| Barbacoa Salad Bowl|\n",
            "+--------------------+\n",
            "only showing top 5 rows\n",
            "\n"
          ]
        }
      ]
    },
    {
      "cell_type": "code",
      "source": [
        "# SQL FUNCTION\n",
        "\n",
        "#df.sort('ITEM_NAME').show(5)  ->  tem que ser distinto:\n",
        "df.orderBy(f.col('ITEM_NAME').asc()).show(5)"
      ],
      "metadata": {
        "colab": {
          "base_uri": "https://localhost:8080/"
        },
        "id": "kLJu4TMzKmMr",
        "outputId": "ca21b027-3bf7-4dc9-9110-e53e774cb5cb"
      },
      "execution_count": null,
      "outputs": [
        {
          "output_type": "stream",
          "name": "stdout",
          "text": [
            "+--------+--------+-----------------+------------------+----------+\n",
            "|order_id|quantity|        item_name|choice_description|item_price|\n",
            "+--------+--------+-----------------+------------------+----------+\n",
            "|     154|       1|6 Pack Soft Drink|            [Coke]|    $6.49 |\n",
            "|     298|       1|6 Pack Soft Drink|          [Nestea]|    $6.49 |\n",
            "|     168|       1|6 Pack Soft Drink|       [Diet Coke]|    $6.49 |\n",
            "|     129|       1|6 Pack Soft Drink|          [Sprite]|    $6.49 |\n",
            "|     182|       1|6 Pack Soft Drink|       [Diet Coke]|    $6.49 |\n",
            "+--------+--------+-----------------+------------------+----------+\n",
            "only showing top 5 rows\n",
            "\n"
          ]
        }
      ]
    },
    {
      "cell_type": "code",
      "source": [
        "#selecionando 1 coluna:\n",
        "df.select(\"item_name\").show(3)"
      ],
      "metadata": {
        "colab": {
          "base_uri": "https://localhost:8080/"
        },
        "id": "Uyr6S_g9KmKP",
        "outputId": "af47bea3-09c7-46d2-cda0-677a9f125319"
      },
      "execution_count": null,
      "outputs": [
        {
          "output_type": "stream",
          "name": "stdout",
          "text": [
            "+--------------------+\n",
            "|           item_name|\n",
            "+--------------------+\n",
            "|Chips and Fresh T...|\n",
            "|                Izze|\n",
            "|    Nantucket Nectar|\n",
            "+--------------------+\n",
            "only showing top 3 rows\n",
            "\n"
          ]
        }
      ]
    },
    {
      "cell_type": "code",
      "source": [
        "#dropando itens duplicados, selecionando uma coluna e ordenando asc:\n",
        "df_aux = df.dropDuplicates([\"item_name\"])\n",
        "\n",
        "df_aux.select(\"item_name\").sort(f.col(\"item_name\").asc()).show(5)"
      ],
      "metadata": {
        "colab": {
          "base_uri": "https://localhost:8080/"
        },
        "id": "mY_XJNKyKmFW",
        "outputId": "247a6e5c-d962-4df7-d599-01c0da054290"
      },
      "execution_count": null,
      "outputs": [
        {
          "output_type": "stream",
          "name": "stdout",
          "text": [
            "+--------------------+\n",
            "|           item_name|\n",
            "+--------------------+\n",
            "|   6 Pack Soft Drink|\n",
            "|       Barbacoa Bowl|\n",
            "|    Barbacoa Burrito|\n",
            "|Barbacoa Crispy T...|\n",
            "| Barbacoa Salad Bowl|\n",
            "+--------------------+\n",
            "only showing top 5 rows\n",
            "\n"
          ]
        }
      ]
    },
    {
      "cell_type": "markdown",
      "source": [
        "# 5 Qual foi a quantidade do item mais caro encomendado?"
      ],
      "metadata": {
        "id": "B_smJ6Rmn3cf"
      }
    },
    {
      "cell_type": "code",
      "source": [
        "df.show(5)"
      ],
      "metadata": {
        "colab": {
          "base_uri": "https://localhost:8080/"
        },
        "id": "zIqCi5kIQmkq",
        "outputId": "050c3f32-1e7a-41e6-8267-abdc961ab0b5"
      },
      "execution_count": null,
      "outputs": [
        {
          "output_type": "stream",
          "name": "stdout",
          "text": [
            "+--------+--------+--------------------+--------------------+----------+\n",
            "|order_id|quantity|           item_name|  choice_description|item_price|\n",
            "+--------+--------+--------------------+--------------------+----------+\n",
            "|       1|       1|Chips and Fresh T...|                NULL|    $2.39 |\n",
            "|       1|       1|                Izze|        [Clementine]|    $3.39 |\n",
            "|       1|       1|    Nantucket Nectar|             [Apple]|    $3.39 |\n",
            "|       1|       1|Chips and Tomatil...|                NULL|    $2.39 |\n",
            "|       2|       2|        Chicken Bowl|[Tomatillo-Red Ch...|   $16.98 |\n",
            "+--------+--------+--------------------+--------------------+----------+\n",
            "only showing top 5 rows\n",
            "\n"
          ]
        }
      ]
    },
    {
      "cell_type": "code",
      "source": [
        "#SPARK SQK\n",
        "spark.sql('''\n",
        "          SELECT\n",
        "            QUANTITY,\n",
        "            MAX(new_item_price) AS MAX_PRICE\n",
        "          FROM CHIPOTLE\n",
        "          GROUP BY QUANTITY\n",
        "          ORDER BY MAX_PRICE DESC\n",
        "          LIMIT 1\n",
        "        ''').show(5)"
      ],
      "metadata": {
        "colab": {
          "base_uri": "https://localhost:8080/"
        },
        "id": "62fQbPMWRiRn",
        "outputId": "6123b70c-fc40-43da-a1da-e2e4aae56f47"
      },
      "execution_count": null,
      "outputs": [
        {
          "output_type": "stream",
          "name": "stdout",
          "text": [
            "+--------+---------+\n",
            "|QUANTITY|MAX_PRICE|\n",
            "+--------+---------+\n",
            "|      15|    44.25|\n",
            "+--------+---------+\n",
            "\n"
          ]
        }
      ]
    },
    {
      "cell_type": "code",
      "source": [
        "# item mais caro\n",
        "df.select(f.max(df.new_item_price)).show()"
      ],
      "metadata": {
        "colab": {
          "base_uri": "https://localhost:8080/"
        },
        "id": "mpPUb-A-QrgG",
        "outputId": "88ff5b02-e5a2-45da-b4b3-d3a6c46865cc"
      },
      "execution_count": null,
      "outputs": [
        {
          "output_type": "stream",
          "name": "stdout",
          "text": [
            "+-------------------+\n",
            "|max(new_item_price)|\n",
            "+-------------------+\n",
            "|              44.25|\n",
            "+-------------------+\n",
            "\n"
          ]
        }
      ]
    },
    {
      "cell_type": "code",
      "source": [
        "#SQL FUNCTION"
      ],
      "metadata": {
        "id": "HnS6bXC9QnBZ"
      },
      "execution_count": null,
      "outputs": []
    },
    {
      "cell_type": "code",
      "source": [
        "df.show(5)"
      ],
      "metadata": {
        "colab": {
          "base_uri": "https://localhost:8080/"
        },
        "id": "I5Jz6yCorIsR",
        "outputId": "43fb34ee-ef25-40a9-9ef1-7fadbf9e505f"
      },
      "execution_count": null,
      "outputs": [
        {
          "output_type": "stream",
          "name": "stdout",
          "text": [
            "+--------+--------+--------------------+--------------------+----------+\n",
            "|order_id|quantity|           item_name|  choice_description|item_price|\n",
            "+--------+--------+--------------------+--------------------+----------+\n",
            "|       1|       1|Chips and Fresh T...|                NULL|    $2.39 |\n",
            "|       1|       1|                Izze|        [Clementine]|    $3.39 |\n",
            "|       1|       1|    Nantucket Nectar|             [Apple]|    $3.39 |\n",
            "|       1|       1|Chips and Tomatil...|                NULL|    $2.39 |\n",
            "|       2|       2|        Chicken Bowl|[Tomatillo-Red Ch...|   $16.98 |\n",
            "+--------+--------+--------------------+--------------------+----------+\n",
            "only showing top 5 rows\n",
            "\n"
          ]
        }
      ]
    },
    {
      "cell_type": "code",
      "source": [
        "new_df = df.groupBy(\"quantity\").agg(f.max(\"new_item_price\"))\n",
        "new_df.sort(f.col(\"max(new_item_price)\").desc()).show(1)"
      ],
      "metadata": {
        "colab": {
          "base_uri": "https://localhost:8080/"
        },
        "id": "TAZajwRnoTlm",
        "outputId": "3595c5a4-41a3-4bb7-fab3-6c21790a7287"
      },
      "execution_count": null,
      "outputs": [
        {
          "output_type": "stream",
          "name": "stdout",
          "text": [
            "+--------+-------------------+\n",
            "|quantity|max(new_item_price)|\n",
            "+--------+-------------------+\n",
            "|      15|              44.25|\n",
            "+--------+-------------------+\n",
            "only showing top 1 row\n",
            "\n"
          ]
        }
      ]
    },
    {
      "cell_type": "markdown",
      "source": [
        "# 6 - Quantas vezes um Veggie Salad Bowl foi pedido?"
      ],
      "metadata": {
        "id": "6cTA13Tkrdd6"
      }
    },
    {
      "cell_type": "code",
      "source": [
        "df.show(5)"
      ],
      "metadata": {
        "colab": {
          "base_uri": "https://localhost:8080/"
        },
        "id": "XChFwTOXrArE",
        "outputId": "b0be7a19-5cd9-463c-e82a-fa80593e0106"
      },
      "execution_count": null,
      "outputs": [
        {
          "output_type": "stream",
          "name": "stdout",
          "text": [
            "+--------+--------+--------------------+--------------------+--------------+\n",
            "|order_id|quantity|           item_name|  choice_description|new_item_price|\n",
            "+--------+--------+--------------------+--------------------+--------------+\n",
            "|       1|       1|Chips and Fresh T...|                NULL|          2.39|\n",
            "|       1|       1|                Izze|        [Clementine]|          3.39|\n",
            "|       1|       1|    Nantucket Nectar|             [Apple]|          3.39|\n",
            "|       1|       1|Chips and Tomatil...|                NULL|          2.39|\n",
            "|       2|       2|        Chicken Bowl|[Tomatillo-Red Ch...|         16.98|\n",
            "+--------+--------+--------------------+--------------------+--------------+\n",
            "only showing top 5 rows\n",
            "\n"
          ]
        }
      ]
    },
    {
      "cell_type": "code",
      "source": [
        "#SPARK SQL\n",
        "spark.sql('''\n",
        "          SELECT\n",
        "            ITEM_NAME,\n",
        "            COUNT(ORDER_ID) AS VENDAS\n",
        "          FROM CHIPOTLE\n",
        "          WHERE ITEM_NAME = 'Veggie Salad Bowl'\n",
        "          GROUP BY ITEM_NAME\n",
        "        ''').show(5)"
      ],
      "metadata": {
        "colab": {
          "base_uri": "https://localhost:8080/"
        },
        "id": "YRAzsDzjrZfp",
        "outputId": "bd08f0a2-7cf5-4eea-82fe-efb127d3217a"
      },
      "execution_count": null,
      "outputs": [
        {
          "output_type": "stream",
          "name": "stdout",
          "text": [
            "+-----------------+------+\n",
            "|        ITEM_NAME|VENDAS|\n",
            "+-----------------+------+\n",
            "|Veggie Salad Bowl|    18|\n",
            "+-----------------+------+\n",
            "\n"
          ]
        }
      ]
    },
    {
      "cell_type": "code",
      "source": [
        "#SQL FUNCTION"
      ],
      "metadata": {
        "id": "v187lF4crZ7J"
      },
      "execution_count": null,
      "outputs": []
    },
    {
      "cell_type": "code",
      "source": [
        "df.filter(f.col(\"item_name\") == \"Veggie Salad Bowl\").count()"
      ],
      "metadata": {
        "colab": {
          "base_uri": "https://localhost:8080/"
        },
        "id": "GpdMD3HAsRd3",
        "outputId": "3c7c851a-0e97-454c-d33e-d964ca124588"
      },
      "execution_count": null,
      "outputs": [
        {
          "output_type": "execute_result",
          "data": {
            "text/plain": [
              "18"
            ]
          },
          "metadata": {},
          "execution_count": 117
        }
      ]
    },
    {
      "cell_type": "code",
      "source": [
        "new_df_2 = df.filter(f.col(\"item_name\") == \"Veggie Salad Bowl\")"
      ],
      "metadata": {
        "id": "_zxbsDzgr-il"
      },
      "execution_count": null,
      "outputs": []
    },
    {
      "cell_type": "code",
      "source": [
        "new_df_2.groupBy(\"item_name\").agg(f.sum(\"quantity\")).show()"
      ],
      "metadata": {
        "colab": {
          "base_uri": "https://localhost:8080/"
        },
        "id": "TSJXDosusWpw",
        "outputId": "6e528cb0-2d30-436f-f1db-503793ca8953"
      },
      "execution_count": null,
      "outputs": [
        {
          "output_type": "stream",
          "name": "stdout",
          "text": [
            "+-----------------+-------------+\n",
            "|        item_name|sum(quantity)|\n",
            "+-----------------+-------------+\n",
            "|Veggie Salad Bowl|           18|\n",
            "+-----------------+-------------+\n",
            "\n"
          ]
        }
      ]
    },
    {
      "cell_type": "markdown",
      "source": [
        "# 7 - Quantas vezes alguém pediu mais de um refrigerante em lata : Canned Soda?"
      ],
      "metadata": {
        "id": "-600PMN_uPba"
      }
    },
    {
      "cell_type": "code",
      "source": [
        "df.show(5)"
      ],
      "metadata": {
        "colab": {
          "base_uri": "https://localhost:8080/"
        },
        "id": "SReoAQK0shfw",
        "outputId": "e1960f7c-b234-4fa0-95cb-b8b6ad110fa9"
      },
      "execution_count": null,
      "outputs": [
        {
          "output_type": "stream",
          "name": "stdout",
          "text": [
            "+--------+--------+--------------------+--------------------+--------------+\n",
            "|order_id|quantity|           item_name|  choice_description|new_item_price|\n",
            "+--------+--------+--------------------+--------------------+--------------+\n",
            "|       1|       1|Chips and Fresh T...|                NULL|          2.39|\n",
            "|       1|       1|                Izze|        [Clementine]|          3.39|\n",
            "|       1|       1|    Nantucket Nectar|             [Apple]|          3.39|\n",
            "|       1|       1|Chips and Tomatil...|                NULL|          2.39|\n",
            "|       2|       2|        Chicken Bowl|[Tomatillo-Red Ch...|         16.98|\n",
            "+--------+--------+--------------------+--------------------+--------------+\n",
            "only showing top 5 rows\n",
            "\n"
          ]
        }
      ]
    },
    {
      "cell_type": "code",
      "source": [
        "#SQL FUNCTION\n",
        "df.filter((f.col(\"item_name\") == \"Canned Soda\") & (f.col(\"quantity\") > 1)).count()"
      ],
      "metadata": {
        "id": "W9w5sC6UulWn",
        "colab": {
          "base_uri": "https://localhost:8080/"
        },
        "outputId": "37d015ac-debb-4a87-93ee-8b33edfa06d9"
      },
      "execution_count": null,
      "outputs": [
        {
          "output_type": "execute_result",
          "data": {
            "text/plain": [
              "20"
            ]
          },
          "metadata": {},
          "execution_count": 125
        }
      ]
    },
    {
      "cell_type": "code",
      "source": [
        "#SPARK SQL\n",
        "spark.sql('''\n",
        "          SELECT\n",
        "            ITEM_NAME,\n",
        "            COUNT(ORDER_ID) AS VENDAS\n",
        "          FROM CHIPOTLE\n",
        "          WHERE ITEM_NAME = 'Canned Soda'\n",
        "          AND QUANTITY > 1\n",
        "          GROUP BY ITEM_NAME\n",
        "        ''').show(5)"
      ],
      "metadata": {
        "colab": {
          "base_uri": "https://localhost:8080/"
        },
        "id": "piHfU3JYsjD4",
        "outputId": "d79732b9-f2a2-4f3c-d337-f5103de0ea22"
      },
      "execution_count": null,
      "outputs": [
        {
          "output_type": "stream",
          "name": "stdout",
          "text": [
            "+-----------+------+\n",
            "|  ITEM_NAME|VENDAS|\n",
            "+-----------+------+\n",
            "|Canned Soda|    20|\n",
            "+-----------+------+\n",
            "\n"
          ]
        }
      ]
    },
    {
      "cell_type": "markdown",
      "source": [
        "# 8 - Salvar em parquet"
      ],
      "metadata": {
        "id": "kEEvKRi1vSrP"
      }
    },
    {
      "cell_type": "code",
      "source": [
        "#salva compactado\n",
        "\n",
        "df.write.mode(\"overwrite\").parquet(\"./export/df_chipotle.parquet\")\n",
        "\n",
        "#pode criar vários arquivos, com inicial \"part\", a depender do tamanho"
      ],
      "metadata": {
        "id": "0y8lxJu2u7Lo"
      },
      "execution_count": null,
      "outputs": []
    },
    {
      "cell_type": "markdown",
      "source": [
        "# 9 - Ler do parquet"
      ],
      "metadata": {
        "id": "chXGa0xdujJg"
      }
    },
    {
      "cell_type": "code",
      "source": [
        "df_x = spark.read.parquet(\"./export/df_chipotle.parquet\")"
      ],
      "metadata": {
        "id": "fN_cLe6TwveK"
      },
      "execution_count": null,
      "outputs": []
    },
    {
      "cell_type": "code",
      "source": [
        "df_x.printSchema()"
      ],
      "metadata": {
        "colab": {
          "base_uri": "https://localhost:8080/"
        },
        "id": "sYAtHdlYw8h3",
        "outputId": "50278d02-57d5-450b-ddc4-f5567660c44c"
      },
      "execution_count": null,
      "outputs": [
        {
          "output_type": "stream",
          "name": "stdout",
          "text": [
            "root\n",
            " |-- order_id: integer (nullable = true)\n",
            " |-- quantity: integer (nullable = true)\n",
            " |-- item_name: string (nullable = true)\n",
            " |-- choice_description: string (nullable = true)\n",
            " |-- new_item_price: float (nullable = true)\n",
            "\n"
          ]
        }
      ]
    },
    {
      "cell_type": "code",
      "source": [
        "df_x.show(5)"
      ],
      "metadata": {
        "id": "-dmuo9sQw94V",
        "colab": {
          "base_uri": "https://localhost:8080/"
        },
        "outputId": "c8c496f2-4900-4076-d5f2-ba7befb84432"
      },
      "execution_count": null,
      "outputs": [
        {
          "output_type": "stream",
          "name": "stdout",
          "text": [
            "+--------+--------+--------------------+--------------------+--------------+\n",
            "|order_id|quantity|           item_name|  choice_description|new_item_price|\n",
            "+--------+--------+--------------------+--------------------+--------------+\n",
            "|       1|       1|Chips and Fresh T...|                NULL|          2.39|\n",
            "|       1|       1|                Izze|        [Clementine]|          3.39|\n",
            "|       1|       1|    Nantucket Nectar|             [Apple]|          3.39|\n",
            "|       1|       1|Chips and Tomatil...|                NULL|          2.39|\n",
            "|       2|       2|        Chicken Bowl|[Tomatillo-Red Ch...|         16.98|\n",
            "+--------+--------+--------------------+--------------------+--------------+\n",
            "only showing top 5 rows\n",
            "\n"
          ]
        }
      ]
    }
  ]
}