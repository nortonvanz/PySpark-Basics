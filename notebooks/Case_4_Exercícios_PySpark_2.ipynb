{
  "nbformat": 4,
  "nbformat_minor": 0,
  "metadata": {
    "colab": {
      "provenance": [],
      "collapsed_sections": [
        "pfYl11bGR33o",
        "YHtvf4DPhSN8",
        "ZAWsk4FzRMEu",
        "WTSTyl1pRQ-T",
        "1mlFTvlWhesq",
        "f3Ft3EQ_hhra",
        "ux90WAOrhxKI",
        "8Aakl-WoiCm5",
        "yQ_Jcgk6i4G8"
      ],
      "include_colab_link": true
    },
    "kernelspec": {
      "name": "python3",
      "display_name": "Python 3"
    },
    "language_info": {
      "name": "python"
    }
  },
  "cells": [
    {
      "cell_type": "markdown",
      "metadata": {
        "id": "view-in-github",
        "colab_type": "text"
      },
      "source": [
        "<a href=\"https://colab.research.google.com/github/nortonvanz/PySpark-Basics/blob/main/notebooks/Case_4_Exerc%C3%ADcios_PySpark_2.ipynb\" target=\"_parent\"><img src=\"https://colab.research.google.com/assets/colab-badge.svg\" alt=\"Open In Colab\"/></a>"
      ]
    },
    {
      "cell_type": "markdown",
      "source": [
        "## Imports"
      ],
      "metadata": {
        "id": "pfYl11bGR33o"
      }
    },
    {
      "cell_type": "code",
      "execution_count": 1,
      "metadata": {
        "id": "Kd07jSam-Lv0"
      },
      "outputs": [],
      "source": [
        "!apt-get install openjdk-8-jdk-headless -qq > /dev/null\n",
        "!wget -q https://archive.apache.org/dist/spark/spark-3.3.1/spark-3.3.1-bin-hadoop2.tgz\n",
        "!tar xf spark-3.3.1-bin-hadoop2.tgz\n",
        "!pip install -q findspark"
      ]
    },
    {
      "cell_type": "code",
      "source": [
        "import os\n",
        "os.environ[\"JAVA_HOME\"] = \"/usr/lib/jvm/java-8-openjdk-amd64\"\n",
        "os.environ[\"SPARK_HOME\"] = \"/content/spark-3.3.1-bin-hadoop2\""
      ],
      "metadata": {
        "id": "iVaw5YmTflTi"
      },
      "execution_count": 2,
      "outputs": []
    },
    {
      "cell_type": "code",
      "source": [
        "import findspark\n",
        "findspark.init()"
      ],
      "metadata": {
        "id": "6Lm5PcbCGKEM"
      },
      "execution_count": 3,
      "outputs": []
    },
    {
      "cell_type": "code",
      "source": [
        "from pyspark.sql import SparkSession\n",
        "from pyspark.sql.functions import *\n",
        "\n",
        "spark = SparkSession.builder \\\n",
        "    .master('local[*]') \\\n",
        "    .appName('Iniciando com Spark') \\\n",
        "    .config('spark.ui.port', '4050') \\\n",
        "    .getOrCreate()"
      ],
      "metadata": {
        "id": "G96d21LeGPGK"
      },
      "execution_count": 4,
      "outputs": []
    },
    {
      "cell_type": "code",
      "source": [
        "import pyspark.pandas as ps"
      ],
      "metadata": {
        "colab": {
          "base_uri": "https://localhost:8080/"
        },
        "id": "0gx5EveNPS3B",
        "outputId": "29f71b9e-99ee-4179-fceb-8aab29c413e6"
      },
      "execution_count": 6,
      "outputs": [
        {
          "output_type": "stream",
          "name": "stderr",
          "text": [
            "WARNING:root:'PYARROW_IGNORE_TIMEZONE' environment variable was not set. It is required to set this environment variable to '1' in both driver and executor sides if you use pyarrow>=2.0.0. pandas-on-Spark will set it for you but it does not work if there is a Spark context already launched.\n"
          ]
        }
      ]
    },
    {
      "cell_type": "markdown",
      "source": [
        "## Load datasets do Colab"
      ],
      "metadata": {
        "id": "YHtvf4DPhSN8"
      }
    },
    {
      "cell_type": "code",
      "source": [
        "ps.re"
      ],
      "metadata": {
        "id": "4R6VwJmyPasz"
      },
      "execution_count": null,
      "outputs": []
    },
    {
      "cell_type": "code",
      "source": [
        "!wget --quiet --show-progress https://raw.githubusercontent.com/hadley/data-baby-names/master/births.csv\n",
        "!wget --quiet --show-progress https://raw.githubusercontent.com/hadley/data-baby-names/master/baby-names-by-state.csv"
      ],
      "metadata": {
        "colab": {
          "base_uri": "https://localhost:8080/"
        },
        "id": "8VgUI1XTGSt-",
        "outputId": "525a75f4-fdd8-489d-a82f-73463a6e0f36"
      },
      "execution_count": 5,
      "outputs": [
        {
          "output_type": "stream",
          "name": "stdout",
          "text": [
            "births.csv          100%[===================>]  57.84K  --.-KB/s    in 0.01s   \n",
            "baby-names-by-state 100%[===================>]  13.85M  --.-KB/s    in 0.1s    \n"
          ]
        }
      ]
    },
    {
      "cell_type": "markdown",
      "source": [
        "## Load with Spark Pandas"
      ],
      "metadata": {
        "id": "ZAWsk4FzRMEu"
      }
    },
    {
      "cell_type": "code",
      "source": [
        "#usando o pandas:\n",
        "dfbirth = ps.read_csv('births.csv')\n",
        "dfbaby = ps.read_csv('baby-names-by-state.csv')"
      ],
      "metadata": {
        "id": "4d0eNue5Yvvf"
      },
      "execution_count": 22,
      "outputs": []
    },
    {
      "cell_type": "code",
      "source": [
        "dfbirth.head(3)"
      ],
      "metadata": {
        "colab": {
          "base_uri": "https://localhost:8080/",
          "height": 143
        },
        "id": "d2j1SmvKQibo",
        "outputId": "95ffd46e-b930-430e-e4d9-5d8ea3c96557"
      },
      "execution_count": 27,
      "outputs": [
        {
          "output_type": "execute_result",
          "data": {
            "text/plain": [
              "   year state  sex  births\n",
              "0  1981    AK  boy    4721\n",
              "1  1982    AK  boy    5139\n",
              "2  1983    AK  boy    5662"
            ],
            "text/html": [
              "<div>\n",
              "<style scoped>\n",
              "    .dataframe tbody tr th:only-of-type {\n",
              "        vertical-align: middle;\n",
              "    }\n",
              "\n",
              "    .dataframe tbody tr th {\n",
              "        vertical-align: top;\n",
              "    }\n",
              "\n",
              "    .dataframe thead th {\n",
              "        text-align: right;\n",
              "    }\n",
              "</style>\n",
              "<table border=\"1\" class=\"dataframe\">\n",
              "  <thead>\n",
              "    <tr style=\"text-align: right;\">\n",
              "      <th></th>\n",
              "      <th>year</th>\n",
              "      <th>state</th>\n",
              "      <th>sex</th>\n",
              "      <th>births</th>\n",
              "    </tr>\n",
              "  </thead>\n",
              "  <tbody>\n",
              "    <tr>\n",
              "      <th>0</th>\n",
              "      <td>1981</td>\n",
              "      <td>AK</td>\n",
              "      <td>boy</td>\n",
              "      <td>4721</td>\n",
              "    </tr>\n",
              "    <tr>\n",
              "      <th>1</th>\n",
              "      <td>1982</td>\n",
              "      <td>AK</td>\n",
              "      <td>boy</td>\n",
              "      <td>5139</td>\n",
              "    </tr>\n",
              "    <tr>\n",
              "      <th>2</th>\n",
              "      <td>1983</td>\n",
              "      <td>AK</td>\n",
              "      <td>boy</td>\n",
              "      <td>5662</td>\n",
              "    </tr>\n",
              "  </tbody>\n",
              "</table>\n",
              "</div>"
            ]
          },
          "metadata": {},
          "execution_count": 27
        }
      ]
    },
    {
      "cell_type": "code",
      "source": [
        "dfbaby.head(3)"
      ],
      "metadata": {
        "colab": {
          "base_uri": "https://localhost:8080/",
          "height": 143
        },
        "id": "ToFwDSfgP_Ia",
        "outputId": "9d03351b-ae2d-4bc3-9bfc-7281e3022aa8"
      },
      "execution_count": 29,
      "outputs": [
        {
          "output_type": "execute_result",
          "data": {
            "text/plain": [
              "  state  year     name number  sex\n",
              "0    AK  1960    David    151  boy\n",
              "1    AK  1960  Michael    139  boy\n",
              "2    AK  1960   Robert    135  boy"
            ],
            "text/html": [
              "<div>\n",
              "<style scoped>\n",
              "    .dataframe tbody tr th:only-of-type {\n",
              "        vertical-align: middle;\n",
              "    }\n",
              "\n",
              "    .dataframe tbody tr th {\n",
              "        vertical-align: top;\n",
              "    }\n",
              "\n",
              "    .dataframe thead th {\n",
              "        text-align: right;\n",
              "    }\n",
              "</style>\n",
              "<table border=\"1\" class=\"dataframe\">\n",
              "  <thead>\n",
              "    <tr style=\"text-align: right;\">\n",
              "      <th></th>\n",
              "      <th>state</th>\n",
              "      <th>year</th>\n",
              "      <th>name</th>\n",
              "      <th>number</th>\n",
              "      <th>sex</th>\n",
              "    </tr>\n",
              "  </thead>\n",
              "  <tbody>\n",
              "    <tr>\n",
              "      <th>0</th>\n",
              "      <td>AK</td>\n",
              "      <td>1960</td>\n",
              "      <td>David</td>\n",
              "      <td>151</td>\n",
              "      <td>boy</td>\n",
              "    </tr>\n",
              "    <tr>\n",
              "      <th>1</th>\n",
              "      <td>AK</td>\n",
              "      <td>1960</td>\n",
              "      <td>Michael</td>\n",
              "      <td>139</td>\n",
              "      <td>boy</td>\n",
              "    </tr>\n",
              "    <tr>\n",
              "      <th>2</th>\n",
              "      <td>AK</td>\n",
              "      <td>1960</td>\n",
              "      <td>Robert</td>\n",
              "      <td>135</td>\n",
              "      <td>boy</td>\n",
              "    </tr>\n",
              "  </tbody>\n",
              "</table>\n",
              "</div>"
            ]
          },
          "metadata": {},
          "execution_count": 29
        }
      ]
    },
    {
      "cell_type": "code",
      "source": [
        "#O problama é não conseguir usar SPARK SQL a partir do dataset do pandas. Vamos importar com o PySpark, pra seguir usando o SQPARK SQL."
      ],
      "metadata": {
        "id": "oncjrEoVRU_e"
      },
      "execution_count": null,
      "outputs": []
    },
    {
      "cell_type": "markdown",
      "source": [
        "## Load with PySpark"
      ],
      "metadata": {
        "id": "WTSTyl1pRQ-T"
      }
    },
    {
      "cell_type": "code",
      "source": [
        "df_birth = spark.read.csv(\"births.csv\", sep=\",\", inferSchema=True, header=True)\n",
        "df_baby = spark.read.csv(\"baby-names-by-state.csv\", sep=\",\", inferSchema=True, header=True)"
      ],
      "metadata": {
        "id": "US0lcpA4RpUj"
      },
      "execution_count": 31,
      "outputs": []
    },
    {
      "cell_type": "code",
      "source": [
        "#SPARK SQL\n",
        "df_birth.createOrReplaceTempView(\"BIRTH\")\n",
        "df_baby.createOrReplaceTempView(\"BABY\")"
      ],
      "metadata": {
        "id": "fJxLvEvOU2pi"
      },
      "execution_count": 32,
      "outputs": []
    },
    {
      "cell_type": "code",
      "source": [
        "spark.sql('''\n",
        "          SELECT * FROM BIRTH\n",
        "        ''').show(3)"
      ],
      "metadata": {
        "colab": {
          "base_uri": "https://localhost:8080/"
        },
        "id": "2vnJ0U-KSXy_",
        "outputId": "7280c088-10a7-4bf6-e74d-64f8c91693c0"
      },
      "execution_count": 37,
      "outputs": [
        {
          "output_type": "stream",
          "name": "stdout",
          "text": [
            "+----+-----+---+------+\n",
            "|year|state|sex|births|\n",
            "+----+-----+---+------+\n",
            "|1981|   AK|boy|  4721|\n",
            "|1982|   AK|boy|  5139|\n",
            "|1983|   AK|boy|  5662|\n",
            "+----+-----+---+------+\n",
            "only showing top 3 rows\n",
            "\n"
          ]
        }
      ]
    },
    {
      "cell_type": "code",
      "source": [
        "spark.sql('''\n",
        "          SELECT * FROM BABY\n",
        "        ''').show(3)"
      ],
      "metadata": {
        "colab": {
          "base_uri": "https://localhost:8080/"
        },
        "id": "NuIHQysFScGJ",
        "outputId": "a1c6e94c-df99-4f3f-aec1-9147f9b3f8fe"
      },
      "execution_count": 38,
      "outputs": [
        {
          "output_type": "stream",
          "name": "stdout",
          "text": [
            "+-----+----+-------+------+---+\n",
            "|state|year|   name|number|sex|\n",
            "+-----+----+-------+------+---+\n",
            "|   AK|1960|  David|   151|boy|\n",
            "|   AK|1960|Michael|   139|boy|\n",
            "|   AK|1960| Robert|   135|boy|\n",
            "+-----+----+-------+------+---+\n",
            "only showing top 3 rows\n",
            "\n"
          ]
        }
      ]
    },
    {
      "cell_type": "markdown",
      "source": [
        "# Questões de Negócio"
      ],
      "metadata": {
        "id": "52R3pZ7USDNH"
      }
    },
    {
      "cell_type": "markdown",
      "source": [
        "## 1. Quantidade de bebes (por sexo) nascidos por estado"
      ],
      "metadata": {
        "id": "1mlFTvlWhesq"
      }
    },
    {
      "cell_type": "code",
      "source": [
        "spark.sql('''\n",
        "          SELECT * FROM BIRTH\n",
        "\n",
        "        ''').show(5)"
      ],
      "metadata": {
        "id": "FsklK1fYSW3-"
      },
      "execution_count": null,
      "outputs": []
    },
    {
      "cell_type": "code",
      "source": [
        "spark.sql('''\n",
        "          SELECT * FROM BIRTH\n",
        "\n",
        "        ''').show(5)"
      ],
      "metadata": {
        "id": "Q4DzyVFl9d_P",
        "colab": {
          "base_uri": "https://localhost:8080/"
        },
        "outputId": "7db588fa-f8ea-4672-c36b-77e473eea836"
      },
      "execution_count": 34,
      "outputs": [
        {
          "output_type": "stream",
          "name": "stdout",
          "text": [
            "+----+-----+---+------+\n",
            "|year|state|sex|births|\n",
            "+----+-----+---+------+\n",
            "|1981|   AK|boy|  4721|\n",
            "|1982|   AK|boy|  5139|\n",
            "|1983|   AK|boy|  5662|\n",
            "|1984|   AK|boy|  5909|\n",
            "|1985|   AK|boy|  6413|\n",
            "+----+-----+---+------+\n",
            "only showing top 5 rows\n",
            "\n"
          ]
        }
      ]
    },
    {
      "cell_type": "code",
      "source": [
        "spark.sql('''\n",
        "          SELECT\n",
        "            STATE,\n",
        "            SEX,\n",
        "            SUM(NUMBER) AS NUM_BEBES\n",
        "           FROM BABY\n",
        "           GROUP BY STATE, SEX\n",
        "           ORDER BY 1,2\n",
        "        ''').show(6)"
      ],
      "metadata": {
        "colab": {
          "base_uri": "https://localhost:8080/"
        },
        "id": "8va1UZfB9Gw-",
        "outputId": "0f2b5a8e-aa8b-4309-b87d-156b66219382"
      },
      "execution_count": 47,
      "outputs": [
        {
          "output_type": "stream",
          "name": "stdout",
          "text": [
            "+-----+----+---------+\n",
            "|STATE| SEX|NUM_BEBES|\n",
            "+-----+----+---------+\n",
            "|   AK| boy| 148537.0|\n",
            "|   AK|girl| 104848.0|\n",
            "|   AL| boy| 974091.0|\n",
            "|   AL|girl| 733784.0|\n",
            "|   AR| boy| 568482.0|\n",
            "|   AR|girl| 428509.0|\n",
            "+-----+----+---------+\n",
            "only showing top 6 rows\n",
            "\n"
          ]
        }
      ]
    },
    {
      "cell_type": "markdown",
      "source": [
        "## 2. Rankei o nome mais comum da década por sexo"
      ],
      "metadata": {
        "id": "f3Ft3EQ_hhra"
      }
    },
    {
      "cell_type": "code",
      "source": [
        "#ver range de anos\n",
        "spark.sql('''\n",
        "          SELECT\n",
        "            MIN(YEAR),\n",
        "            MAX(YEAR)\n",
        "          FROM BABY\n",
        "        ''').show(3)"
      ],
      "metadata": {
        "colab": {
          "base_uri": "https://localhost:8080/"
        },
        "id": "FPEJBHjOWE3h",
        "outputId": "8bf8539f-6b9a-4acf-bd59-5b448dbcd8b0"
      },
      "execution_count": 67,
      "outputs": [
        {
          "output_type": "stream",
          "name": "stdout",
          "text": [
            "+---------+---------+\n",
            "|min(YEAR)|max(YEAR)|\n",
            "+---------+---------+\n",
            "|     1960|     2008|\n",
            "+---------+---------+\n",
            "\n"
          ]
        }
      ]
    },
    {
      "cell_type": "code",
      "source": [
        "spark.sql('''\n",
        "          WITH FULL_BABY AS (\n",
        "            SELECT\n",
        "              YEAR, NAME, NUMBER, SEX,\n",
        "              CASE\n",
        "                WHEN year >= 1910 AND year < 1920 THEN 10\n",
        "                WHEN year >= 1930 AND year < 1940 THEN 30\n",
        "                WHEN year >= 1940 AND year < 1950 THEN 40\n",
        "                WHEN year >= 1950 AND year < 1960 THEN 50\n",
        "                WHEN year >= 1960 AND year < 1970 THEN 60\n",
        "                WHEN year >= 1970 AND year < 1980 THEN 70\n",
        "                WHEN year >= 1980 AND year < 1990 THEN 80\n",
        "                WHEN year >= 1990 AND year < 2000 THEN 90\n",
        "                WHEN year >= 2000 AND year < 2010 THEN 2000\n",
        "                WHEN year >= 2010 AND year < 2020 THEN 2010\n",
        "                WHEN year >= 2020 AND year < 2030 THEN 2020\n",
        "                ELSE NULL\n",
        "              END AS DECADE\n",
        "          FROM BABY\n",
        "          WHERE NAME IS NOT NULL\n",
        "        )\n",
        "        --SELECT NAME, NUMBER, SEX, DECADE FROM FULL_BABY\n",
        "\n",
        "\n",
        "        SELECT\n",
        "          DECADE, SEX, NAME\n",
        "        FROM (\n",
        "            SELECT DECADE, SEX, NAME,\n",
        "                  ROW_NUMBER() OVER (PARTITION BY DECADE, SEX ORDER BY SUM(NUMBER) DESC) AS rank\n",
        "            FROM FULL_BABY\n",
        "            GROUP BY DECADE, SEX, NAME\n",
        "        ) ranked\n",
        "        WHERE rank = 1;\n",
        "\n",
        "        ''').show(15)\n",
        "\n",
        "# Nesta consulta, a janela é particionada por década (DECADE) e sexo (SEX).\n",
        "# A soma das contagens (NUMBER) é calculada para cada nome dentro de cada década e sexo.\n",
        "# Em seguida, a função ROW_NUMBER() é usada para atribuir um número de linha a cada linha classificada pela soma em ordem decrescente dentro de cada partição.\n",
        "# A consulta externa filtra as linhas onde o número de linha é igual a 1, o que corresponde ao nome mais comum para cada década e sexo."
      ],
      "metadata": {
        "id": "tzeBjY-phjnA",
        "colab": {
          "base_uri": "https://localhost:8080/"
        },
        "outputId": "7553d1a8-b080-43a3-a379-13612fc979ce"
      },
      "execution_count": 99,
      "outputs": [
        {
          "output_type": "stream",
          "name": "stdout",
          "text": [
            "+------+----+--------+\n",
            "|DECADE| SEX|    NAME|\n",
            "+------+----+--------+\n",
            "|    60| boy| Michael|\n",
            "|    60|girl|    Lisa|\n",
            "|    70| boy| Michael|\n",
            "|    70|girl|Jennifer|\n",
            "|    80| boy| Michael|\n",
            "|    80|girl| Jessica|\n",
            "|    90| boy| Michael|\n",
            "|    90|girl| Jessica|\n",
            "|  2000| boy|   Jacob|\n",
            "|  2000|girl|   Emily|\n",
            "+------+----+--------+\n",
            "\n"
          ]
        }
      ]
    },
    {
      "cell_type": "markdown",
      "source": [
        "## 3. Rankei o nome mais comum da década por sexo em cada estado"
      ],
      "metadata": {
        "id": "ux90WAOrhxKI"
      }
    },
    {
      "cell_type": "code",
      "source": [
        "spark.sql('''\n",
        "          WITH FULL_BABY AS (\n",
        "            SELECT\n",
        "              YEAR, NAME, NUMBER, SEX, STATE,\n",
        "              CASE\n",
        "                WHEN year >= 1910 AND year < 1920 THEN 10\n",
        "                WHEN year >= 1930 AND year < 1940 THEN 30\n",
        "                WHEN year >= 1940 AND year < 1950 THEN 40\n",
        "                WHEN year >= 1950 AND year < 1960 THEN 50\n",
        "                WHEN year >= 1960 AND year < 1970 THEN 60\n",
        "                WHEN year >= 1970 AND year < 1980 THEN 70\n",
        "                WHEN year >= 1980 AND year < 1990 THEN 80\n",
        "                WHEN year >= 1990 AND year < 2000 THEN 90\n",
        "                WHEN year >= 2000 AND year < 2010 THEN 2000\n",
        "                WHEN year >= 2010 AND year < 2020 THEN 2010\n",
        "                WHEN year >= 2020 AND year < 2030 THEN 2020\n",
        "                ELSE NULL\n",
        "              END AS DECADE\n",
        "          FROM BABY\n",
        "          WHERE NAME IS NOT NULL\n",
        "        )\n",
        "        --SELECT NAME, NUMBER, SEX, DECADE FROM FULL_BABY\n",
        "\n",
        "\n",
        "        SELECT\n",
        "          DECADE, STATE, SEX, NAME\n",
        "        FROM (\n",
        "            SELECT DECADE, STATE, SEX, NAME,\n",
        "                  ROW_NUMBER() OVER (PARTITION BY DECADE, STATE, SEX ORDER BY SUM(NUMBER) DESC) AS rank\n",
        "            FROM FULL_BABY\n",
        "            GROUP BY DECADE, STATE, SEX, NAME\n",
        "        ) ranked\n",
        "        WHERE rank = 1;\n",
        "\n",
        "        ''').show(15)"
      ],
      "metadata": {
        "id": "Ng1ayiYUhqRg",
        "colab": {
          "base_uri": "https://localhost:8080/"
        },
        "outputId": "443ff620-d07b-4304-c870-1f48cd08f746"
      },
      "execution_count": 202,
      "outputs": [
        {
          "output_type": "stream",
          "name": "stdout",
          "text": [
            "+------+-----+----+-------+\n",
            "|DECADE|STATE| SEX|   NAME|\n",
            "+------+-----+----+-------+\n",
            "|    60|   AK| boy|Michael|\n",
            "|    60|   AK|girl|   Mary|\n",
            "|    60|   AL| boy|  James|\n",
            "|    60|   AL|girl|   Lisa|\n",
            "|    60|   AR| boy|  James|\n",
            "|    60|   AR|girl|   Lisa|\n",
            "|    60|   AZ| boy|  David|\n",
            "|    60|   AZ|girl|   Lisa|\n",
            "|    60|   CA| boy|Michael|\n",
            "|    60|   CA|girl|   Lisa|\n",
            "|    60|   CO| boy|Michael|\n",
            "|    60|   CO|girl|   Lisa|\n",
            "|    60|   CT| boy|Michael|\n",
            "|    60|   CT|girl|   Lisa|\n",
            "|    60|   DC| boy|Michael|\n",
            "+------+-----+----+-------+\n",
            "only showing top 15 rows\n",
            "\n"
          ]
        }
      ]
    },
    {
      "cell_type": "markdown",
      "source": [
        "## 4. Gerar um dataframe com as seguintes informações a artir dos dataframes existentes: ano de nascimento, nome, porcentagem que ele aparece por ano e salvar em parquet\n"
      ],
      "metadata": {
        "id": "8Aakl-WoiCm5"
      }
    },
    {
      "cell_type": "code",
      "source": [
        "df_perc = spark.sql('''\n",
        "        WITH FIRST AS (\n",
        "          SELECT\n",
        "            YEAR,\n",
        "            TRIM(NAME) AS NAME,\n",
        "            COUNT(TRIM(NAME)) AS NUM_NAMES\n",
        "\n",
        "          FROM BABY\n",
        "          WHERE YEAR = 2008\n",
        "          --AND NAME IN ('Henry', 'John')\n",
        "\n",
        "          AND NAME IS NOT NULL\n",
        "          AND YEAR IS NOT NULL\n",
        "          AND LENGTH(TRIM(NAME)) > 0\n",
        "          AND LENGTH(TRIM(YEAR)) > 0\n",
        "          AND TRIM(NAME) <> ''\n",
        "          AND TRIM(YEAR) <> ''\n",
        "\n",
        "          GROUP BY YEAR, NAME\n",
        "          )\n",
        "\n",
        "          SELECT\n",
        "              YEAR,\n",
        "              NAME,\n",
        "             CASE\n",
        "                  WHEN SUM(NUM_NAMES) OVER (PARTITION BY YEAR) > 0\n",
        "                  THEN ROUND((NUM_NAMES / CAST(SUM(NUM_NAMES) OVER (PARTITION BY YEAR) AS FLOAT)) * 100, 2)\n",
        "                  ELSE 0  -- ou qualquer valor padrão desejado\n",
        "              END AS PERCENTAGE\n",
        "          FROM FIRST\n",
        "          ORDER BY PERCENTAGE DESC;\n",
        "\n",
        "        ''')\n",
        "\n",
        "df_perc.show(3)\n",
        "#Apesar das tratativas nas condicionais, a para não fazer a divisão por zero, e casts, segue trazendo nome em branco.\n",
        "#Idealmente é necessário uma tratativa inicial nos dados, para remover nulos, caracteres em branco, e afins."
      ],
      "metadata": {
        "id": "ZtRV_dqNiXVQ",
        "colab": {
          "base_uri": "https://localhost:8080/"
        },
        "outputId": "cf76b5fe-9473-4870-9db3-b93cc568afcf"
      },
      "execution_count": 201,
      "outputs": [
        {
          "output_type": "stream",
          "name": "stdout",
          "text": [
            "+----+------+----------+\n",
            "|YEAR|  NAME|PERCENTAGE|\n",
            "+----+------+----------+\n",
            "|2008|      |      1.45|\n",
            "|2008| Riley|      0.74|\n",
            "|2008|Jordan|      0.61|\n",
            "+----+------+----------+\n",
            "only showing top 3 rows\n",
            "\n"
          ]
        }
      ]
    },
    {
      "cell_type": "code",
      "source": [
        "#Exportar em Parquet\n",
        "df_perc.write.mode(\"overwrite\").parquet(\"df_perc.parquet\")"
      ],
      "metadata": {
        "id": "qMWLKtLhiax0"
      },
      "execution_count": 196,
      "outputs": []
    },
    {
      "cell_type": "markdown",
      "source": [
        "## 5. Mostrar o nome mais escolhido para os bebes de todos os tempos"
      ],
      "metadata": {
        "id": "yQ_Jcgk6i4G8"
      }
    },
    {
      "cell_type": "code",
      "source": [
        "df_perc_saved = spark.read.parquet(\"df_perc.parquet\")\n",
        "df_perc_saved.show(5)"
      ],
      "metadata": {
        "colab": {
          "base_uri": "https://localhost:8080/"
        },
        "id": "q4lSMAJFrnh2",
        "outputId": "ec1cb6e9-bf3e-488e-e791-93a991055f09"
      },
      "execution_count": 198,
      "outputs": [
        {
          "output_type": "stream",
          "name": "stdout",
          "text": [
            "+----+------+----------+\n",
            "|YEAR|  NAME|PERCENTAGE|\n",
            "+----+------+----------+\n",
            "|2008|      |      1.45|\n",
            "|2008| Riley|      0.74|\n",
            "|2008|Jordan|      0.61|\n",
            "|2008|Peyton|      0.59|\n",
            "|2008|Jayden|      0.58|\n",
            "+----+------+----------+\n",
            "only showing top 5 rows\n",
            "\n"
          ]
        }
      ]
    },
    {
      "cell_type": "code",
      "source": [
        "spark.sql('''\n",
        "\n",
        "          SELECT\n",
        "            NAME,\n",
        "            COUNT(NAME) AS NUM_NAMES\n",
        "          FROM BABY\n",
        "          GROUP BY 1\n",
        "          ORDER BY 2 DESC\n",
        "\n",
        "        ''').show(10)\n",
        "\n",
        "#James"
      ],
      "metadata": {
        "id": "XQRbsU4_irUx",
        "colab": {
          "base_uri": "https://localhost:8080/"
        },
        "outputId": "1c818d0f-b1b9-4a4a-d672-a7a6648887b8"
      },
      "execution_count": 236,
      "outputs": [
        {
          "output_type": "stream",
          "name": "stdout",
          "text": [
            "+-----------+---------+\n",
            "|       NAME|NUM_NAMES|\n",
            "+-----------+---------+\n",
            "|           |     4264|\n",
            "|      James|     2451|\n",
            "|    William|     2451|\n",
            "|    Michael|     2451|\n",
            "|     Joseph|     2451|\n",
            "|  Elizabeth|     2451|\n",
            "|     Thomas|     2450|\n",
            "|     Daniel|     2450|\n",
            "|Christopher|     2450|\n",
            "|      David|     2450|\n",
            "+-----------+---------+\n",
            "only showing top 10 rows\n",
            "\n"
          ]
        }
      ]
    },
    {
      "cell_type": "code",
      "source": [],
      "metadata": {
        "id": "r5u1h4AEn5hN"
      },
      "execution_count": null,
      "outputs": []
    }
  ]
}